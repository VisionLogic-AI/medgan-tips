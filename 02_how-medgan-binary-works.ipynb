<!DOCTYPE html>
<html>
<head><meta charset="utf-8" />

<title>how-medgan-binary-works</title>

<script src="https://cdnjs.cloudflare.com/ajax/libs/require.js/2.1.10/require.min.js"></script>
<script src="https://cdnjs.cloudflare.com/ajax/libs/jquery/2.0.3/jquery.min.js"></script>



<style type="text/css">
    /*!
*
* Twitter Bootstrap
*
*/
/*!
 * Bootstrap v3.3.7 (http://getbootstrap.com)
 * Copyright 2011-2016 Twitter, Inc.
 * Licensed under MIT (https://github.com/twbs/bootstrap/blob/master/LICENSE)
 */
/*! normalize.css v3.0.3 | MIT License | github.com/necolas/normalize.css */
html {
  font-family: sans-serif;
  -ms-text-size-adjust: 100%;
  -webkit-text-size-adjust: 100%;
}
body {
  margin: 0;
}
article,
aside,
details,
figcaption,
figure,
footer,
header,
hgroup,
main,
menu,
nav,
section,
summary {
  display: block;
}
audio,
canvas,
progress,
video {
  display: inline-block;
  vertical-align: baseline;
}
audio:not([controls]) {
  display: none;
  height: 0;
}
[hidden],
template {
  display: none;
}
a {
  background-color: transparent;
}
a:active,
a:hover {
  outline: 0;
}
abbr[title] {
  border-bottom: 1px dotted;
}
b,
strong {
  font-weight: bold;
}
dfn {
  font-style: italic;
}
h1 {
  font-size: 2em;
  margin: 0.67em 0;
}
mark {
  background: #ff0;
  color: #000;
}
small {
  font-size: 80%;
}
sub,
sup {
  font-size: 75%;
  line-height: 0;
  position: relative;
  vertical-align: baseline;
}
sup {
  top: -0.5em;
}
sub {
  bottom: -0.25em;
}
img {
  border: 0;
}
svg:not(:root) {
  overflow: hidden;
}
figure {
  margin: 1em 40px;
}
hr {
  box-sizing: content-box;
  height: 0;
}
pre {
  overflow: auto;
}
code,
kbd,
pre,
samp {
  font-family: monospace, monospace;
  font-size: 1em;
}
button,
input,
optgroup,
select,
textarea {
  color: inherit;
  font: inherit;
  margin: 0;
}
button {
  overflow: visible;
}
button,
select {
  text-transform: none;
}
button,
html input[type="button"],
input[type="reset"],
input[type="submit"] {
  -webkit-appearance: button;
  cursor: pointer;
}
button[disabled],
html input[disabled] {
  cursor: default;
}
button::-moz-focus-inner,
input::-moz-focus-inner {
  border: 0;
  padding: 0;
}
input {
  line-height: normal;
}
input[type="checkbox"],
input[type="radio"] {
  box-sizing: border-box;
  padding: 0;
}
input[type="number"]::-webkit-inner-spin-button,
input[type="number"]::-webkit-outer-spin-button {
  height: auto;
}
input[type="search"] {
  -webkit-appearance: textfield;
  box-sizing: content-box;
}
input[type="search"]::-webkit-search-cancel-button,
input[type="search"]::-webkit-search-decoration {
  -webkit-appearance: none;
}
fieldset {
  border: 1px solid #c0c0c0;
  margin: 0 2px;
  padding: 0.35em 0.625em 0.75em;
}
legend {
  border: 0;
  padding: 0;
}
textarea {
  overflow: auto;
}
optgroup {
  font-weight: bold;
}
table {
  border-collapse: collapse;
  border-spacing: 0;
}
td,
th {
  padding: 0;
}
/*! Source: https://github.com/h5bp/html5-boilerplate/blob/master/src/css/main.css */
@media print {
  *,
  *:before,
  *:after {
    background: transparent !important;
    box-shadow: none !important;
    text-shadow: none !important;
  }
  a,
  a:visited {
    text-decoration: underline;
  }
  a[href]:after {
    content: " (" attr(href) ")";
  }
  abbr[title]:after {
    content: " (" attr(title) ")";
  }
  a[href^="#"]:after,
  a[href^="javascript:"]:after {
    content: "";
  }
  pre,
  blockquote {
    border: 1px solid #999;
    page-break-inside: avoid;
  }
  thead {
    display: table-header-group;
  }
  tr,
  img {
    page-break-inside: avoid;
  }
  img {
    max-width: 100% !important;
  }
  p,
  h2,
  h3 {
    orphans: 3;
    widows: 3;
  }
  h2,
  h3 {
    page-break-after: avoid;
  }
  .navbar {
    display: none;
  }
  .btn > .caret,
  .dropup > .btn > .caret {
    border-top-color: #000 !important;
  }
  .label {
    border: 1px solid #000;
  }
  .table {
    border-collapse: collapse !important;
  }
  .table td,
  .table th {
    background-color: #fff !important;
  }
  .table-bordered th,
  .table-bordered td {
    border: 1px solid #ddd !important;
  }
}
@font-face {
  font-family: 'Glyphicons Halflings';
  src: url('../components/bootstrap/fonts/glyphicons-halflings-regular.eot');
  src: url('../components/bootstrap/fonts/glyphicons-halflings-regular.eot?#iefix') format('embedded-opentype'), url('../components/bootstrap/fonts/glyphicons-halflings-regular.woff2') format('woff2'), url('../components/bootstrap/fonts/glyphicons-halflings-regular.woff') format('woff'), url('../components/bootstrap/fonts/glyphicons-halflings-regular.ttf') format('truetype'), url('../components/bootstrap/fonts/glyphicons-halflings-regular.svg#glyphicons_halflingsregular') format('svg');
}
.glyphicon {
  position: relative;
  top: 1px;
  display: inline-block;
  font-family: 'Glyphicons Halflings';
  font-style: normal;
  font-weight: normal;
  line-height: 1;
  -webkit-font-smoothing: antialiased;
  -moz-osx-font-smoothing: grayscale;
}
.glyphicon-asterisk:before {
  content: "\002a";
}
.glyphicon-plus:before {
  content: "\002b";
}
.glyphicon-euro:before,
.glyphicon-eur:before {
  content: "\20ac";
}
.glyphicon-minus:before {
  content: "\2212";
}
.glyphicon-cloud:before {
  content: "\2601";
}
.glyphicon-envelope:before {
  content: "\2709";
}
.glyphicon-pencil:before {
  content: "\270f";
}
.glyphicon-glass:before {
  content: "\e001";
}
.glyphicon-music:before {
  content: "\e002";
}
.glyphicon-search:before {
  content: "\e003";
}
.glyphicon-heart:before {
  content: "\e005";
}
.glyphicon-star:before {
  content: "\e006";
}
.glyphicon-star-empty:before {
  content: "\e007";
}
.glyphicon-user:before {
  content: "\e008";
}
.glyphicon-film:before {
  content: "\e009";
}
.glyphicon-th-large:before {
  content: "\e010";
}
.glyphicon-th:before {
  content: "\e011";
}
.glyphicon-th-list:before {
  content: "\e012";
}
.glyphicon-ok:before {
  content: "\e013";
}
.glyphicon-remove:before {
  content: "\e014";
}
.glyphicon-zoom-in:before {
  content: "\e015";
}
.glyphicon-zoom-out:before {
  content: "\e016";
}
.glyphicon-off:before {
  content: "\e017";
}
.glyphicon-signal:before {
  content: "\e018";
}
.glyphicon-cog:before {
  content: "\e019";
}
.glyphicon-trash:before {
  content: "\e020";
}
.glyphicon-home:before {
  content: "\e021";
}
.glyphicon-file:before {
  content: "\e022";
}
.glyphicon-time:before {
  content: "\e023";
}
.glyphicon-road:before {
  content: "\e024";
}
.glyphicon-download-alt:before {
  content: "\e025";
}
.glyphicon-download:before {
  content: "\e026";
}
.glyphicon-upload:before {
  content: "\e027";
}
.glyphicon-inbox:before {
  content: "\e028";
}
.glyphicon-play-circle:before {
  content: "\e029";
}
.glyphicon-repeat:before {
  content: "\e030";
}
.glyphicon-refresh:before {
  content: "\e031";
}
.glyphicon-list-alt:before {
  content: "\e032";
}
.glyphicon-lock:before {
  content: "\e033";
}
.glyphicon-flag:before {
  content: "\e034";
}
.glyphicon-headphones:before {
  content: "\e035";
}
.glyphicon-volume-off:before {
  content: "\e036";
}
.glyphicon-volume-down:before {
  content: "\e037";
}
.glyphicon-volume-up:before {
  content: "\e038";
}
.glyphicon-qrcode:before {
  content: "\e039";
}
.glyphicon-barcode:before {
  content: "\e040";
}
.glyphicon-tag:before {
  content: "\e041";
}
.glyphicon-tags:before {
  content: "\e042";
}
.glyphicon-book:before {
  content: "\e043";
}
.glyphicon-bookmark:before {
  content: "\e044";
}
.glyphicon-print:before {
  content: "\e045";
}
.glyphicon-camera:before {
  content: "\e046";
}
.glyphicon-font:before {
  content: "\e047";
}
.glyphicon-bold:before {
  content: "\e048";
}
.glyphicon-italic:before {
  content: "\e049";
}
.glyphicon-text-height:before {
  content: "\e050";
}
.glyphicon-text-width:before {
  content: "\e051";
}
.glyphicon-align-left:before {
  content: "\e052";
}
.glyphicon-align-center:before {
  content: "\e053";
}
.glyphicon-align-right:before {
  content: "\e054";
}
.glyphicon-align-justify:before {
  content: "\e055";
}
.glyphicon-list:before {
  content: "\e056";
}
.glyphicon-indent-left:before {
  content: "\e057";
}
.glyphicon-indent-right:before {
  content: "\e058";
}
.glyphicon-facetime-video:before {
  content: "\e059";
}
.glyphicon-picture:before {
  content: "\e060";
}
.glyphicon-map-marker:before {
  content: "\e062";
}
.glyphicon-adjust:before {
  content: "\e063";
}
.glyphicon-tint:before {
  content: "\e064";
}
.glyphicon-edit:before {
  content: "\e065";
}
.glyphicon-share:before {
  content: "\e066";
}
.glyphicon-check:before {
  content: "\e067";
}
.glyphicon-move:before {
  content: "\e068";
}
.glyphicon-step-backward:before {
  content: "\e069";
}
.glyphicon-fast-backward:before {
  content: "\e070";
}
.glyphicon-backward:before {
  content: "\e071";
}
.glyphicon-play:before {
  content: "\e072";
}
.glyphicon-pause:before {
  content: "\e073";
}
.glyphicon-stop:before {
  content: "\e074";
}
.glyphicon-forward:before {
  content: "\e075";
}
.glyphicon-fast-forward:before {
  content: "\e076";
}
.glyphicon-step-forward:before {
  content: "\e077";
}
.glyphicon-eject:before {
  content: "\e078";
}
.glyphicon-chevron-left:before {
  content: "\e079";
}
.glyphicon-chevron-right:before {
  content: "\e080";
}
.glyphicon-plus-sign:before {
  content: "\e081";
}
.glyphicon-minus-sign:before {
  content: "\e082";
}
.glyphicon-remove-sign:before {
  content: "\e083";
}
.glyphicon-ok-sign:before {
  content: "\e084";
}
.glyphicon-question-sign:before {
  content: "\e085";
}
.glyphicon-info-sign:before {
  content: "\e086";
}
.glyphicon-screenshot:before {
  content: "\e087";
}
.glyphicon-remove-circle:before {
  content: "\e088";
}
.glyphicon-ok-circle:before {
  content: "\e089";
}
.glyphicon-ban-circle:before {
  content: "\e090";
}
.glyphicon-arrow-left:before {
  content: "\e091";
}
.glyphicon-arrow-right:before {
  content: "\e092";
}
.glyphicon-arrow-up:before {
  content: "\e093";
}
.glyphicon-arrow-down:before {
  content: "\e094";
}
.glyphicon-share-alt:before {
  content: "\e095";
}
.glyphicon-resize-full:before {
  content: "\e096";
}
.glyphicon-resize-small:before {
  content: "\e097";
}
.glyphicon-exclamation-sign:before {
  content: "\e101";
}
.glyphicon-gift:before {
  content: "\e102";
}
.glyphicon-leaf:before {
  content: "\e103";
}
.glyphicon-fire:before {
  content: "\e104";
}
.glyphicon-eye-open:before {
  content: "\e105";
}
.glyphicon-eye-close:before {
  content: "\e106";
}
.glyphicon-warning-sign:before {
  content: "\e107";
}
.glyphicon-plane:before {
  content: "\e108";
}
.glyphicon-calendar:before {
  content: "\e109";
}
.glyphicon-random:before {
  content: "\e110";
}
.glyphicon-comment:before {
  content: "\e111";
}
.glyphicon-magnet:before {
  content: "\e112";
}
.glyphicon-chevron-up:before {
  content: "\e113";
}
.glyphicon-chevron-down:before {
  content: "\e114";
}
.glyphicon-retweet:before {
  content: "\e115";
}
.glyphicon-shopping-cart:before {
  content: "\e116";
}
.glyphicon-folder-close:before {
  content: "\e117";
}
.glyphicon-folder-open:before {
  content: "\e118";
}
.glyphicon-resize-vertical:before {
  content: "\e119";
}
.glyphicon-resize-horizontal:before {
  content: "\e120";
}
.glyphicon-hdd:before {
  content: "\e121";
}
.glyphicon-bullhorn:before {
  content: "\e122";
}
.glyphicon-bell:before {
  content: "\e123";
}
.glyphicon-certificate:before {
  content: "\e124";
}
.glyphicon-thumbs-up:before {
  content: "\e125";
}
.glyphicon-thumbs-down:before {
  content: "\e126";
}
.glyphicon-hand-right:before {
  content: "\e127";
}
.glyphicon-hand-left:before {
  content: "\e128";
}
.glyphicon-hand-up:before {
  content: "\e129";
}
.glyphicon-hand-down:before {
  content: "\e130";
}
.glyphicon-circle-arrow-right:before {
  content: "\e131";
}
.glyphicon-circle-arrow-left:before {
  content: "\e132";
}
.glyphicon-circle-arrow-up:before {
  content: "\e133";
}
.glyphicon-circle-arrow-down:before {
  content: "\e134";
}
.glyphicon-globe:before {
  content: "\e135";
}
.glyphicon-wrench:before {
  content: "\e136";
}
.glyphicon-tasks:before {
  content: "\e137";
}
.glyphicon-filter:before {
  content: "\e138";
}
.glyphicon-briefcase:before {
  content: "\e139";
}
.glyphicon-fullscreen:before {
  content: "\e140";
}
.glyphicon-dashboard:before {
  content: "\e141";
}
.glyphicon-paperclip:before {
  content: "\e142";
}
.glyphicon-heart-empty:before {
  content: "\e143";
}
.glyphicon-link:before {
  content: "\e144";
}
.glyphicon-phone:before {
  content: "\e145";
}
.glyphicon-pushpin:before {
  content: "\e146";
}
.glyphicon-usd:before {
  content: "\e148";
}
.glyphicon-gbp:before {
  content: "\e149";
}
.glyphicon-sort:before {
  content: "\e150";
}
.glyphicon-sort-by-alphabet:before {
  content: "\e151";
}
.glyphicon-sort-by-alphabet-alt:before {
  content: "\e152";
}
.glyphicon-sort-by-order:before {
  content: "\e153";
}
.glyphicon-sort-by-order-alt:before {
  content: "\e154";
}
.glyphicon-sort-by-attributes:before {
  content: "\e155";
}
.glyphicon-sort-by-attributes-alt:before {
  content: "\e156";
}
.glyphicon-unchecked:before {
  content: "\e157";
}
.glyphicon-expand:before {
  content: "\e158";
}
.glyphicon-collapse-down:before {
  content: "\e159";
}
.glyphicon-collapse-up:before {
  content: "\e160";
}
.glyphicon-log-in:before {
  content: "\e161";
}
.glyphicon-flash:before {
  content: "\e162";
}
.glyphicon-log-out:before {
  content: "\e163";
}
.glyphicon-new-window:before {
  content: "\e164";
}
.glyphicon-record:before {
  content: "\e165";
}
.glyphicon-save:before {
  content: "\e166";
}
.glyphicon-open:before {
  content: "\e167";
}
.glyphicon-saved:before {
  content: "\e168";
}
.glyphicon-import:before {
  content: "\e169";
}
.glyphicon-export:before {
  content: "\e170";
}
.glyphicon-send:before {
  content: "\e171";
}
.glyphicon-floppy-disk:before {
  content: "\e172";
}
.glyphicon-floppy-saved:before {
  content: "\e173";
}
.glyphicon-floppy-remove:before {
  content: "\e174";
}
.glyphicon-floppy-save:before {
  content: "\e175";
}
.glyphicon-floppy-open:before {
  content: "\e176";
}
.glyphicon-credit-card:before {
  content: "\e177";
}
.glyphicon-transfer:before {
  content: "\e178";
}
.glyphicon-cutlery:before {
  content: "\e179";
}
.glyphicon-header:before {
  content: "\e180";
}
.glyphicon-compressed:before {
  content: "\e181";
}
.glyphicon-earphone:before {
  content: "\e182";
}
.glyphicon-phone-alt:before {
  content: "\e183";
}
.glyphicon-tower:before {
  content: "\e184";
}
.glyphicon-stats:before {
  content: "\e185";
}
.glyphicon-sd-video:before {
  content: "\e186";
}
.glyphicon-hd-video:before {
  content: "\e187";
}
.glyphicon-subtitles:before {
  content: "\e188";
}
.glyphicon-sound-stereo:before {
  content: "\e189";
}
.glyphicon-sound-dolby:before {
  content: "\e190";
}
.glyphicon-sound-5-1:before {
  content: "\e191";
}
.glyphicon-sound-6-1:before {
  content: "\e192";
}
.glyphicon-sound-7-1:before {
  content: "\e193";
}
.glyphicon-copyright-mark:before {
  content: "\e194";
}
.glyphicon-registration-mark:before {
  content: "\e195";
}
.glyphicon-cloud-download:before {
  content: "\e197";
}
.glyphicon-cloud-upload:before {
  content: "\e198";
}
.glyphicon-tree-conifer:before {
  content: "\e199";
}
.glyphicon-tree-deciduous:before {
  content: "\e200";
}
.glyphicon-cd:before {
  content: "\e201";
}
.glyphicon-save-file:before {
  content: "\e202";
}
.glyphicon-open-file:before {
  content: "\e203";
}
.glyphicon-level-up:before {
  content: "\e204";
}
.glyphicon-copy:before {
  content: "\e205";
}
.glyphicon-paste:before {
  content: "\e206";
}
.glyphicon-alert:before {
  content: "\e209";
}
.glyphicon-equalizer:before {
  content: "\e210";
}
.glyphicon-king:before {
  content: "\e211";
}
.glyphicon-queen:before {
  content: "\e212";
}
.glyphicon-pawn:before {
  content: "\e213";
}
.glyphicon-bishop:before {
  content: "\e214";
}
.glyphicon-knight:before {
  content: "\e215";
}
.glyphicon-baby-formula:before {
  content: "\e216";
}
.glyphicon-tent:before {
  content: "\26fa";
}
.glyphicon-blackboard:before {
  content: "\e218";
}
.glyphicon-bed:before {
  content: "\e219";
}
.glyphicon-apple:before {
  content: "\f8ff";
}
.glyphicon-erase:before {
  content: "\e221";
}
.glyphicon-hourglass:before {
  content: "\231b";
}
.glyphicon-lamp:before {
  content: "\e223";
}
.glyphicon-duplicate:before {
  content: "\e224";
}
.glyphicon-piggy-bank:before {
  content: "\e225";
}
.glyphicon-scissors:before {
  content: "\e226";
}
.glyphicon-bitcoin:before {
  content: "\e227";
}
.glyphicon-btc:before {
  content: "\e227";
}
.glyphicon-xbt:before {
  content: "\e227";
}
.glyphicon-yen:before {
  content: "\00a5";
}
.glyphicon-jpy:before {
  content: "\00a5";
}
.glyphicon-ruble:before {
  content: "\20bd";
}
.glyphicon-rub:before {
  content: "\20bd";
}
.glyphicon-scale:before {
  content: "\e230";
}
.glyphicon-ice-lolly:before {
  content: "\e231";
}
.glyphicon-ice-lolly-tasted:before {
  content: "\e232";
}
.glyphicon-education:before {
  content: "\e233";
}
.glyphicon-option-horizontal:before {
  content: "\e234";
}
.glyphicon-option-vertical:before {
  content: "\e235";
}
.glyphicon-menu-hamburger:before {
  content: "\e236";
}
.glyphicon-modal-window:before {
  content: "\e237";
}
.glyphicon-oil:before {
  content: "\e238";
}
.glyphicon-grain:before {
  content: "\e239";
}
.glyphicon-sunglasses:before {
  content: "\e240";
}
.glyphicon-text-size:before {
  content: "\e241";
}
.glyphicon-text-color:before {
  content: "\e242";
}
.glyphicon-text-background:before {
  content: "\e243";
}
.glyphicon-object-align-top:before {
  content: "\e244";
}
.glyphicon-object-align-bottom:before {
  content: "\e245";
}
.glyphicon-object-align-horizontal:before {
  content: "\e246";
}
.glyphicon-object-align-left:before {
  content: "\e247";
}
.glyphicon-object-align-vertical:before {
  content: "\e248";
}
.glyphicon-object-align-right:before {
  content: "\e249";
}
.glyphicon-triangle-right:before {
  content: "\e250";
}
.glyphicon-triangle-left:before {
  content: "\e251";
}
.glyphicon-triangle-bottom:before {
  content: "\e252";
}
.glyphicon-triangle-top:before {
  content: "\e253";
}
.glyphicon-console:before {
  content: "\e254";
}
.glyphicon-superscript:before {
  content: "\e255";
}
.glyphicon-subscript:before {
  content: "\e256";
}
.glyphicon-menu-left:before {
  content: "\e257";
}
.glyphicon-menu-right:before {
  content: "\e258";
}
.glyphicon-menu-down:before {
  content: "\e259";
}
.glyphicon-menu-up:before {
  content: "\e260";
}
* {
  -webkit-box-sizing: border-box;
  -moz-box-sizing: border-box;
  box-sizing: border-box;
}
*:before,
*:after {
  -webkit-box-sizing: border-box;
  -moz-box-sizing: border-box;
  box-sizing: border-box;
}
html {
  font-size: 10px;
  -webkit-tap-highlight-color: rgba(0, 0, 0, 0);
}
body {
  font-family: "Helvetica Neue", Helvetica, Arial, sans-serif;
  font-size: 13px;
  line-height: 1.42857143;
  color: #000;
  background-color: #fff;
}
input,
button,
select,
textarea {
  font-family: inherit;
  font-size: inherit;
  line-height: inherit;
}
a {
  color: #337ab7;
  text-decoration: none;
}
a:hover,
a:focus {
  color: #23527c;
  text-decoration: underline;
}
a:focus {
  outline: 5px auto -webkit-focus-ring-color;
  outline-offset: -2px;
}
figure {
  margin: 0;
}
img {
  vertical-align: middle;
}
.img-responsive,
.thumbnail > img,
.thumbnail a > img,
.carousel-inner > .item > img,
.carousel-inner > .item > a > img {
  display: block;
  max-width: 100%;
  height: auto;
}
.img-rounded {
  border-radius: 3px;
}
.img-thumbnail {
  padding: 4px;
  line-height: 1.42857143;
  background-color: #fff;
  border: 1px solid #ddd;
  border-radius: 2px;
  -webkit-transition: all 0.2s ease-in-out;
  -o-transition: all 0.2s ease-in-out;
  transition: all 0.2s ease-in-out;
  display: inline-block;
  max-width: 100%;
  height: auto;
}
.img-circle {
  border-radius: 50%;
}
hr {
  margin-top: 18px;
  margin-bottom: 18px;
  border: 0;
  border-top: 1px solid #eeeeee;
}
.sr-only {
  position: absolute;
  width: 1px;
  height: 1px;
  margin: -1px;
  padding: 0;
  overflow: hidden;
  clip: rect(0, 0, 0, 0);
  border: 0;
}
.sr-only-focusable:active,
.sr-only-focusable:focus {
  position: static;
  width: auto;
  height: auto;
  margin: 0;
  overflow: visible;
  clip: auto;
}
[role="button"] {
  cursor: pointer;
}
h1,
h2,
h3,
h4,
h5,
h6,
.h1,
.h2,
.h3,
.h4,
.h5,
.h6 {
  font-family: inherit;
  font-weight: 500;
  line-height: 1.1;
  color: inherit;
}
h1 small,
h2 small,
h3 small,
h4 small,
h5 small,
h6 small,
.h1 small,
.h2 small,
.h3 small,
.h4 small,
.h5 small,
.h6 small,
h1 .small,
h2 .small,
h3 .small,
h4 .small,
h5 .small,
h6 .small,
.h1 .small,
.h2 .small,
.h3 .small,
.h4 .small,
.h5 .small,
.h6 .small {
  font-weight: normal;
  line-height: 1;
  color: #777777;
}
h1,
.h1,
h2,
.h2,
h3,
.h3 {
  margin-top: 18px;
  margin-bottom: 9px;
}
h1 small,
.h1 small,
h2 small,
.h2 small,
h3 small,
.h3 small,
h1 .small,
.h1 .small,
h2 .small,
.h2 .small,
h3 .small,
.h3 .small {
  font-size: 65%;
}
h4,
.h4,
h5,
.h5,
h6,
.h6 {
  margin-top: 9px;
  margin-bottom: 9px;
}
h4 small,
.h4 small,
h5 small,
.h5 small,
h6 small,
.h6 small,
h4 .small,
.h4 .small,
h5 .small,
.h5 .small,
h6 .small,
.h6 .small {
  font-size: 75%;
}
h1,
.h1 {
  font-size: 33px;
}
h2,
.h2 {
  font-size: 27px;
}
h3,
.h3 {
  font-size: 23px;
}
h4,
.h4 {
  font-size: 17px;
}
h5,
.h5 {
  font-size: 13px;
}
h6,
.h6 {
  font-size: 12px;
}
p {
  margin: 0 0 9px;
}
.lead {
  margin-bottom: 18px;
  font-size: 14px;
  font-weight: 300;
  line-height: 1.4;
}
@media (min-width: 768px) {
  .lead {
    font-size: 19.5px;
  }
}
small,
.small {
  font-size: 92%;
}
mark,
.mark {
  background-color: #fcf8e3;
  padding: .2em;
}
.text-left {
  text-align: left;
}
.text-right {
  text-align: right;
}
.text-center {
  text-align: center;
}
.text-justify {
  text-align: justify;
}
.text-nowrap {
  white-space: nowrap;
}
.text-lowercase {
  text-transform: lowercase;
}
.text-uppercase {
  text-transform: uppercase;
}
.text-capitalize {
  text-transform: capitalize;
}
.text-muted {
  color: #777777;
}
.text-primary {
  color: #337ab7;
}
a.text-primary:hover,
a.text-primary:focus {
  color: #286090;
}
.text-success {
  color: #3c763d;
}
a.text-success:hover,
a.text-success:focus {
  color: #2b542c;
}
.text-info {
  color: #31708f;
}
a.text-info:hover,
a.text-info:focus {
  color: #245269;
}
.text-warning {
  color: #8a6d3b;
}
a.text-warning:hover,
a.text-warning:focus {
  color: #66512c;
}
.text-danger {
  color: #a94442;
}
a.text-danger:hover,
a.text-danger:focus {
  color: #843534;
}
.bg-primary {
  color: #fff;
  background-color: #337ab7;
}
a.bg-primary:hover,
a.bg-primary:focus {
  background-color: #286090;
}
.bg-success {
  background-color: #dff0d8;
}
a.bg-success:hover,
a.bg-success:focus {
  background-color: #c1e2b3;
}
.bg-info {
  background-color: #d9edf7;
}
a.bg-info:hover,
a.bg-info:focus {
  background-color: #afd9ee;
}
.bg-warning {
  background-color: #fcf8e3;
}
a.bg-warning:hover,
a.bg-warning:focus {
  background-color: #f7ecb5;
}
.bg-danger {
  background-color: #f2dede;
}
a.bg-danger:hover,
a.bg-danger:focus {
  background-color: #e4b9b9;
}
.page-header {
  padding-bottom: 8px;
  margin: 36px 0 18px;
  border-bottom: 1px solid #eeeeee;
}
ul,
ol {
  margin-top: 0;
  margin-bottom: 9px;
}
ul ul,
ol ul,
ul ol,
ol ol {
  margin-bottom: 0;
}
.list-unstyled {
  padding-left: 0;
  list-style: none;
}
.list-inline {
  padding-left: 0;
  list-style: none;
  margin-left: -5px;
}
.list-inline > li {
  display: inline-block;
  padding-left: 5px;
  padding-right: 5px;
}
dl {
  margin-top: 0;
  margin-bottom: 18px;
}
dt,
dd {
  line-height: 1.42857143;
}
dt {
  font-weight: bold;
}
dd {
  margin-left: 0;
}
@media (min-width: 541px) {
  .dl-horizontal dt {
    float: left;
    width: 160px;
    clear: left;
    text-align: right;
    overflow: hidden;
    text-overflow: ellipsis;
    white-space: nowrap;
  }
  .dl-horizontal dd {
    margin-left: 180px;
  }
}
abbr[title],
abbr[data-original-title] {
  cursor: help;
  border-bottom: 1px dotted #777777;
}
.initialism {
  font-size: 90%;
  text-transform: uppercase;
}
blockquote {
  padding: 9px 18px;
  margin: 0 0 18px;
  font-size: inherit;
  border-left: 5px solid #eeeeee;
}
blockquote p:last-child,
blockquote ul:last-child,
blockquote ol:last-child {
  margin-bottom: 0;
}
blockquote footer,
blockquote small,
blockquote .small {
  display: block;
  font-size: 80%;
  line-height: 1.42857143;
  color: #777777;
}
blockquote footer:before,
blockquote small:before,
blockquote .small:before {
  content: '\2014 \00A0';
}
.blockquote-reverse,
blockquote.pull-right {
  padding-right: 15px;
  padding-left: 0;
  border-right: 5px solid #eeeeee;
  border-left: 0;
  text-align: right;
}
.blockquote-reverse footer:before,
blockquote.pull-right footer:before,
.blockquote-reverse small:before,
blockquote.pull-right small:before,
.blockquote-reverse .small:before,
blockquote.pull-right .small:before {
  content: '';
}
.blockquote-reverse footer:after,
blockquote.pull-right footer:after,
.blockquote-reverse small:after,
blockquote.pull-right small:after,
.blockquote-reverse .small:after,
blockquote.pull-right .small:after {
  content: '\00A0 \2014';
}
address {
  margin-bottom: 18px;
  font-style: normal;
  line-height: 1.42857143;
}
code,
kbd,
pre,
samp {
  font-family: monospace;
}
code {
  padding: 2px 4px;
  font-size: 90%;
  color: #c7254e;
  background-color: #f9f2f4;
  border-radius: 2px;
}
kbd {
  padding: 2px 4px;
  font-size: 90%;
  color: #888;
  background-color: transparent;
  border-radius: 1px;
  box-shadow: inset 0 -1px 0 rgba(0, 0, 0, 0.25);
}
kbd kbd {
  padding: 0;
  font-size: 100%;
  font-weight: bold;
  box-shadow: none;
}
pre {
  display: block;
  padding: 8.5px;
  margin: 0 0 9px;
  font-size: 12px;
  line-height: 1.42857143;
  word-break: break-all;
  word-wrap: break-word;
  color: #333333;
  background-color: #f5f5f5;
  border: 1px solid #ccc;
  border-radius: 2px;
}
pre code {
  padding: 0;
  font-size: inherit;
  color: inherit;
  white-space: pre-wrap;
  background-color: transparent;
  border-radius: 0;
}
.pre-scrollable {
  max-height: 340px;
  overflow-y: scroll;
}
.container {
  margin-right: auto;
  margin-left: auto;
  padding-left: 0px;
  padding-right: 0px;
}
@media (min-width: 768px) {
  .container {
    width: 768px;
  }
}
@media (min-width: 992px) {
  .container {
    width: 940px;
  }
}
@media (min-width: 1200px) {
  .container {
    width: 1140px;
  }
}
.container-fluid {
  margin-right: auto;
  margin-left: auto;
  padding-left: 0px;
  padding-right: 0px;
}
.row {
  margin-left: 0px;
  margin-right: 0px;
}
.col-xs-1, .col-sm-1, .col-md-1, .col-lg-1, .col-xs-2, .col-sm-2, .col-md-2, .col-lg-2, .col-xs-3, .col-sm-3, .col-md-3, .col-lg-3, .col-xs-4, .col-sm-4, .col-md-4, .col-lg-4, .col-xs-5, .col-sm-5, .col-md-5, .col-lg-5, .col-xs-6, .col-sm-6, .col-md-6, .col-lg-6, .col-xs-7, .col-sm-7, .col-md-7, .col-lg-7, .col-xs-8, .col-sm-8, .col-md-8, .col-lg-8, .col-xs-9, .col-sm-9, .col-md-9, .col-lg-9, .col-xs-10, .col-sm-10, .col-md-10, .col-lg-10, .col-xs-11, .col-sm-11, .col-md-11, .col-lg-11, .col-xs-12, .col-sm-12, .col-md-12, .col-lg-12 {
  position: relative;
  min-height: 1px;
  padding-left: 0px;
  padding-right: 0px;
}
.col-xs-1, .col-xs-2, .col-xs-3, .col-xs-4, .col-xs-5, .col-xs-6, .col-xs-7, .col-xs-8, .col-xs-9, .col-xs-10, .col-xs-11, .col-xs-12 {
  float: left;
}
.col-xs-12 {
  width: 100%;
}
.col-xs-11 {
  width: 91.66666667%;
}
.col-xs-10 {
  width: 83.33333333%;
}
.col-xs-9 {
  width: 75%;
}
.col-xs-8 {
  width: 66.66666667%;
}
.col-xs-7 {
  width: 58.33333333%;
}
.col-xs-6 {
  width: 50%;
}
.col-xs-5 {
  width: 41.66666667%;
}
.col-xs-4 {
  width: 33.33333333%;
}
.col-xs-3 {
  width: 25%;
}
.col-xs-2 {
  width: 16.66666667%;
}
.col-xs-1 {
  width: 8.33333333%;
}
.col-xs-pull-12 {
  right: 100%;
}
.col-xs-pull-11 {
  right: 91.66666667%;
}
.col-xs-pull-10 {
  right: 83.33333333%;
}
.col-xs-pull-9 {
  right: 75%;
}
.col-xs-pull-8 {
  right: 66.66666667%;
}
.col-xs-pull-7 {
  right: 58.33333333%;
}
.col-xs-pull-6 {
  right: 50%;
}
.col-xs-pull-5 {
  right: 41.66666667%;
}
.col-xs-pull-4 {
  right: 33.33333333%;
}
.col-xs-pull-3 {
  right: 25%;
}
.col-xs-pull-2 {
  right: 16.66666667%;
}
.col-xs-pull-1 {
  right: 8.33333333%;
}
.col-xs-pull-0 {
  right: auto;
}
.col-xs-push-12 {
  left: 100%;
}
.col-xs-push-11 {
  left: 91.66666667%;
}
.col-xs-push-10 {
  left: 83.33333333%;
}
.col-xs-push-9 {
  left: 75%;
}
.col-xs-push-8 {
  left: 66.66666667%;
}
.col-xs-push-7 {
  left: 58.33333333%;
}
.col-xs-push-6 {
  left: 50%;
}
.col-xs-push-5 {
  left: 41.66666667%;
}
.col-xs-push-4 {
  left: 33.33333333%;
}
.col-xs-push-3 {
  left: 25%;
}
.col-xs-push-2 {
  left: 16.66666667%;
}
.col-xs-push-1 {
  left: 8.33333333%;
}
.col-xs-push-0 {
  left: auto;
}
.col-xs-offset-12 {
  margin-left: 100%;
}
.col-xs-offset-11 {
  margin-left: 91.66666667%;
}
.col-xs-offset-10 {
  margin-left: 83.33333333%;
}
.col-xs-offset-9 {
  margin-left: 75%;
}
.col-xs-offset-8 {
  margin-left: 66.66666667%;
}
.col-xs-offset-7 {
  margin-left: 58.33333333%;
}
.col-xs-offset-6 {
  margin-left: 50%;
}
.col-xs-offset-5 {
  margin-left: 41.66666667%;
}
.col-xs-offset-4 {
  margin-left: 33.33333333%;
}
.col-xs-offset-3 {
  margin-left: 25%;
}
.col-xs-offset-2 {
  margin-left: 16.66666667%;
}
.col-xs-offset-1 {
  margin-left: 8.33333333%;
}
.col-xs-offset-0 {
  margin-left: 0%;
}
@media (min-width: 768px) {
  .col-sm-1, .col-sm-2, .col-sm-3, .col-sm-4, .col-sm-5, .col-sm-6, .col-sm-7, .col-sm-8, .col-sm-9, .col-sm-10, .col-sm-11, .col-sm-12 {
    float: left;
  }
  .col-sm-12 {
    width: 100%;
  }
  .col-sm-11 {
    width: 91.66666667%;
  }
  .col-sm-10 {
    width: 83.33333333%;
  }
  .col-sm-9 {
    width: 75%;
  }
  .col-sm-8 {
    width: 66.66666667%;
  }
  .col-sm-7 {
    width: 58.33333333%;
  }
  .col-sm-6 {
    width: 50%;
  }
  .col-sm-5 {
    width: 41.66666667%;
  }
  .col-sm-4 {
    width: 33.33333333%;
  }
  .col-sm-3 {
    width: 25%;
  }
  .col-sm-2 {
    width: 16.66666667%;
  }
  .col-sm-1 {
    width: 8.33333333%;
  }
  .col-sm-pull-12 {
    right: 100%;
  }
  .col-sm-pull-11 {
    right: 91.66666667%;
  }
  .col-sm-pull-10 {
    right: 83.33333333%;
  }
  .col-sm-pull-9 {
    right: 75%;
  }
  .col-sm-pull-8 {
    right: 66.66666667%;
  }
  .col-sm-pull-7 {
    right: 58.33333333%;
  }
  .col-sm-pull-6 {
    right: 50%;
  }
  .col-sm-pull-5 {
    right: 41.66666667%;
  }
  .col-sm-pull-4 {
    right: 33.33333333%;
  }
  .col-sm-pull-3 {
    right: 25%;
  }
  .col-sm-pull-2 {
    right: 16.66666667%;
  }
  .col-sm-pull-1 {
    right: 8.33333333%;
  }
  .col-sm-pull-0 {
    right: auto;
  }
  .col-sm-push-12 {
    left: 100%;
  }
  .col-sm-push-11 {
    left: 91.66666667%;
  }
  .col-sm-push-10 {
    left: 83.33333333%;
  }
  .col-sm-push-9 {
    left: 75%;
  }
  .col-sm-push-8 {
    left: 66.66666667%;
  }
  .col-sm-push-7 {
    left: 58.33333333%;
  }
  .col-sm-push-6 {
    left: 50%;
  }
  .col-sm-push-5 {
    left: 41.66666667%;
  }
  .col-sm-push-4 {
    left: 33.33333333%;
  }
  .col-sm-push-3 {
    left: 25%;
  }
  .col-sm-push-2 {
    left: 16.66666667%;
  }
  .col-sm-push-1 {
    left: 8.33333333%;
  }
  .col-sm-push-0 {
    left: auto;
  }
  .col-sm-offset-12 {
    margin-left: 100%;
  }
  .col-sm-offset-11 {
    margin-left: 91.66666667%;
  }
  .col-sm-offset-10 {
    margin-left: 83.33333333%;
  }
  .col-sm-offset-9 {
    margin-left: 75%;
  }
  .col-sm-offset-8 {
    margin-left: 66.66666667%;
  }
  .col-sm-offset-7 {
    margin-left: 58.33333333%;
  }
  .col-sm-offset-6 {
    margin-left: 50%;
  }
  .col-sm-offset-5 {
    margin-left: 41.66666667%;
  }
  .col-sm-offset-4 {
    margin-left: 33.33333333%;
  }
  .col-sm-offset-3 {
    margin-left: 25%;
  }
  .col-sm-offset-2 {
    margin-left: 16.66666667%;
  }
  .col-sm-offset-1 {
    margin-left: 8.33333333%;
  }
  .col-sm-offset-0 {
    margin-left: 0%;
  }
}
@media (min-width: 992px) {
  .col-md-1, .col-md-2, .col-md-3, .col-md-4, .col-md-5, .col-md-6, .col-md-7, .col-md-8, .col-md-9, .col-md-10, .col-md-11, .col-md-12 {
    float: left;
  }
  .col-md-12 {
    width: 100%;
  }
  .col-md-11 {
    width: 91.66666667%;
  }
  .col-md-10 {
    width: 83.33333333%;
  }
  .col-md-9 {
    width: 75%;
  }
  .col-md-8 {
    width: 66.66666667%;
  }
  .col-md-7 {
    width: 58.33333333%;
  }
  .col-md-6 {
    width: 50%;
  }
  .col-md-5 {
    width: 41.66666667%;
  }
  .col-md-4 {
    width: 33.33333333%;
  }
  .col-md-3 {
    width: 25%;
  }
  .col-md-2 {
    width: 16.66666667%;
  }
  .col-md-1 {
    width: 8.33333333%;
  }
  .col-md-pull-12 {
    right: 100%;
  }
  .col-md-pull-11 {
    right: 91.66666667%;
  }
  .col-md-pull-10 {
    right: 83.33333333%;
  }
  .col-md-pull-9 {
    right: 75%;
  }
  .col-md-pull-8 {
    right: 66.66666667%;
  }
  .col-md-pull-7 {
    right: 58.33333333%;
  }
  .col-md-pull-6 {
    right: 50%;
  }
  .col-md-pull-5 {
    right: 41.66666667%;
  }
  .col-md-pull-4 {
    right: 33.33333333%;
  }
  .col-md-pull-3 {
    right: 25%;
  }
  .col-md-pull-2 {
    right: 16.66666667%;
  }
  .col-md-pull-1 {
    right: 8.33333333%;
  }
  .col-md-pull-0 {
    right: auto;
  }
  .col-md-push-12 {
    left: 100%;
  }
  .col-md-push-11 {
    left: 91.66666667%;
  }
  .col-md-push-10 {
    left: 83.33333333%;
  }
  .col-md-push-9 {
    left: 75%;
  }
  .col-md-push-8 {
    left: 66.66666667%;
  }
  .col-md-push-7 {
    left: 58.33333333%;
  }
  .col-md-push-6 {
    left: 50%;
  }
  .col-md-push-5 {
    left: 41.66666667%;
  }
  .col-md-push-4 {
    left: 33.33333333%;
  }
  .col-md-push-3 {
    left: 25%;
  }
  .col-md-push-2 {
    left: 16.66666667%;
  }
  .col-md-push-1 {
    left: 8.33333333%;
  }
  .col-md-push-0 {
    left: auto;
  }
  .col-md-offset-12 {
    margin-left: 100%;
  }
  .col-md-offset-11 {
    margin-left: 91.66666667%;
  }
  .col-md-offset-10 {
    margin-left: 83.33333333%;
  }
  .col-md-offset-9 {
    margin-left: 75%;
  }
  .col-md-offset-8 {
    margin-left: 66.66666667%;
  }
  .col-md-offset-7 {
    margin-left: 58.33333333%;
  }
  .col-md-offset-6 {
    margin-left: 50%;
  }
  .col-md-offset-5 {
    margin-left: 41.66666667%;
  }
  .col-md-offset-4 {
    margin-left: 33.33333333%;
  }
  .col-md-offset-3 {
    margin-left: 25%;
  }
  .col-md-offset-2 {
    margin-left: 16.66666667%;
  }
  .col-md-offset-1 {
    margin-left: 8.33333333%;
  }
  .col-md-offset-0 {
    margin-left: 0%;
  }
}
@media (min-width: 1200px) {
  .col-lg-1, .col-lg-2, .col-lg-3, .col-lg-4, .col-lg-5, .col-lg-6, .col-lg-7, .col-lg-8, .col-lg-9, .col-lg-10, .col-lg-11, .col-lg-12 {
    float: left;
  }
  .col-lg-12 {
    width: 100%;
  }
  .col-lg-11 {
    width: 91.66666667%;
  }
  .col-lg-10 {
    width: 83.33333333%;
  }
  .col-lg-9 {
    width: 75%;
  }
  .col-lg-8 {
    width: 66.66666667%;
  }
  .col-lg-7 {
    width: 58.33333333%;
  }
  .col-lg-6 {
    width: 50%;
  }
  .col-lg-5 {
    width: 41.66666667%;
  }
  .col-lg-4 {
    width: 33.33333333%;
  }
  .col-lg-3 {
    width: 25%;
  }
  .col-lg-2 {
    width: 16.66666667%;
  }
  .col-lg-1 {
    width: 8.33333333%;
  }
  .col-lg-pull-12 {
    right: 100%;
  }
  .col-lg-pull-11 {
    right: 91.66666667%;
  }
  .col-lg-pull-10 {
    right: 83.33333333%;
  }
  .col-lg-pull-9 {
    right: 75%;
  }
  .col-lg-pull-8 {
    right: 66.66666667%;
  }
  .col-lg-pull-7 {
    right: 58.33333333%;
  }
  .col-lg-pull-6 {
    right: 50%;
  }
  .col-lg-pull-5 {
    right: 41.66666667%;
  }
  .col-lg-pull-4 {
    right: 33.33333333%;
  }
  .col-lg-pull-3 {
    right: 25%;
  }
  .col-lg-pull-2 {
    right: 16.66666667%;
  }
  .col-lg-pull-1 {
    right: 8.33333333%;
  }
  .col-lg-pull-0 {
    right: auto;
  }
  .col-lg-push-12 {
    left: 100%;
  }
  .col-lg-push-11 {
    left: 91.66666667%;
  }
  .col-lg-push-10 {
    left: 83.33333333%;
  }
  .col-lg-push-9 {
    left: 75%;
  }
  .col-lg-push-8 {
    left: 66.66666667%;
  }
  .col-lg-push-7 {
    left: 58.33333333%;
  }
  .col-lg-push-6 {
    left: 50%;
  }
  .col-lg-push-5 {
    left: 41.66666667%;
  }
  .col-lg-push-4 {
    left: 33.33333333%;
  }
  .col-lg-push-3 {
    left: 25%;
  }
  .col-lg-push-2 {
    left: 16.66666667%;
  }
  .col-lg-push-1 {
    left: 8.33333333%;
  }
  .col-lg-push-0 {
    left: auto;
  }
  .col-lg-offset-12 {
    margin-left: 100%;
  }
  .col-lg-offset-11 {
    margin-left: 91.66666667%;
  }
  .col-lg-offset-10 {
    margin-left: 83.33333333%;
  }
  .col-lg-offset-9 {
    margin-left: 75%;
  }
  .col-lg-offset-8 {
    margin-left: 66.66666667%;
  }
  .col-lg-offset-7 {
    margin-left: 58.33333333%;
  }
  .col-lg-offset-6 {
    margin-left: 50%;
  }
  .col-lg-offset-5 {
    margin-left: 41.66666667%;
  }
  .col-lg-offset-4 {
    margin-left: 33.33333333%;
  }
  .col-lg-offset-3 {
    margin-left: 25%;
  }
  .col-lg-offset-2 {
    margin-left: 16.66666667%;
  }
  .col-lg-offset-1 {
    margin-left: 8.33333333%;
  }
  .col-lg-offset-0 {
    margin-left: 0%;
  }
}
table {
  background-color: transparent;
}
caption {
  padding-top: 8px;
  padding-bottom: 8px;
  color: #777777;
  text-align: left;
}
th {
  text-align: left;
}
.table {
  width: 100%;
  max-width: 100%;
  margin-bottom: 18px;
}
.table > thead > tr > th,
.table > tbody > tr > th,
.table > tfoot > tr > th,
.table > thead > tr > td,
.table > tbody > tr > td,
.table > tfoot > tr > td {
  padding: 8px;
  line-height: 1.42857143;
  vertical-align: top;
  border-top: 1px solid #ddd;
}
.table > thead > tr > th {
  vertical-align: bottom;
  border-bottom: 2px solid #ddd;
}
.table > caption + thead > tr:first-child > th,
.table > colgroup + thead > tr:first-child > th,
.table > thead:first-child > tr:first-child > th,
.table > caption + thead > tr:first-child > td,
.table > colgroup + thead > tr:first-child > td,
.table > thead:first-child > tr:first-child > td {
  border-top: 0;
}
.table > tbody + tbody {
  border-top: 2px solid #ddd;
}
.table .table {
  background-color: #fff;
}
.table-condensed > thead > tr > th,
.table-condensed > tbody > tr > th,
.table-condensed > tfoot > tr > th,
.table-condensed > thead > tr > td,
.table-condensed > tbody > tr > td,
.table-condensed > tfoot > tr > td {
  padding: 5px;
}
.table-bordered {
  border: 1px solid #ddd;
}
.table-bordered > thead > tr > th,
.table-bordered > tbody > tr > th,
.table-bordered > tfoot > tr > th,
.table-bordered > thead > tr > td,
.table-bordered > tbody > tr > td,
.table-bordered > tfoot > tr > td {
  border: 1px solid #ddd;
}
.table-bordered > thead > tr > th,
.table-bordered > thead > tr > td {
  border-bottom-width: 2px;
}
.table-striped > tbody > tr:nth-of-type(odd) {
  background-color: #f9f9f9;
}
.table-hover > tbody > tr:hover {
  background-color: #f5f5f5;
}
table col[class*="col-"] {
  position: static;
  float: none;
  display: table-column;
}
table td[class*="col-"],
table th[class*="col-"] {
  position: static;
  float: none;
  display: table-cell;
}
.table > thead > tr > td.active,
.table > tbody > tr > td.active,
.table > tfoot > tr > td.active,
.table > thead > tr > th.active,
.table > tbody > tr > th.active,
.table > tfoot > tr > th.active,
.table > thead > tr.active > td,
.table > tbody > tr.active > td,
.table > tfoot > tr.active > td,
.table > thead > tr.active > th,
.table > tbody > tr.active > th,
.table > tfoot > tr.active > th {
  background-color: #f5f5f5;
}
.table-hover > tbody > tr > td.active:hover,
.table-hover > tbody > tr > th.active:hover,
.table-hover > tbody > tr.active:hover > td,
.table-hover > tbody > tr:hover > .active,
.table-hover > tbody > tr.active:hover > th {
  background-color: #e8e8e8;
}
.table > thead > tr > td.success,
.table > tbody > tr > td.success,
.table > tfoot > tr > td.success,
.table > thead > tr > th.success,
.table > tbody > tr > th.success,
.table > tfoot > tr > th.success,
.table > thead > tr.success > td,
.table > tbody > tr.success > td,
.table > tfoot > tr.success > td,
.table > thead > tr.success > th,
.table > tbody > tr.success > th,
.table > tfoot > tr.success > th {
  background-color: #dff0d8;
}
.table-hover > tbody > tr > td.success:hover,
.table-hover > tbody > tr > th.success:hover,
.table-hover > tbody > tr.success:hover > td,
.table-hover > tbody > tr:hover > .success,
.table-hover > tbody > tr.success:hover > th {
  background-color: #d0e9c6;
}
.table > thead > tr > td.info,
.table > tbody > tr > td.info,
.table > tfoot > tr > td.info,
.table > thead > tr > th.info,
.table > tbody > tr > th.info,
.table > tfoot > tr > th.info,
.table > thead > tr.info > td,
.table > tbody > tr.info > td,
.table > tfoot > tr.info > td,
.table > thead > tr.info > th,
.table > tbody > tr.info > th,
.table > tfoot > tr.info > th {
  background-color: #d9edf7;
}
.table-hover > tbody > tr > td.info:hover,
.table-hover > tbody > tr > th.info:hover,
.table-hover > tbody > tr.info:hover > td,
.table-hover > tbody > tr:hover > .info,
.table-hover > tbody > tr.info:hover > th {
  background-color: #c4e3f3;
}
.table > thead > tr > td.warning,
.table > tbody > tr > td.warning,
.table > tfoot > tr > td.warning,
.table > thead > tr > th.warning,
.table > tbody > tr > th.warning,
.table > tfoot > tr > th.warning,
.table > thead > tr.warning > td,
.table > tbody > tr.warning > td,
.table > tfoot > tr.warning > td,
.table > thead > tr.warning > th,
.table > tbody > tr.warning > th,
.table > tfoot > tr.warning > th {
  background-color: #fcf8e3;
}
.table-hover > tbody > tr > td.warning:hover,
.table-hover > tbody > tr > th.warning:hover,
.table-hover > tbody > tr.warning:hover > td,
.table-hover > tbody > tr:hover > .warning,
.table-hover > tbody > tr.warning:hover > th {
  background-color: #faf2cc;
}
.table > thead > tr > td.danger,
.table > tbody > tr > td.danger,
.table > tfoot > tr > td.danger,
.table > thead > tr > th.danger,
.table > tbody > tr > th.danger,
.table > tfoot > tr > th.danger,
.table > thead > tr.danger > td,
.table > tbody > tr.danger > td,
.table > tfoot > tr.danger > td,
.table > thead > tr.danger > th,
.table > tbody > tr.danger > th,
.table > tfoot > tr.danger > th {
  background-color: #f2dede;
}
.table-hover > tbody > tr > td.danger:hover,
.table-hover > tbody > tr > th.danger:hover,
.table-hover > tbody > tr.danger:hover > td,
.table-hover > tbody > tr:hover > .danger,
.table-hover > tbody > tr.danger:hover > th {
  background-color: #ebcccc;
}
.table-responsive {
  overflow-x: auto;
  min-height: 0.01%;
}
@media screen and (max-width: 767px) {
  .table-responsive {
    width: 100%;
    margin-bottom: 13.5px;
    overflow-y: hidden;
    -ms-overflow-style: -ms-autohiding-scrollbar;
    border: 1px solid #ddd;
  }
  .table-responsive > .table {
    margin-bottom: 0;
  }
  .table-responsive > .table > thead > tr > th,
  .table-responsive > .table > tbody > tr > th,
  .table-responsive > .table > tfoot > tr > th,
  .table-responsive > .table > thead > tr > td,
  .table-responsive > .table > tbody > tr > td,
  .table-responsive > .table > tfoot > tr > td {
    white-space: nowrap;
  }
  .table-responsive > .table-bordered {
    border: 0;
  }
  .table-responsive > .table-bordered > thead > tr > th:first-child,
  .table-responsive > .table-bordered > tbody > tr > th:first-child,
  .table-responsive > .table-bordered > tfoot > tr > th:first-child,
  .table-responsive > .table-bordered > thead > tr > td:first-child,
  .table-responsive > .table-bordered > tbody > tr > td:first-child,
  .table-responsive > .table-bordered > tfoot > tr > td:first-child {
    border-left: 0;
  }
  .table-responsive > .table-bordered > thead > tr > th:last-child,
  .table-responsive > .table-bordered > tbody > tr > th:last-child,
  .table-responsive > .table-bordered > tfoot > tr > th:last-child,
  .table-responsive > .table-bordered > thead > tr > td:last-child,
  .table-responsive > .table-bordered > tbody > tr > td:last-child,
  .table-responsive > .table-bordered > tfoot > tr > td:last-child {
    border-right: 0;
  }
  .table-responsive > .table-bordered > tbody > tr:last-child > th,
  .table-responsive > .table-bordered > tfoot > tr:last-child > th,
  .table-responsive > .table-bordered > tbody > tr:last-child > td,
  .table-responsive > .table-bordered > tfoot > tr:last-child > td {
    border-bottom: 0;
  }
}
fieldset {
  padding: 0;
  margin: 0;
  border: 0;
  min-width: 0;
}
legend {
  display: block;
  width: 100%;
  padding: 0;
  margin-bottom: 18px;
  font-size: 19.5px;
  line-height: inherit;
  color: #333333;
  border: 0;
  border-bottom: 1px solid #e5e5e5;
}
label {
  display: inline-block;
  max-width: 100%;
  margin-bottom: 5px;
  font-weight: bold;
}
input[type="search"] {
  -webkit-box-sizing: border-box;
  -moz-box-sizing: border-box;
  box-sizing: border-box;
}
input[type="radio"],
input[type="checkbox"] {
  margin: 4px 0 0;
  margin-top: 1px \9;
  line-height: normal;
}
input[type="file"] {
  display: block;
}
input[type="range"] {
  display: block;
  width: 100%;
}
select[multiple],
select[size] {
  height: auto;
}
input[type="file"]:focus,
input[type="radio"]:focus,
input[type="checkbox"]:focus {
  outline: 5px auto -webkit-focus-ring-color;
  outline-offset: -2px;
}
output {
  display: block;
  padding-top: 7px;
  font-size: 13px;
  line-height: 1.42857143;
  color: #555555;
}
.form-control {
  display: block;
  width: 100%;
  height: 32px;
  padding: 6px 12px;
  font-size: 13px;
  line-height: 1.42857143;
  color: #555555;
  background-color: #fff;
  background-image: none;
  border: 1px solid #ccc;
  border-radius: 2px;
  -webkit-box-shadow: inset 0 1px 1px rgba(0, 0, 0, 0.075);
  box-shadow: inset 0 1px 1px rgba(0, 0, 0, 0.075);
  -webkit-transition: border-color ease-in-out .15s, box-shadow ease-in-out .15s;
  -o-transition: border-color ease-in-out .15s, box-shadow ease-in-out .15s;
  transition: border-color ease-in-out .15s, box-shadow ease-in-out .15s;
}
.form-control:focus {
  border-color: #66afe9;
  outline: 0;
  -webkit-box-shadow: inset 0 1px 1px rgba(0,0,0,.075), 0 0 8px rgba(102, 175, 233, 0.6);
  box-shadow: inset 0 1px 1px rgba(0,0,0,.075), 0 0 8px rgba(102, 175, 233, 0.6);
}
.form-control::-moz-placeholder {
  color: #999;
  opacity: 1;
}
.form-control:-ms-input-placeholder {
  color: #999;
}
.form-control::-webkit-input-placeholder {
  color: #999;
}
.form-control::-ms-expand {
  border: 0;
  background-color: transparent;
}
.form-control[disabled],
.form-control[readonly],
fieldset[disabled] .form-control {
  background-color: #eeeeee;
  opacity: 1;
}
.form-control[disabled],
fieldset[disabled] .form-control {
  cursor: not-allowed;
}
textarea.form-control {
  height: auto;
}
input[type="search"] {
  -webkit-appearance: none;
}
@media screen and (-webkit-min-device-pixel-ratio: 0) {
  input[type="date"].form-control,
  input[type="time"].form-control,
  input[type="datetime-local"].form-control,
  input[type="month"].form-control {
    line-height: 32px;
  }
  input[type="date"].input-sm,
  input[type="time"].input-sm,
  input[type="datetime-local"].input-sm,
  input[type="month"].input-sm,
  .input-group-sm input[type="date"],
  .input-group-sm input[type="time"],
  .input-group-sm input[type="datetime-local"],
  .input-group-sm input[type="month"] {
    line-height: 30px;
  }
  input[type="date"].input-lg,
  input[type="time"].input-lg,
  input[type="datetime-local"].input-lg,
  input[type="month"].input-lg,
  .input-group-lg input[type="date"],
  .input-group-lg input[type="time"],
  .input-group-lg input[type="datetime-local"],
  .input-group-lg input[type="month"] {
    line-height: 45px;
  }
}
.form-group {
  margin-bottom: 15px;
}
.radio,
.checkbox {
  position: relative;
  display: block;
  margin-top: 10px;
  margin-bottom: 10px;
}
.radio label,
.checkbox label {
  min-height: 18px;
  padding-left: 20px;
  margin-bottom: 0;
  font-weight: normal;
  cursor: pointer;
}
.radio input[type="radio"],
.radio-inline input[type="radio"],
.checkbox input[type="checkbox"],
.checkbox-inline input[type="checkbox"] {
  position: absolute;
  margin-left: -20px;
  margin-top: 4px \9;
}
.radio + .radio,
.checkbox + .checkbox {
  margin-top: -5px;
}
.radio-inline,
.checkbox-inline {
  position: relative;
  display: inline-block;
  padding-left: 20px;
  margin-bottom: 0;
  vertical-align: middle;
  font-weight: normal;
  cursor: pointer;
}
.radio-inline + .radio-inline,
.checkbox-inline + .checkbox-inline {
  margin-top: 0;
  margin-left: 10px;
}
input[type="radio"][disabled],
input[type="checkbox"][disabled],
input[type="radio"].disabled,
input[type="checkbox"].disabled,
fieldset[disabled] input[type="radio"],
fieldset[disabled] input[type="checkbox"] {
  cursor: not-allowed;
}
.radio-inline.disabled,
.checkbox-inline.disabled,
fieldset[disabled] .radio-inline,
fieldset[disabled] .checkbox-inline {
  cursor: not-allowed;
}
.radio.disabled label,
.checkbox.disabled label,
fieldset[disabled] .radio label,
fieldset[disabled] .checkbox label {
  cursor: not-allowed;
}
.form-control-static {
  padding-top: 7px;
  padding-bottom: 7px;
  margin-bottom: 0;
  min-height: 31px;
}
.form-control-static.input-lg,
.form-control-static.input-sm {
  padding-left: 0;
  padding-right: 0;
}
.input-sm {
  height: 30px;
  padding: 5px 10px;
  font-size: 12px;
  line-height: 1.5;
  border-radius: 1px;
}
select.input-sm {
  height: 30px;
  line-height: 30px;
}
textarea.input-sm,
select[multiple].input-sm {
  height: auto;
}
.form-group-sm .form-control {
  height: 30px;
  padding: 5px 10px;
  font-size: 12px;
  line-height: 1.5;
  border-radius: 1px;
}
.form-group-sm select.form-control {
  height: 30px;
  line-height: 30px;
}
.form-group-sm textarea.form-control,
.form-group-sm select[multiple].form-control {
  height: auto;
}
.form-group-sm .form-control-static {
  height: 30px;
  min-height: 30px;
  padding: 6px 10px;
  font-size: 12px;
  line-height: 1.5;
}
.input-lg {
  height: 45px;
  padding: 10px 16px;
  font-size: 17px;
  line-height: 1.3333333;
  border-radius: 3px;
}
select.input-lg {
  height: 45px;
  line-height: 45px;
}
textarea.input-lg,
select[multiple].input-lg {
  height: auto;
}
.form-group-lg .form-control {
  height: 45px;
  padding: 10px 16px;
  font-size: 17px;
  line-height: 1.3333333;
  border-radius: 3px;
}
.form-group-lg select.form-control {
  height: 45px;
  line-height: 45px;
}
.form-group-lg textarea.form-control,
.form-group-lg select[multiple].form-control {
  height: auto;
}
.form-group-lg .form-control-static {
  height: 45px;
  min-height: 35px;
  padding: 11px 16px;
  font-size: 17px;
  line-height: 1.3333333;
}
.has-feedback {
  position: relative;
}
.has-feedback .form-control {
  padding-right: 40px;
}
.form-control-feedback {
  position: absolute;
  top: 0;
  right: 0;
  z-index: 2;
  display: block;
  width: 32px;
  height: 32px;
  line-height: 32px;
  text-align: center;
  pointer-events: none;
}
.input-lg + .form-control-feedback,
.input-group-lg + .form-control-feedback,
.form-group-lg .form-control + .form-control-feedback {
  width: 45px;
  height: 45px;
  line-height: 45px;
}
.input-sm + .form-control-feedback,
.input-group-sm + .form-control-feedback,
.form-group-sm .form-control + .form-control-feedback {
  width: 30px;
  height: 30px;
  line-height: 30px;
}
.has-success .help-block,
.has-success .control-label,
.has-success .radio,
.has-success .checkbox,
.has-success .radio-inline,
.has-success .checkbox-inline,
.has-success.radio label,
.has-success.checkbox label,
.has-success.radio-inline label,
.has-success.checkbox-inline label {
  color: #3c763d;
}
.has-success .form-control {
  border-color: #3c763d;
  -webkit-box-shadow: inset 0 1px 1px rgba(0, 0, 0, 0.075);
  box-shadow: inset 0 1px 1px rgba(0, 0, 0, 0.075);
}
.has-success .form-control:focus {
  border-color: #2b542c;
  -webkit-box-shadow: inset 0 1px 1px rgba(0, 0, 0, 0.075), 0 0 6px #67b168;
  box-shadow: inset 0 1px 1px rgba(0, 0, 0, 0.075), 0 0 6px #67b168;
}
.has-success .input-group-addon {
  color: #3c763d;
  border-color: #3c763d;
  background-color: #dff0d8;
}
.has-success .form-control-feedback {
  color: #3c763d;
}
.has-warning .help-block,
.has-warning .control-label,
.has-warning .radio,
.has-warning .checkbox,
.has-warning .radio-inline,
.has-warning .checkbox-inline,
.has-warning.radio label,
.has-warning.checkbox label,
.has-warning.radio-inline label,
.has-warning.checkbox-inline label {
  color: #8a6d3b;
}
.has-warning .form-control {
  border-color: #8a6d3b;
  -webkit-box-shadow: inset 0 1px 1px rgba(0, 0, 0, 0.075);
  box-shadow: inset 0 1px 1px rgba(0, 0, 0, 0.075);
}
.has-warning .form-control:focus {
  border-color: #66512c;
  -webkit-box-shadow: inset 0 1px 1px rgba(0, 0, 0, 0.075), 0 0 6px #c0a16b;
  box-shadow: inset 0 1px 1px rgba(0, 0, 0, 0.075), 0 0 6px #c0a16b;
}
.has-warning .input-group-addon {
  color: #8a6d3b;
  border-color: #8a6d3b;
  background-color: #fcf8e3;
}
.has-warning .form-control-feedback {
  color: #8a6d3b;
}
.has-error .help-block,
.has-error .control-label,
.has-error .radio,
.has-error .checkbox,
.has-error .radio-inline,
.has-error .checkbox-inline,
.has-error.radio label,
.has-error.checkbox label,
.has-error.radio-inline label,
.has-error.checkbox-inline label {
  color: #a94442;
}
.has-error .form-control {
  border-color: #a94442;
  -webkit-box-shadow: inset 0 1px 1px rgba(0, 0, 0, 0.075);
  box-shadow: inset 0 1px 1px rgba(0, 0, 0, 0.075);
}
.has-error .form-control:focus {
  border-color: #843534;
  -webkit-box-shadow: inset 0 1px 1px rgba(0, 0, 0, 0.075), 0 0 6px #ce8483;
  box-shadow: inset 0 1px 1px rgba(0, 0, 0, 0.075), 0 0 6px #ce8483;
}
.has-error .input-group-addon {
  color: #a94442;
  border-color: #a94442;
  background-color: #f2dede;
}
.has-error .form-control-feedback {
  color: #a94442;
}
.has-feedback label ~ .form-control-feedback {
  top: 23px;
}
.has-feedback label.sr-only ~ .form-control-feedback {
  top: 0;
}
.help-block {
  display: block;
  margin-top: 5px;
  margin-bottom: 10px;
  color: #404040;
}
@media (min-width: 768px) {
  .form-inline .form-group {
    display: inline-block;
    margin-bottom: 0;
    vertical-align: middle;
  }
  .form-inline .form-control {
    display: inline-block;
    width: auto;
    vertical-align: middle;
  }
  .form-inline .form-control-static {
    display: inline-block;
  }
  .form-inline .input-group {
    display: inline-table;
    vertical-align: middle;
  }
  .form-inline .input-group .input-group-addon,
  .form-inline .input-group .input-group-btn,
  .form-inline .input-group .form-control {
    width: auto;
  }
  .form-inline .input-group > .form-control {
    width: 100%;
  }
  .form-inline .control-label {
    margin-bottom: 0;
    vertical-align: middle;
  }
  .form-inline .radio,
  .form-inline .checkbox {
    display: inline-block;
    margin-top: 0;
    margin-bottom: 0;
    vertical-align: middle;
  }
  .form-inline .radio label,
  .form-inline .checkbox label {
    padding-left: 0;
  }
  .form-inline .radio input[type="radio"],
  .form-inline .checkbox input[type="checkbox"] {
    position: relative;
    margin-left: 0;
  }
  .form-inline .has-feedback .form-control-feedback {
    top: 0;
  }
}
.form-horizontal .radio,
.form-horizontal .checkbox,
.form-horizontal .radio-inline,
.form-horizontal .checkbox-inline {
  margin-top: 0;
  margin-bottom: 0;
  padding-top: 7px;
}
.form-horizontal .radio,
.form-horizontal .checkbox {
  min-height: 25px;
}
.form-horizontal .form-group {
  margin-left: 0px;
  margin-right: 0px;
}
@media (min-width: 768px) {
  .form-horizontal .control-label {
    text-align: right;
    margin-bottom: 0;
    padding-top: 7px;
  }
}
.form-horizontal .has-feedback .form-control-feedback {
  right: 0px;
}
@media (min-width: 768px) {
  .form-horizontal .form-group-lg .control-label {
    padding-top: 11px;
    font-size: 17px;
  }
}
@media (min-width: 768px) {
  .form-horizontal .form-group-sm .control-label {
    padding-top: 6px;
    font-size: 12px;
  }
}
.btn {
  display: inline-block;
  margin-bottom: 0;
  font-weight: normal;
  text-align: center;
  vertical-align: middle;
  touch-action: manipulation;
  cursor: pointer;
  background-image: none;
  border: 1px solid transparent;
  white-space: nowrap;
  padding: 6px 12px;
  font-size: 13px;
  line-height: 1.42857143;
  border-radius: 2px;
  -webkit-user-select: none;
  -moz-user-select: none;
  -ms-user-select: none;
  user-select: none;
}
.btn:focus,
.btn:active:focus,
.btn.active:focus,
.btn.focus,
.btn:active.focus,
.btn.active.focus {
  outline: 5px auto -webkit-focus-ring-color;
  outline-offset: -2px;
}
.btn:hover,
.btn:focus,
.btn.focus {
  color: #333;
  text-decoration: none;
}
.btn:active,
.btn.active {
  outline: 0;
  background-image: none;
  -webkit-box-shadow: inset 0 3px 5px rgba(0, 0, 0, 0.125);
  box-shadow: inset 0 3px 5px rgba(0, 0, 0, 0.125);
}
.btn.disabled,
.btn[disabled],
fieldset[disabled] .btn {
  cursor: not-allowed;
  opacity: 0.65;
  filter: alpha(opacity=65);
  -webkit-box-shadow: none;
  box-shadow: none;
}
a.btn.disabled,
fieldset[disabled] a.btn {
  pointer-events: none;
}
.btn-default {
  color: #333;
  background-color: #fff;
  border-color: #ccc;
}
.btn-default:focus,
.btn-default.focus {
  color: #333;
  background-color: #e6e6e6;
  border-color: #8c8c8c;
}
.btn-default:hover {
  color: #333;
  background-color: #e6e6e6;
  border-color: #adadad;
}
.btn-default:active,
.btn-default.active,
.open > .dropdown-toggle.btn-default {
  color: #333;
  background-color: #e6e6e6;
  border-color: #adadad;
}
.btn-default:active:hover,
.btn-default.active:hover,
.open > .dropdown-toggle.btn-default:hover,
.btn-default:active:focus,
.btn-default.active:focus,
.open > .dropdown-toggle.btn-default:focus,
.btn-default:active.focus,
.btn-default.active.focus,
.open > .dropdown-toggle.btn-default.focus {
  color: #333;
  background-color: #d4d4d4;
  border-color: #8c8c8c;
}
.btn-default:active,
.btn-default.active,
.open > .dropdown-toggle.btn-default {
  background-image: none;
}
.btn-default.disabled:hover,
.btn-default[disabled]:hover,
fieldset[disabled] .btn-default:hover,
.btn-default.disabled:focus,
.btn-default[disabled]:focus,
fieldset[disabled] .btn-default:focus,
.btn-default.disabled.focus,
.btn-default[disabled].focus,
fieldset[disabled] .btn-default.focus {
  background-color: #fff;
  border-color: #ccc;
}
.btn-default .badge {
  color: #fff;
  background-color: #333;
}
.btn-primary {
  color: #fff;
  background-color: #337ab7;
  border-color: #2e6da4;
}
.btn-primary:focus,
.btn-primary.focus {
  color: #fff;
  background-color: #286090;
  border-color: #122b40;
}
.btn-primary:hover {
  color: #fff;
  background-color: #286090;
  border-color: #204d74;
}
.btn-primary:active,
.btn-primary.active,
.open > .dropdown-toggle.btn-primary {
  color: #fff;
  background-color: #286090;
  border-color: #204d74;
}
.btn-primary:active:hover,
.btn-primary.active:hover,
.open > .dropdown-toggle.btn-primary:hover,
.btn-primary:active:focus,
.btn-primary.active:focus,
.open > .dropdown-toggle.btn-primary:focus,
.btn-primary:active.focus,
.btn-primary.active.focus,
.open > .dropdown-toggle.btn-primary.focus {
  color: #fff;
  background-color: #204d74;
  border-color: #122b40;
}
.btn-primary:active,
.btn-primary.active,
.open > .dropdown-toggle.btn-primary {
  background-image: none;
}
.btn-primary.disabled:hover,
.btn-primary[disabled]:hover,
fieldset[disabled] .btn-primary:hover,
.btn-primary.disabled:focus,
.btn-primary[disabled]:focus,
fieldset[disabled] .btn-primary:focus,
.btn-primary.disabled.focus,
.btn-primary[disabled].focus,
fieldset[disabled] .btn-primary.focus {
  background-color: #337ab7;
  border-color: #2e6da4;
}
.btn-primary .badge {
  color: #337ab7;
  background-color: #fff;
}
.btn-success {
  color: #fff;
  background-color: #5cb85c;
  border-color: #4cae4c;
}
.btn-success:focus,
.btn-success.focus {
  color: #fff;
  background-color: #449d44;
  border-color: #255625;
}
.btn-success:hover {
  color: #fff;
  background-color: #449d44;
  border-color: #398439;
}
.btn-success:active,
.btn-success.active,
.open > .dropdown-toggle.btn-success {
  color: #fff;
  background-color: #449d44;
  border-color: #398439;
}
.btn-success:active:hover,
.btn-success.active:hover,
.open > .dropdown-toggle.btn-success:hover,
.btn-success:active:focus,
.btn-success.active:focus,
.open > .dropdown-toggle.btn-success:focus,
.btn-success:active.focus,
.btn-success.active.focus,
.open > .dropdown-toggle.btn-success.focus {
  color: #fff;
  background-color: #398439;
  border-color: #255625;
}
.btn-success:active,
.btn-success.active,
.open > .dropdown-toggle.btn-success {
  background-image: none;
}
.btn-success.disabled:hover,
.btn-success[disabled]:hover,
fieldset[disabled] .btn-success:hover,
.btn-success.disabled:focus,
.btn-success[disabled]:focus,
fieldset[disabled] .btn-success:focus,
.btn-success.disabled.focus,
.btn-success[disabled].focus,
fieldset[disabled] .btn-success.focus {
  background-color: #5cb85c;
  border-color: #4cae4c;
}
.btn-success .badge {
  color: #5cb85c;
  background-color: #fff;
}
.btn-info {
  color: #fff;
  background-color: #5bc0de;
  border-color: #46b8da;
}
.btn-info:focus,
.btn-info.focus {
  color: #fff;
  background-color: #31b0d5;
  border-color: #1b6d85;
}
.btn-info:hover {
  color: #fff;
  background-color: #31b0d5;
  border-color: #269abc;
}
.btn-info:active,
.btn-info.active,
.open > .dropdown-toggle.btn-info {
  color: #fff;
  background-color: #31b0d5;
  border-color: #269abc;
}
.btn-info:active:hover,
.btn-info.active:hover,
.open > .dropdown-toggle.btn-info:hover,
.btn-info:active:focus,
.btn-info.active:focus,
.open > .dropdown-toggle.btn-info:focus,
.btn-info:active.focus,
.btn-info.active.focus,
.open > .dropdown-toggle.btn-info.focus {
  color: #fff;
  background-color: #269abc;
  border-color: #1b6d85;
}
.btn-info:active,
.btn-info.active,
.open > .dropdown-toggle.btn-info {
  background-image: none;
}
.btn-info.disabled:hover,
.btn-info[disabled]:hover,
fieldset[disabled] .btn-info:hover,
.btn-info.disabled:focus,
.btn-info[disabled]:focus,
fieldset[disabled] .btn-info:focus,
.btn-info.disabled.focus,
.btn-info[disabled].focus,
fieldset[disabled] .btn-info.focus {
  background-color: #5bc0de;
  border-color: #46b8da;
}
.btn-info .badge {
  color: #5bc0de;
  background-color: #fff;
}
.btn-warning {
  color: #fff;
  background-color: #f0ad4e;
  border-color: #eea236;
}
.btn-warning:focus,
.btn-warning.focus {
  color: #fff;
  background-color: #ec971f;
  border-color: #985f0d;
}
.btn-warning:hover {
  color: #fff;
  background-color: #ec971f;
  border-color: #d58512;
}
.btn-warning:active,
.btn-warning.active,
.open > .dropdown-toggle.btn-warning {
  color: #fff;
  background-color: #ec971f;
  border-color: #d58512;
}
.btn-warning:active:hover,
.btn-warning.active:hover,
.open > .dropdown-toggle.btn-warning:hover,
.btn-warning:active:focus,
.btn-warning.active:focus,
.open > .dropdown-toggle.btn-warning:focus,
.btn-warning:active.focus,
.btn-warning.active.focus,
.open > .dropdown-toggle.btn-warning.focus {
  color: #fff;
  background-color: #d58512;
  border-color: #985f0d;
}
.btn-warning:active,
.btn-warning.active,
.open > .dropdown-toggle.btn-warning {
  background-image: none;
}
.btn-warning.disabled:hover,
.btn-warning[disabled]:hover,
fieldset[disabled] .btn-warning:hover,
.btn-warning.disabled:focus,
.btn-warning[disabled]:focus,
fieldset[disabled] .btn-warning:focus,
.btn-warning.disabled.focus,
.btn-warning[disabled].focus,
fieldset[disabled] .btn-warning.focus {
  background-color: #f0ad4e;
  border-color: #eea236;
}
.btn-warning .badge {
  color: #f0ad4e;
  background-color: #fff;
}
.btn-danger {
  color: #fff;
  background-color: #d9534f;
  border-color: #d43f3a;
}
.btn-danger:focus,
.btn-danger.focus {
  color: #fff;
  background-color: #c9302c;
  border-color: #761c19;
}
.btn-danger:hover {
  color: #fff;
  background-color: #c9302c;
  border-color: #ac2925;
}
.btn-danger:active,
.btn-danger.active,
.open > .dropdown-toggle.btn-danger {
  color: #fff;
  background-color: #c9302c;
  border-color: #ac2925;
}
.btn-danger:active:hover,
.btn-danger.active:hover,
.open > .dropdown-toggle.btn-danger:hover,
.btn-danger:active:focus,
.btn-danger.active:focus,
.open > .dropdown-toggle.btn-danger:focus,
.btn-danger:active.focus,
.btn-danger.active.focus,
.open > .dropdown-toggle.btn-danger.focus {
  color: #fff;
  background-color: #ac2925;
  border-color: #761c19;
}
.btn-danger:active,
.btn-danger.active,
.open > .dropdown-toggle.btn-danger {
  background-image: none;
}
.btn-danger.disabled:hover,
.btn-danger[disabled]:hover,
fieldset[disabled] .btn-danger:hover,
.btn-danger.disabled:focus,
.btn-danger[disabled]:focus,
fieldset[disabled] .btn-danger:focus,
.btn-danger.disabled.focus,
.btn-danger[disabled].focus,
fieldset[disabled] .btn-danger.focus {
  background-color: #d9534f;
  border-color: #d43f3a;
}
.btn-danger .badge {
  color: #d9534f;
  background-color: #fff;
}
.btn-link {
  color: #337ab7;
  font-weight: normal;
  border-radius: 0;
}
.btn-link,
.btn-link:active,
.btn-link.active,
.btn-link[disabled],
fieldset[disabled] .btn-link {
  background-color: transparent;
  -webkit-box-shadow: none;
  box-shadow: none;
}
.btn-link,
.btn-link:hover,
.btn-link:focus,
.btn-link:active {
  border-color: transparent;
}
.btn-link:hover,
.btn-link:focus {
  color: #23527c;
  text-decoration: underline;
  background-color: transparent;
}
.btn-link[disabled]:hover,
fieldset[disabled] .btn-link:hover,
.btn-link[disabled]:focus,
fieldset[disabled] .btn-link:focus {
  color: #777777;
  text-decoration: none;
}
.btn-lg,
.btn-group-lg > .btn {
  padding: 10px 16px;
  font-size: 17px;
  line-height: 1.3333333;
  border-radius: 3px;
}
.btn-sm,
.btn-group-sm > .btn {
  padding: 5px 10px;
  font-size: 12px;
  line-height: 1.5;
  border-radius: 1px;
}
.btn-xs,
.btn-group-xs > .btn {
  padding: 1px 5px;
  font-size: 12px;
  line-height: 1.5;
  border-radius: 1px;
}
.btn-block {
  display: block;
  width: 100%;
}
.btn-block + .btn-block {
  margin-top: 5px;
}
input[type="submit"].btn-block,
input[type="reset"].btn-block,
input[type="button"].btn-block {
  width: 100%;
}
.fade {
  opacity: 0;
  -webkit-transition: opacity 0.15s linear;
  -o-transition: opacity 0.15s linear;
  transition: opacity 0.15s linear;
}
.fade.in {
  opacity: 1;
}
.collapse {
  display: none;
}
.collapse.in {
  display: block;
}
tr.collapse.in {
  display: table-row;
}
tbody.collapse.in {
  display: table-row-group;
}
.collapsing {
  position: relative;
  height: 0;
  overflow: hidden;
  -webkit-transition-property: height, visibility;
  transition-property: height, visibility;
  -webkit-transition-duration: 0.35s;
  transition-duration: 0.35s;
  -webkit-transition-timing-function: ease;
  transition-timing-function: ease;
}
.caret {
  display: inline-block;
  width: 0;
  height: 0;
  margin-left: 2px;
  vertical-align: middle;
  border-top: 4px dashed;
  border-top: 4px solid \9;
  border-right: 4px solid transparent;
  border-left: 4px solid transparent;
}
.dropup,
.dropdown {
  position: relative;
}
.dropdown-toggle:focus {
  outline: 0;
}
.dropdown-menu {
  position: absolute;
  top: 100%;
  left: 0;
  z-index: 1000;
  display: none;
  float: left;
  min-width: 160px;
  padding: 5px 0;
  margin: 2px 0 0;
  list-style: none;
  font-size: 13px;
  text-align: left;
  background-color: #fff;
  border: 1px solid #ccc;
  border: 1px solid rgba(0, 0, 0, 0.15);
  border-radius: 2px;
  -webkit-box-shadow: 0 6px 12px rgba(0, 0, 0, 0.175);
  box-shadow: 0 6px 12px rgba(0, 0, 0, 0.175);
  background-clip: padding-box;
}
.dropdown-menu.pull-right {
  right: 0;
  left: auto;
}
.dropdown-menu .divider {
  height: 1px;
  margin: 8px 0;
  overflow: hidden;
  background-color: #e5e5e5;
}
.dropdown-menu > li > a {
  display: block;
  padding: 3px 20px;
  clear: both;
  font-weight: normal;
  line-height: 1.42857143;
  color: #333333;
  white-space: nowrap;
}
.dropdown-menu > li > a:hover,
.dropdown-menu > li > a:focus {
  text-decoration: none;
  color: #262626;
  background-color: #f5f5f5;
}
.dropdown-menu > .active > a,
.dropdown-menu > .active > a:hover,
.dropdown-menu > .active > a:focus {
  color: #fff;
  text-decoration: none;
  outline: 0;
  background-color: #337ab7;
}
.dropdown-menu > .disabled > a,
.dropdown-menu > .disabled > a:hover,
.dropdown-menu > .disabled > a:focus {
  color: #777777;
}
.dropdown-menu > .disabled > a:hover,
.dropdown-menu > .disabled > a:focus {
  text-decoration: none;
  background-color: transparent;
  background-image: none;
  filter: progid:DXImageTransform.Microsoft.gradient(enabled = false);
  cursor: not-allowed;
}
.open > .dropdown-menu {
  display: block;
}
.open > a {
  outline: 0;
}
.dropdown-menu-right {
  left: auto;
  right: 0;
}
.dropdown-menu-left {
  left: 0;
  right: auto;
}
.dropdown-header {
  display: block;
  padding: 3px 20px;
  font-size: 12px;
  line-height: 1.42857143;
  color: #777777;
  white-space: nowrap;
}
.dropdown-backdrop {
  position: fixed;
  left: 0;
  right: 0;
  bottom: 0;
  top: 0;
  z-index: 990;
}
.pull-right > .dropdown-menu {
  right: 0;
  left: auto;
}
.dropup .caret,
.navbar-fixed-bottom .dropdown .caret {
  border-top: 0;
  border-bottom: 4px dashed;
  border-bottom: 4px solid \9;
  content: "";
}
.dropup .dropdown-menu,
.navbar-fixed-bottom .dropdown .dropdown-menu {
  top: auto;
  bottom: 100%;
  margin-bottom: 2px;
}
@media (min-width: 541px) {
  .navbar-right .dropdown-menu {
    left: auto;
    right: 0;
  }
  .navbar-right .dropdown-menu-left {
    left: 0;
    right: auto;
  }
}
.btn-group,
.btn-group-vertical {
  position: relative;
  display: inline-block;
  vertical-align: middle;
}
.btn-group > .btn,
.btn-group-vertical > .btn {
  position: relative;
  float: left;
}
.btn-group > .btn:hover,
.btn-group-vertical > .btn:hover,
.btn-group > .btn:focus,
.btn-group-vertical > .btn:focus,
.btn-group > .btn:active,
.btn-group-vertical > .btn:active,
.btn-group > .btn.active,
.btn-group-vertical > .btn.active {
  z-index: 2;
}
.btn-group .btn + .btn,
.btn-group .btn + .btn-group,
.btn-group .btn-group + .btn,
.btn-group .btn-group + .btn-group {
  margin-left: -1px;
}
.btn-toolbar {
  margin-left: -5px;
}
.btn-toolbar .btn,
.btn-toolbar .btn-group,
.btn-toolbar .input-group {
  float: left;
}
.btn-toolbar > .btn,
.btn-toolbar > .btn-group,
.btn-toolbar > .input-group {
  margin-left: 5px;
}
.btn-group > .btn:not(:first-child):not(:last-child):not(.dropdown-toggle) {
  border-radius: 0;
}
.btn-group > .btn:first-child {
  margin-left: 0;
}
.btn-group > .btn:first-child:not(:last-child):not(.dropdown-toggle) {
  border-bottom-right-radius: 0;
  border-top-right-radius: 0;
}
.btn-group > .btn:last-child:not(:first-child),
.btn-group > .dropdown-toggle:not(:first-child) {
  border-bottom-left-radius: 0;
  border-top-left-radius: 0;
}
.btn-group > .btn-group {
  float: left;
}
.btn-group > .btn-group:not(:first-child):not(:last-child) > .btn {
  border-radius: 0;
}
.btn-group > .btn-group:first-child:not(:last-child) > .btn:last-child,
.btn-group > .btn-group:first-child:not(:last-child) > .dropdown-toggle {
  border-bottom-right-radius: 0;
  border-top-right-radius: 0;
}
.btn-group > .btn-group:last-child:not(:first-child) > .btn:first-child {
  border-bottom-left-radius: 0;
  border-top-left-radius: 0;
}
.btn-group .dropdown-toggle:active,
.btn-group.open .dropdown-toggle {
  outline: 0;
}
.btn-group > .btn + .dropdown-toggle {
  padding-left: 8px;
  padding-right: 8px;
}
.btn-group > .btn-lg + .dropdown-toggle {
  padding-left: 12px;
  padding-right: 12px;
}
.btn-group.open .dropdown-toggle {
  -webkit-box-shadow: inset 0 3px 5px rgba(0, 0, 0, 0.125);
  box-shadow: inset 0 3px 5px rgba(0, 0, 0, 0.125);
}
.btn-group.open .dropdown-toggle.btn-link {
  -webkit-box-shadow: none;
  box-shadow: none;
}
.btn .caret {
  margin-left: 0;
}
.btn-lg .caret {
  border-width: 5px 5px 0;
  border-bottom-width: 0;
}
.dropup .btn-lg .caret {
  border-width: 0 5px 5px;
}
.btn-group-vertical > .btn,
.btn-group-vertical > .btn-group,
.btn-group-vertical > .btn-group > .btn {
  display: block;
  float: none;
  width: 100%;
  max-width: 100%;
}
.btn-group-vertical > .btn-group > .btn {
  float: none;
}
.btn-group-vertical > .btn + .btn,
.btn-group-vertical > .btn + .btn-group,
.btn-group-vertical > .btn-group + .btn,
.btn-group-vertical > .btn-group + .btn-group {
  margin-top: -1px;
  margin-left: 0;
}
.btn-group-vertical > .btn:not(:first-child):not(:last-child) {
  border-radius: 0;
}
.btn-group-vertical > .btn:first-child:not(:last-child) {
  border-top-right-radius: 2px;
  border-top-left-radius: 2px;
  border-bottom-right-radius: 0;
  border-bottom-left-radius: 0;
}
.btn-group-vertical > .btn:last-child:not(:first-child) {
  border-top-right-radius: 0;
  border-top-left-radius: 0;
  border-bottom-right-radius: 2px;
  border-bottom-left-radius: 2px;
}
.btn-group-vertical > .btn-group:not(:first-child):not(:last-child) > .btn {
  border-radius: 0;
}
.btn-group-vertical > .btn-group:first-child:not(:last-child) > .btn:last-child,
.btn-group-vertical > .btn-group:first-child:not(:last-child) > .dropdown-toggle {
  border-bottom-right-radius: 0;
  border-bottom-left-radius: 0;
}
.btn-group-vertical > .btn-group:last-child:not(:first-child) > .btn:first-child {
  border-top-right-radius: 0;
  border-top-left-radius: 0;
}
.btn-group-justified {
  display: table;
  width: 100%;
  table-layout: fixed;
  border-collapse: separate;
}
.btn-group-justified > .btn,
.btn-group-justified > .btn-group {
  float: none;
  display: table-cell;
  width: 1%;
}
.btn-group-justified > .btn-group .btn {
  width: 100%;
}
.btn-group-justified > .btn-group .dropdown-menu {
  left: auto;
}
[data-toggle="buttons"] > .btn input[type="radio"],
[data-toggle="buttons"] > .btn-group > .btn input[type="radio"],
[data-toggle="buttons"] > .btn input[type="checkbox"],
[data-toggle="buttons"] > .btn-group > .btn input[type="checkbox"] {
  position: absolute;
  clip: rect(0, 0, 0, 0);
  pointer-events: none;
}
.input-group {
  position: relative;
  display: table;
  border-collapse: separate;
}
.input-group[class*="col-"] {
  float: none;
  padding-left: 0;
  padding-right: 0;
}
.input-group .form-control {
  position: relative;
  z-index: 2;
  float: left;
  width: 100%;
  margin-bottom: 0;
}
.input-group .form-control:focus {
  z-index: 3;
}
.input-group-lg > .form-control,
.input-group-lg > .input-group-addon,
.input-group-lg > .input-group-btn > .btn {
  height: 45px;
  padding: 10px 16px;
  font-size: 17px;
  line-height: 1.3333333;
  border-radius: 3px;
}
select.input-group-lg > .form-control,
select.input-group-lg > .input-group-addon,
select.input-group-lg > .input-group-btn > .btn {
  height: 45px;
  line-height: 45px;
}
textarea.input-group-lg > .form-control,
textarea.input-group-lg > .input-group-addon,
textarea.input-group-lg > .input-group-btn > .btn,
select[multiple].input-group-lg > .form-control,
select[multiple].input-group-lg > .input-group-addon,
select[multiple].input-group-lg > .input-group-btn > .btn {
  height: auto;
}
.input-group-sm > .form-control,
.input-group-sm > .input-group-addon,
.input-group-sm > .input-group-btn > .btn {
  height: 30px;
  padding: 5px 10px;
  font-size: 12px;
  line-height: 1.5;
  border-radius: 1px;
}
select.input-group-sm > .form-control,
select.input-group-sm > .input-group-addon,
select.input-group-sm > .input-group-btn > .btn {
  height: 30px;
  line-height: 30px;
}
textarea.input-group-sm > .form-control,
textarea.input-group-sm > .input-group-addon,
textarea.input-group-sm > .input-group-btn > .btn,
select[multiple].input-group-sm > .form-control,
select[multiple].input-group-sm > .input-group-addon,
select[multiple].input-group-sm > .input-group-btn > .btn {
  height: auto;
}
.input-group-addon,
.input-group-btn,
.input-group .form-control {
  display: table-cell;
}
.input-group-addon:not(:first-child):not(:last-child),
.input-group-btn:not(:first-child):not(:last-child),
.input-group .form-control:not(:first-child):not(:last-child) {
  border-radius: 0;
}
.input-group-addon,
.input-group-btn {
  width: 1%;
  white-space: nowrap;
  vertical-align: middle;
}
.input-group-addon {
  padding: 6px 12px;
  font-size: 13px;
  font-weight: normal;
  line-height: 1;
  color: #555555;
  text-align: center;
  background-color: #eeeeee;
  border: 1px solid #ccc;
  border-radius: 2px;
}
.input-group-addon.input-sm {
  padding: 5px 10px;
  font-size: 12px;
  border-radius: 1px;
}
.input-group-addon.input-lg {
  padding: 10px 16px;
  font-size: 17px;
  border-radius: 3px;
}
.input-group-addon input[type="radio"],
.input-group-addon input[type="checkbox"] {
  margin-top: 0;
}
.input-group .form-control:first-child,
.input-group-addon:first-child,
.input-group-btn:first-child > .btn,
.input-group-btn:first-child > .btn-group > .btn,
.input-group-btn:first-child > .dropdown-toggle,
.input-group-btn:last-child > .btn:not(:last-child):not(.dropdown-toggle),
.input-group-btn:last-child > .btn-group:not(:last-child) > .btn {
  border-bottom-right-radius: 0;
  border-top-right-radius: 0;
}
.input-group-addon:first-child {
  border-right: 0;
}
.input-group .form-control:last-child,
.input-group-addon:last-child,
.input-group-btn:last-child > .btn,
.input-group-btn:last-child > .btn-group > .btn,
.input-group-btn:last-child > .dropdown-toggle,
.input-group-btn:first-child > .btn:not(:first-child),
.input-group-btn:first-child > .btn-group:not(:first-child) > .btn {
  border-bottom-left-radius: 0;
  border-top-left-radius: 0;
}
.input-group-addon:last-child {
  border-left: 0;
}
.input-group-btn {
  position: relative;
  font-size: 0;
  white-space: nowrap;
}
.input-group-btn > .btn {
  position: relative;
}
.input-group-btn > .btn + .btn {
  margin-left: -1px;
}
.input-group-btn > .btn:hover,
.input-group-btn > .btn:focus,
.input-group-btn > .btn:active {
  z-index: 2;
}
.input-group-btn:first-child > .btn,
.input-group-btn:first-child > .btn-group {
  margin-right: -1px;
}
.input-group-btn:last-child > .btn,
.input-group-btn:last-child > .btn-group {
  z-index: 2;
  margin-left: -1px;
}
.nav {
  margin-bottom: 0;
  padding-left: 0;
  list-style: none;
}
.nav > li {
  position: relative;
  display: block;
}
.nav > li > a {
  position: relative;
  display: block;
  padding: 10px 15px;
}
.nav > li > a:hover,
.nav > li > a:focus {
  text-decoration: none;
  background-color: #eeeeee;
}
.nav > li.disabled > a {
  color: #777777;
}
.nav > li.disabled > a:hover,
.nav > li.disabled > a:focus {
  color: #777777;
  text-decoration: none;
  background-color: transparent;
  cursor: not-allowed;
}
.nav .open > a,
.nav .open > a:hover,
.nav .open > a:focus {
  background-color: #eeeeee;
  border-color: #337ab7;
}
.nav .nav-divider {
  height: 1px;
  margin: 8px 0;
  overflow: hidden;
  background-color: #e5e5e5;
}
.nav > li > a > img {
  max-width: none;
}
.nav-tabs {
  border-bottom: 1px solid #ddd;
}
.nav-tabs > li {
  float: left;
  margin-bottom: -1px;
}
.nav-tabs > li > a {
  margin-right: 2px;
  line-height: 1.42857143;
  border: 1px solid transparent;
  border-radius: 2px 2px 0 0;
}
.nav-tabs > li > a:hover {
  border-color: #eeeeee #eeeeee #ddd;
}
.nav-tabs > li.active > a,
.nav-tabs > li.active > a:hover,
.nav-tabs > li.active > a:focus {
  color: #555555;
  background-color: #fff;
  border: 1px solid #ddd;
  border-bottom-color: transparent;
  cursor: default;
}
.nav-tabs.nav-justified {
  width: 100%;
  border-bottom: 0;
}
.nav-tabs.nav-justified > li {
  float: none;
}
.nav-tabs.nav-justified > li > a {
  text-align: center;
  margin-bottom: 5px;
}
.nav-tabs.nav-justified > .dropdown .dropdown-menu {
  top: auto;
  left: auto;
}
@media (min-width: 768px) {
  .nav-tabs.nav-justified > li {
    display: table-cell;
    width: 1%;
  }
  .nav-tabs.nav-justified > li > a {
    margin-bottom: 0;
  }
}
.nav-tabs.nav-justified > li > a {
  margin-right: 0;
  border-radius: 2px;
}
.nav-tabs.nav-justified > .active > a,
.nav-tabs.nav-justified > .active > a:hover,
.nav-tabs.nav-justified > .active > a:focus {
  border: 1px solid #ddd;
}
@media (min-width: 768px) {
  .nav-tabs.nav-justified > li > a {
    border-bottom: 1px solid #ddd;
    border-radius: 2px 2px 0 0;
  }
  .nav-tabs.nav-justified > .active > a,
  .nav-tabs.nav-justified > .active > a:hover,
  .nav-tabs.nav-justified > .active > a:focus {
    border-bottom-color: #fff;
  }
}
.nav-pills > li {
  float: left;
}
.nav-pills > li > a {
  border-radius: 2px;
}
.nav-pills > li + li {
  margin-left: 2px;
}
.nav-pills > li.active > a,
.nav-pills > li.active > a:hover,
.nav-pills > li.active > a:focus {
  color: #fff;
  background-color: #337ab7;
}
.nav-stacked > li {
  float: none;
}
.nav-stacked > li + li {
  margin-top: 2px;
  margin-left: 0;
}
.nav-justified {
  width: 100%;
}
.nav-justified > li {
  float: none;
}
.nav-justified > li > a {
  text-align: center;
  margin-bottom: 5px;
}
.nav-justified > .dropdown .dropdown-menu {
  top: auto;
  left: auto;
}
@media (min-width: 768px) {
  .nav-justified > li {
    display: table-cell;
    width: 1%;
  }
  .nav-justified > li > a {
    margin-bottom: 0;
  }
}
.nav-tabs-justified {
  border-bottom: 0;
}
.nav-tabs-justified > li > a {
  margin-right: 0;
  border-radius: 2px;
}
.nav-tabs-justified > .active > a,
.nav-tabs-justified > .active > a:hover,
.nav-tabs-justified > .active > a:focus {
  border: 1px solid #ddd;
}
@media (min-width: 768px) {
  .nav-tabs-justified > li > a {
    border-bottom: 1px solid #ddd;
    border-radius: 2px 2px 0 0;
  }
  .nav-tabs-justified > .active > a,
  .nav-tabs-justified > .active > a:hover,
  .nav-tabs-justified > .active > a:focus {
    border-bottom-color: #fff;
  }
}
.tab-content > .tab-pane {
  display: none;
}
.tab-content > .active {
  display: block;
}
.nav-tabs .dropdown-menu {
  margin-top: -1px;
  border-top-right-radius: 0;
  border-top-left-radius: 0;
}
.navbar {
  position: relative;
  min-height: 30px;
  margin-bottom: 18px;
  border: 1px solid transparent;
}
@media (min-width: 541px) {
  .navbar {
    border-radius: 2px;
  }
}
@media (min-width: 541px) {
  .navbar-header {
    float: left;
  }
}
.navbar-collapse {
  overflow-x: visible;
  padding-right: 0px;
  padding-left: 0px;
  border-top: 1px solid transparent;
  box-shadow: inset 0 1px 0 rgba(255, 255, 255, 0.1);
  -webkit-overflow-scrolling: touch;
}
.navbar-collapse.in {
  overflow-y: auto;
}
@media (min-width: 541px) {
  .navbar-collapse {
    width: auto;
    border-top: 0;
    box-shadow: none;
  }
  .navbar-collapse.collapse {
    display: block !important;
    height: auto !important;
    padding-bottom: 0;
    overflow: visible !important;
  }
  .navbar-collapse.in {
    overflow-y: visible;
  }
  .navbar-fixed-top .navbar-collapse,
  .navbar-static-top .navbar-collapse,
  .navbar-fixed-bottom .navbar-collapse {
    padding-left: 0;
    padding-right: 0;
  }
}
.navbar-fixed-top .navbar-collapse,
.navbar-fixed-bottom .navbar-collapse {
  max-height: 340px;
}
@media (max-device-width: 540px) and (orientation: landscape) {
  .navbar-fixed-top .navbar-collapse,
  .navbar-fixed-bottom .navbar-collapse {
    max-height: 200px;
  }
}
.container > .navbar-header,
.container-fluid > .navbar-header,
.container > .navbar-collapse,
.container-fluid > .navbar-collapse {
  margin-right: 0px;
  margin-left: 0px;
}
@media (min-width: 541px) {
  .container > .navbar-header,
  .container-fluid > .navbar-header,
  .container > .navbar-collapse,
  .container-fluid > .navbar-collapse {
    margin-right: 0;
    margin-left: 0;
  }
}
.navbar-static-top {
  z-index: 1000;
  border-width: 0 0 1px;
}
@media (min-width: 541px) {
  .navbar-static-top {
    border-radius: 0;
  }
}
.navbar-fixed-top,
.navbar-fixed-bottom {
  position: fixed;
  right: 0;
  left: 0;
  z-index: 1030;
}
@media (min-width: 541px) {
  .navbar-fixed-top,
  .navbar-fixed-bottom {
    border-radius: 0;
  }
}
.navbar-fixed-top {
  top: 0;
  border-width: 0 0 1px;
}
.navbar-fixed-bottom {
  bottom: 0;
  margin-bottom: 0;
  border-width: 1px 0 0;
}
.navbar-brand {
  float: left;
  padding: 6px 0px;
  font-size: 17px;
  line-height: 18px;
  height: 30px;
}
.navbar-brand:hover,
.navbar-brand:focus {
  text-decoration: none;
}
.navbar-brand > img {
  display: block;
}
@media (min-width: 541px) {
  .navbar > .container .navbar-brand,
  .navbar > .container-fluid .navbar-brand {
    margin-left: 0px;
  }
}
.navbar-toggle {
  position: relative;
  float: right;
  margin-right: 0px;
  padding: 9px 10px;
  margin-top: -2px;
  margin-bottom: -2px;
  background-color: transparent;
  background-image: none;
  border: 1px solid transparent;
  border-radius: 2px;
}
.navbar-toggle:focus {
  outline: 0;
}
.navbar-toggle .icon-bar {
  display: block;
  width: 22px;
  height: 2px;
  border-radius: 1px;
}
.navbar-toggle .icon-bar + .icon-bar {
  margin-top: 4px;
}
@media (min-width: 541px) {
  .navbar-toggle {
    display: none;
  }
}
.navbar-nav {
  margin: 3px 0px;
}
.navbar-nav > li > a {
  padding-top: 10px;
  padding-bottom: 10px;
  line-height: 18px;
}
@media (max-width: 540px) {
  .navbar-nav .open .dropdown-menu {
    position: static;
    float: none;
    width: auto;
    margin-top: 0;
    background-color: transparent;
    border: 0;
    box-shadow: none;
  }
  .navbar-nav .open .dropdown-menu > li > a,
  .navbar-nav .open .dropdown-menu .dropdown-header {
    padding: 5px 15px 5px 25px;
  }
  .navbar-nav .open .dropdown-menu > li > a {
    line-height: 18px;
  }
  .navbar-nav .open .dropdown-menu > li > a:hover,
  .navbar-nav .open .dropdown-menu > li > a:focus {
    background-image: none;
  }
}
@media (min-width: 541px) {
  .navbar-nav {
    float: left;
    margin: 0;
  }
  .navbar-nav > li {
    float: left;
  }
  .navbar-nav > li > a {
    padding-top: 6px;
    padding-bottom: 6px;
  }
}
.navbar-form {
  margin-left: 0px;
  margin-right: 0px;
  padding: 10px 0px;
  border-top: 1px solid transparent;
  border-bottom: 1px solid transparent;
  -webkit-box-shadow: inset 0 1px 0 rgba(255, 255, 255, 0.1), 0 1px 0 rgba(255, 255, 255, 0.1);
  box-shadow: inset 0 1px 0 rgba(255, 255, 255, 0.1), 0 1px 0 rgba(255, 255, 255, 0.1);
  margin-top: -1px;
  margin-bottom: -1px;
}
@media (min-width: 768px) {
  .navbar-form .form-group {
    display: inline-block;
    margin-bottom: 0;
    vertical-align: middle;
  }
  .navbar-form .form-control {
    display: inline-block;
    width: auto;
    vertical-align: middle;
  }
  .navbar-form .form-control-static {
    display: inline-block;
  }
  .navbar-form .input-group {
    display: inline-table;
    vertical-align: middle;
  }
  .navbar-form .input-group .input-group-addon,
  .navbar-form .input-group .input-group-btn,
  .navbar-form .input-group .form-control {
    width: auto;
  }
  .navbar-form .input-group > .form-control {
    width: 100%;
  }
  .navbar-form .control-label {
    margin-bottom: 0;
    vertical-align: middle;
  }
  .navbar-form .radio,
  .navbar-form .checkbox {
    display: inline-block;
    margin-top: 0;
    margin-bottom: 0;
    vertical-align: middle;
  }
  .navbar-form .radio label,
  .navbar-form .checkbox label {
    padding-left: 0;
  }
  .navbar-form .radio input[type="radio"],
  .navbar-form .checkbox input[type="checkbox"] {
    position: relative;
    margin-left: 0;
  }
  .navbar-form .has-feedback .form-control-feedback {
    top: 0;
  }
}
@media (max-width: 540px) {
  .navbar-form .form-group {
    margin-bottom: 5px;
  }
  .navbar-form .form-group:last-child {
    margin-bottom: 0;
  }
}
@media (min-width: 541px) {
  .navbar-form {
    width: auto;
    border: 0;
    margin-left: 0;
    margin-right: 0;
    padding-top: 0;
    padding-bottom: 0;
    -webkit-box-shadow: none;
    box-shadow: none;
  }
}
.navbar-nav > li > .dropdown-menu {
  margin-top: 0;
  border-top-right-radius: 0;
  border-top-left-radius: 0;
}
.navbar-fixed-bottom .navbar-nav > li > .dropdown-menu {
  margin-bottom: 0;
  border-top-right-radius: 2px;
  border-top-left-radius: 2px;
  border-bottom-right-radius: 0;
  border-bottom-left-radius: 0;
}
.navbar-btn {
  margin-top: -1px;
  margin-bottom: -1px;
}
.navbar-btn.btn-sm {
  margin-top: 0px;
  margin-bottom: 0px;
}
.navbar-btn.btn-xs {
  margin-top: 4px;
  margin-bottom: 4px;
}
.navbar-text {
  margin-top: 6px;
  margin-bottom: 6px;
}
@media (min-width: 541px) {
  .navbar-text {
    float: left;
    margin-left: 0px;
    margin-right: 0px;
  }
}
@media (min-width: 541px) {
  .navbar-left {
    float: left !important;
    float: left;
  }
  .navbar-right {
    float: right !important;
    float: right;
    margin-right: 0px;
  }
  .navbar-right ~ .navbar-right {
    margin-right: 0;
  }
}
.navbar-default {
  background-color: #f8f8f8;
  border-color: #e7e7e7;
}
.navbar-default .navbar-brand {
  color: #777;
}
.navbar-default .navbar-brand:hover,
.navbar-default .navbar-brand:focus {
  color: #5e5e5e;
  background-color: transparent;
}
.navbar-default .navbar-text {
  color: #777;
}
.navbar-default .navbar-nav > li > a {
  color: #777;
}
.navbar-default .navbar-nav > li > a:hover,
.navbar-default .navbar-nav > li > a:focus {
  color: #333;
  background-color: transparent;
}
.navbar-default .navbar-nav > .active > a,
.navbar-default .navbar-nav > .active > a:hover,
.navbar-default .navbar-nav > .active > a:focus {
  color: #555;
  background-color: #e7e7e7;
}
.navbar-default .navbar-nav > .disabled > a,
.navbar-default .navbar-nav > .disabled > a:hover,
.navbar-default .navbar-nav > .disabled > a:focus {
  color: #ccc;
  background-color: transparent;
}
.navbar-default .navbar-toggle {
  border-color: #ddd;
}
.navbar-default .navbar-toggle:hover,
.navbar-default .navbar-toggle:focus {
  background-color: #ddd;
}
.navbar-default .navbar-toggle .icon-bar {
  background-color: #888;
}
.navbar-default .navbar-collapse,
.navbar-default .navbar-form {
  border-color: #e7e7e7;
}
.navbar-default .navbar-nav > .open > a,
.navbar-default .navbar-nav > .open > a:hover,
.navbar-default .navbar-nav > .open > a:focus {
  background-color: #e7e7e7;
  color: #555;
}
@media (max-width: 540px) {
  .navbar-default .navbar-nav .open .dropdown-menu > li > a {
    color: #777;
  }
  .navbar-default .navbar-nav .open .dropdown-menu > li > a:hover,
  .navbar-default .navbar-nav .open .dropdown-menu > li > a:focus {
    color: #333;
    background-color: transparent;
  }
  .navbar-default .navbar-nav .open .dropdown-menu > .active > a,
  .navbar-default .navbar-nav .open .dropdown-menu > .active > a:hover,
  .navbar-default .navbar-nav .open .dropdown-menu > .active > a:focus {
    color: #555;
    background-color: #e7e7e7;
  }
  .navbar-default .navbar-nav .open .dropdown-menu > .disabled > a,
  .navbar-default .navbar-nav .open .dropdown-menu > .disabled > a:hover,
  .navbar-default .navbar-nav .open .dropdown-menu > .disabled > a:focus {
    color: #ccc;
    background-color: transparent;
  }
}
.navbar-default .navbar-link {
  color: #777;
}
.navbar-default .navbar-link:hover {
  color: #333;
}
.navbar-default .btn-link {
  color: #777;
}
.navbar-default .btn-link:hover,
.navbar-default .btn-link:focus {
  color: #333;
}
.navbar-default .btn-link[disabled]:hover,
fieldset[disabled] .navbar-default .btn-link:hover,
.navbar-default .btn-link[disabled]:focus,
fieldset[disabled] .navbar-default .btn-link:focus {
  color: #ccc;
}
.navbar-inverse {
  background-color: #222;
  border-color: #080808;
}
.navbar-inverse .navbar-brand {
  color: #9d9d9d;
}
.navbar-inverse .navbar-brand:hover,
.navbar-inverse .navbar-brand:focus {
  color: #fff;
  background-color: transparent;
}
.navbar-inverse .navbar-text {
  color: #9d9d9d;
}
.navbar-inverse .navbar-nav > li > a {
  color: #9d9d9d;
}
.navbar-inverse .navbar-nav > li > a:hover,
.navbar-inverse .navbar-nav > li > a:focus {
  color: #fff;
  background-color: transparent;
}
.navbar-inverse .navbar-nav > .active > a,
.navbar-inverse .navbar-nav > .active > a:hover,
.navbar-inverse .navbar-nav > .active > a:focus {
  color: #fff;
  background-color: #080808;
}
.navbar-inverse .navbar-nav > .disabled > a,
.navbar-inverse .navbar-nav > .disabled > a:hover,
.navbar-inverse .navbar-nav > .disabled > a:focus {
  color: #444;
  background-color: transparent;
}
.navbar-inverse .navbar-toggle {
  border-color: #333;
}
.navbar-inverse .navbar-toggle:hover,
.navbar-inverse .navbar-toggle:focus {
  background-color: #333;
}
.navbar-inverse .navbar-toggle .icon-bar {
  background-color: #fff;
}
.navbar-inverse .navbar-collapse,
.navbar-inverse .navbar-form {
  border-color: #101010;
}
.navbar-inverse .navbar-nav > .open > a,
.navbar-inverse .navbar-nav > .open > a:hover,
.navbar-inverse .navbar-nav > .open > a:focus {
  background-color: #080808;
  color: #fff;
}
@media (max-width: 540px) {
  .navbar-inverse .navbar-nav .open .dropdown-menu > .dropdown-header {
    border-color: #080808;
  }
  .navbar-inverse .navbar-nav .open .dropdown-menu .divider {
    background-color: #080808;
  }
  .navbar-inverse .navbar-nav .open .dropdown-menu > li > a {
    color: #9d9d9d;
  }
  .navbar-inverse .navbar-nav .open .dropdown-menu > li > a:hover,
  .navbar-inverse .navbar-nav .open .dropdown-menu > li > a:focus {
    color: #fff;
    background-color: transparent;
  }
  .navbar-inverse .navbar-nav .open .dropdown-menu > .active > a,
  .navbar-inverse .navbar-nav .open .dropdown-menu > .active > a:hover,
  .navbar-inverse .navbar-nav .open .dropdown-menu > .active > a:focus {
    color: #fff;
    background-color: #080808;
  }
  .navbar-inverse .navbar-nav .open .dropdown-menu > .disabled > a,
  .navbar-inverse .navbar-nav .open .dropdown-menu > .disabled > a:hover,
  .navbar-inverse .navbar-nav .open .dropdown-menu > .disabled > a:focus {
    color: #444;
    background-color: transparent;
  }
}
.navbar-inverse .navbar-link {
  color: #9d9d9d;
}
.navbar-inverse .navbar-link:hover {
  color: #fff;
}
.navbar-inverse .btn-link {
  color: #9d9d9d;
}
.navbar-inverse .btn-link:hover,
.navbar-inverse .btn-link:focus {
  color: #fff;
}
.navbar-inverse .btn-link[disabled]:hover,
fieldset[disabled] .navbar-inverse .btn-link:hover,
.navbar-inverse .btn-link[disabled]:focus,
fieldset[disabled] .navbar-inverse .btn-link:focus {
  color: #444;
}
.breadcrumb {
  padding: 8px 15px;
  margin-bottom: 18px;
  list-style: none;
  background-color: #f5f5f5;
  border-radius: 2px;
}
.breadcrumb > li {
  display: inline-block;
}
.breadcrumb > li + li:before {
  content: "/\00a0";
  padding: 0 5px;
  color: #5e5e5e;
}
.breadcrumb > .active {
  color: #777777;
}
.pagination {
  display: inline-block;
  padding-left: 0;
  margin: 18px 0;
  border-radius: 2px;
}
.pagination > li {
  display: inline;
}
.pagination > li > a,
.pagination > li > span {
  position: relative;
  float: left;
  padding: 6px 12px;
  line-height: 1.42857143;
  text-decoration: none;
  color: #337ab7;
  background-color: #fff;
  border: 1px solid #ddd;
  margin-left: -1px;
}
.pagination > li:first-child > a,
.pagination > li:first-child > span {
  margin-left: 0;
  border-bottom-left-radius: 2px;
  border-top-left-radius: 2px;
}
.pagination > li:last-child > a,
.pagination > li:last-child > span {
  border-bottom-right-radius: 2px;
  border-top-right-radius: 2px;
}
.pagination > li > a:hover,
.pagination > li > span:hover,
.pagination > li > a:focus,
.pagination > li > span:focus {
  z-index: 2;
  color: #23527c;
  background-color: #eeeeee;
  border-color: #ddd;
}
.pagination > .active > a,
.pagination > .active > span,
.pagination > .active > a:hover,
.pagination > .active > span:hover,
.pagination > .active > a:focus,
.pagination > .active > span:focus {
  z-index: 3;
  color: #fff;
  background-color: #337ab7;
  border-color: #337ab7;
  cursor: default;
}
.pagination > .disabled > span,
.pagination > .disabled > span:hover,
.pagination > .disabled > span:focus,
.pagination > .disabled > a,
.pagination > .disabled > a:hover,
.pagination > .disabled > a:focus {
  color: #777777;
  background-color: #fff;
  border-color: #ddd;
  cursor: not-allowed;
}
.pagination-lg > li > a,
.pagination-lg > li > span {
  padding: 10px 16px;
  font-size: 17px;
  line-height: 1.3333333;
}
.pagination-lg > li:first-child > a,
.pagination-lg > li:first-child > span {
  border-bottom-left-radius: 3px;
  border-top-left-radius: 3px;
}
.pagination-lg > li:last-child > a,
.pagination-lg > li:last-child > span {
  border-bottom-right-radius: 3px;
  border-top-right-radius: 3px;
}
.pagination-sm > li > a,
.pagination-sm > li > span {
  padding: 5px 10px;
  font-size: 12px;
  line-height: 1.5;
}
.pagination-sm > li:first-child > a,
.pagination-sm > li:first-child > span {
  border-bottom-left-radius: 1px;
  border-top-left-radius: 1px;
}
.pagination-sm > li:last-child > a,
.pagination-sm > li:last-child > span {
  border-bottom-right-radius: 1px;
  border-top-right-radius: 1px;
}
.pager {
  padding-left: 0;
  margin: 18px 0;
  list-style: none;
  text-align: center;
}
.pager li {
  display: inline;
}
.pager li > a,
.pager li > span {
  display: inline-block;
  padding: 5px 14px;
  background-color: #fff;
  border: 1px solid #ddd;
  border-radius: 15px;
}
.pager li > a:hover,
.pager li > a:focus {
  text-decoration: none;
  background-color: #eeeeee;
}
.pager .next > a,
.pager .next > span {
  float: right;
}
.pager .previous > a,
.pager .previous > span {
  float: left;
}
.pager .disabled > a,
.pager .disabled > a:hover,
.pager .disabled > a:focus,
.pager .disabled > span {
  color: #777777;
  background-color: #fff;
  cursor: not-allowed;
}
.label {
  display: inline;
  padding: .2em .6em .3em;
  font-size: 75%;
  font-weight: bold;
  line-height: 1;
  color: #fff;
  text-align: center;
  white-space: nowrap;
  vertical-align: baseline;
  border-radius: .25em;
}
a.label:hover,
a.label:focus {
  color: #fff;
  text-decoration: none;
  cursor: pointer;
}
.label:empty {
  display: none;
}
.btn .label {
  position: relative;
  top: -1px;
}
.label-default {
  background-color: #777777;
}
.label-default[href]:hover,
.label-default[href]:focus {
  background-color: #5e5e5e;
}
.label-primary {
  background-color: #337ab7;
}
.label-primary[href]:hover,
.label-primary[href]:focus {
  background-color: #286090;
}
.label-success {
  background-color: #5cb85c;
}
.label-success[href]:hover,
.label-success[href]:focus {
  background-color: #449d44;
}
.label-info {
  background-color: #5bc0de;
}
.label-info[href]:hover,
.label-info[href]:focus {
  background-color: #31b0d5;
}
.label-warning {
  background-color: #f0ad4e;
}
.label-warning[href]:hover,
.label-warning[href]:focus {
  background-color: #ec971f;
}
.label-danger {
  background-color: #d9534f;
}
.label-danger[href]:hover,
.label-danger[href]:focus {
  background-color: #c9302c;
}
.badge {
  display: inline-block;
  min-width: 10px;
  padding: 3px 7px;
  font-size: 12px;
  font-weight: bold;
  color: #fff;
  line-height: 1;
  vertical-align: middle;
  white-space: nowrap;
  text-align: center;
  background-color: #777777;
  border-radius: 10px;
}
.badge:empty {
  display: none;
}
.btn .badge {
  position: relative;
  top: -1px;
}
.btn-xs .badge,
.btn-group-xs > .btn .badge {
  top: 0;
  padding: 1px 5px;
}
a.badge:hover,
a.badge:focus {
  color: #fff;
  text-decoration: none;
  cursor: pointer;
}
.list-group-item.active > .badge,
.nav-pills > .active > a > .badge {
  color: #337ab7;
  background-color: #fff;
}
.list-group-item > .badge {
  float: right;
}
.list-group-item > .badge + .badge {
  margin-right: 5px;
}
.nav-pills > li > a > .badge {
  margin-left: 3px;
}
.jumbotron {
  padding-top: 30px;
  padding-bottom: 30px;
  margin-bottom: 30px;
  color: inherit;
  background-color: #eeeeee;
}
.jumbotron h1,
.jumbotron .h1 {
  color: inherit;
}
.jumbotron p {
  margin-bottom: 15px;
  font-size: 20px;
  font-weight: 200;
}
.jumbotron > hr {
  border-top-color: #d5d5d5;
}
.container .jumbotron,
.container-fluid .jumbotron {
  border-radius: 3px;
  padding-left: 0px;
  padding-right: 0px;
}
.jumbotron .container {
  max-width: 100%;
}
@media screen and (min-width: 768px) {
  .jumbotron {
    padding-top: 48px;
    padding-bottom: 48px;
  }
  .container .jumbotron,
  .container-fluid .jumbotron {
    padding-left: 60px;
    padding-right: 60px;
  }
  .jumbotron h1,
  .jumbotron .h1 {
    font-size: 59px;
  }
}
.thumbnail {
  display: block;
  padding: 4px;
  margin-bottom: 18px;
  line-height: 1.42857143;
  background-color: #fff;
  border: 1px solid #ddd;
  border-radius: 2px;
  -webkit-transition: border 0.2s ease-in-out;
  -o-transition: border 0.2s ease-in-out;
  transition: border 0.2s ease-in-out;
}
.thumbnail > img,
.thumbnail a > img {
  margin-left: auto;
  margin-right: auto;
}
a.thumbnail:hover,
a.thumbnail:focus,
a.thumbnail.active {
  border-color: #337ab7;
}
.thumbnail .caption {
  padding: 9px;
  color: #000;
}
.alert {
  padding: 15px;
  margin-bottom: 18px;
  border: 1px solid transparent;
  border-radius: 2px;
}
.alert h4 {
  margin-top: 0;
  color: inherit;
}
.alert .alert-link {
  font-weight: bold;
}
.alert > p,
.alert > ul {
  margin-bottom: 0;
}
.alert > p + p {
  margin-top: 5px;
}
.alert-dismissable,
.alert-dismissible {
  padding-right: 35px;
}
.alert-dismissable .close,
.alert-dismissible .close {
  position: relative;
  top: -2px;
  right: -21px;
  color: inherit;
}
.alert-success {
  background-color: #dff0d8;
  border-color: #d6e9c6;
  color: #3c763d;
}
.alert-success hr {
  border-top-color: #c9e2b3;
}
.alert-success .alert-link {
  color: #2b542c;
}
.alert-info {
  background-color: #d9edf7;
  border-color: #bce8f1;
  color: #31708f;
}
.alert-info hr {
  border-top-color: #a6e1ec;
}
.alert-info .alert-link {
  color: #245269;
}
.alert-warning {
  background-color: #fcf8e3;
  border-color: #faebcc;
  color: #8a6d3b;
}
.alert-warning hr {
  border-top-color: #f7e1b5;
}
.alert-warning .alert-link {
  color: #66512c;
}
.alert-danger {
  background-color: #f2dede;
  border-color: #ebccd1;
  color: #a94442;
}
.alert-danger hr {
  border-top-color: #e4b9c0;
}
.alert-danger .alert-link {
  color: #843534;
}
@-webkit-keyframes progress-bar-stripes {
  from {
    background-position: 40px 0;
  }
  to {
    background-position: 0 0;
  }
}
@keyframes progress-bar-stripes {
  from {
    background-position: 40px 0;
  }
  to {
    background-position: 0 0;
  }
}
.progress {
  overflow: hidden;
  height: 18px;
  margin-bottom: 18px;
  background-color: #f5f5f5;
  border-radius: 2px;
  -webkit-box-shadow: inset 0 1px 2px rgba(0, 0, 0, 0.1);
  box-shadow: inset 0 1px 2px rgba(0, 0, 0, 0.1);
}
.progress-bar {
  float: left;
  width: 0%;
  height: 100%;
  font-size: 12px;
  line-height: 18px;
  color: #fff;
  text-align: center;
  background-color: #337ab7;
  -webkit-box-shadow: inset 0 -1px 0 rgba(0, 0, 0, 0.15);
  box-shadow: inset 0 -1px 0 rgba(0, 0, 0, 0.15);
  -webkit-transition: width 0.6s ease;
  -o-transition: width 0.6s ease;
  transition: width 0.6s ease;
}
.progress-striped .progress-bar,
.progress-bar-striped {
  background-image: -webkit-linear-gradient(45deg, rgba(255, 255, 255, 0.15) 25%, transparent 25%, transparent 50%, rgba(255, 255, 255, 0.15) 50%, rgba(255, 255, 255, 0.15) 75%, transparent 75%, transparent);
  background-image: -o-linear-gradient(45deg, rgba(255, 255, 255, 0.15) 25%, transparent 25%, transparent 50%, rgba(255, 255, 255, 0.15) 50%, rgba(255, 255, 255, 0.15) 75%, transparent 75%, transparent);
  background-image: linear-gradient(45deg, rgba(255, 255, 255, 0.15) 25%, transparent 25%, transparent 50%, rgba(255, 255, 255, 0.15) 50%, rgba(255, 255, 255, 0.15) 75%, transparent 75%, transparent);
  background-size: 40px 40px;
}
.progress.active .progress-bar,
.progress-bar.active {
  -webkit-animation: progress-bar-stripes 2s linear infinite;
  -o-animation: progress-bar-stripes 2s linear infinite;
  animation: progress-bar-stripes 2s linear infinite;
}
.progress-bar-success {
  background-color: #5cb85c;
}
.progress-striped .progress-bar-success {
  background-image: -webkit-linear-gradient(45deg, rgba(255, 255, 255, 0.15) 25%, transparent 25%, transparent 50%, rgba(255, 255, 255, 0.15) 50%, rgba(255, 255, 255, 0.15) 75%, transparent 75%, transparent);
  background-image: -o-linear-gradient(45deg, rgba(255, 255, 255, 0.15) 25%, transparent 25%, transparent 50%, rgba(255, 255, 255, 0.15) 50%, rgba(255, 255, 255, 0.15) 75%, transparent 75%, transparent);
  background-image: linear-gradient(45deg, rgba(255, 255, 255, 0.15) 25%, transparent 25%, transparent 50%, rgba(255, 255, 255, 0.15) 50%, rgba(255, 255, 255, 0.15) 75%, transparent 75%, transparent);
}
.progress-bar-info {
  background-color: #5bc0de;
}
.progress-striped .progress-bar-info {
  background-image: -webkit-linear-gradient(45deg, rgba(255, 255, 255, 0.15) 25%, transparent 25%, transparent 50%, rgba(255, 255, 255, 0.15) 50%, rgba(255, 255, 255, 0.15) 75%, transparent 75%, transparent);
  background-image: -o-linear-gradient(45deg, rgba(255, 255, 255, 0.15) 25%, transparent 25%, transparent 50%, rgba(255, 255, 255, 0.15) 50%, rgba(255, 255, 255, 0.15) 75%, transparent 75%, transparent);
  background-image: linear-gradient(45deg, rgba(255, 255, 255, 0.15) 25%, transparent 25%, transparent 50%, rgba(255, 255, 255, 0.15) 50%, rgba(255, 255, 255, 0.15) 75%, transparent 75%, transparent);
}
.progress-bar-warning {
  background-color: #f0ad4e;
}
.progress-striped .progress-bar-warning {
  background-image: -webkit-linear-gradient(45deg, rgba(255, 255, 255, 0.15) 25%, transparent 25%, transparent 50%, rgba(255, 255, 255, 0.15) 50%, rgba(255, 255, 255, 0.15) 75%, transparent 75%, transparent);
  background-image: -o-linear-gradient(45deg, rgba(255, 255, 255, 0.15) 25%, transparent 25%, transparent 50%, rgba(255, 255, 255, 0.15) 50%, rgba(255, 255, 255, 0.15) 75%, transparent 75%, transparent);
  background-image: linear-gradient(45deg, rgba(255, 255, 255, 0.15) 25%, transparent 25%, transparent 50%, rgba(255, 255, 255, 0.15) 50%, rgba(255, 255, 255, 0.15) 75%, transparent 75%, transparent);
}
.progress-bar-danger {
  background-color: #d9534f;
}
.progress-striped .progress-bar-danger {
  background-image: -webkit-linear-gradient(45deg, rgba(255, 255, 255, 0.15) 25%, transparent 25%, transparent 50%, rgba(255, 255, 255, 0.15) 50%, rgba(255, 255, 255, 0.15) 75%, transparent 75%, transparent);
  background-image: -o-linear-gradient(45deg, rgba(255, 255, 255, 0.15) 25%, transparent 25%, transparent 50%, rgba(255, 255, 255, 0.15) 50%, rgba(255, 255, 255, 0.15) 75%, transparent 75%, transparent);
  background-image: linear-gradient(45deg, rgba(255, 255, 255, 0.15) 25%, transparent 25%, transparent 50%, rgba(255, 255, 255, 0.15) 50%, rgba(255, 255, 255, 0.15) 75%, transparent 75%, transparent);
}
.media {
  margin-top: 15px;
}
.media:first-child {
  margin-top: 0;
}
.media,
.media-body {
  zoom: 1;
  overflow: hidden;
}
.media-body {
  width: 10000px;
}
.media-object {
  display: block;
}
.media-object.img-thumbnail {
  max-width: none;
}
.media-right,
.media > .pull-right {
  padding-left: 10px;
}
.media-left,
.media > .pull-left {
  padding-right: 10px;
}
.media-left,
.media-right,
.media-body {
  display: table-cell;
  vertical-align: top;
}
.media-middle {
  vertical-align: middle;
}
.media-bottom {
  vertical-align: bottom;
}
.media-heading {
  margin-top: 0;
  margin-bottom: 5px;
}
.media-list {
  padding-left: 0;
  list-style: none;
}
.list-group {
  margin-bottom: 20px;
  padding-left: 0;
}
.list-group-item {
  position: relative;
  display: block;
  padding: 10px 15px;
  margin-bottom: -1px;
  background-color: #fff;
  border: 1px solid #ddd;
}
.list-group-item:first-child {
  border-top-right-radius: 2px;
  border-top-left-radius: 2px;
}
.list-group-item:last-child {
  margin-bottom: 0;
  border-bottom-right-radius: 2px;
  border-bottom-left-radius: 2px;
}
a.list-group-item,
button.list-group-item {
  color: #555;
}
a.list-group-item .list-group-item-heading,
button.list-group-item .list-group-item-heading {
  color: #333;
}
a.list-group-item:hover,
button.list-group-item:hover,
a.list-group-item:focus,
button.list-group-item:focus {
  text-decoration: none;
  color: #555;
  background-color: #f5f5f5;
}
button.list-group-item {
  width: 100%;
  text-align: left;
}
.list-group-item.disabled,
.list-group-item.disabled:hover,
.list-group-item.disabled:focus {
  background-color: #eeeeee;
  color: #777777;
  cursor: not-allowed;
}
.list-group-item.disabled .list-group-item-heading,
.list-group-item.disabled:hover .list-group-item-heading,
.list-group-item.disabled:focus .list-group-item-heading {
  color: inherit;
}
.list-group-item.disabled .list-group-item-text,
.list-group-item.disabled:hover .list-group-item-text,
.list-group-item.disabled:focus .list-group-item-text {
  color: #777777;
}
.list-group-item.active,
.list-group-item.active:hover,
.list-group-item.active:focus {
  z-index: 2;
  color: #fff;
  background-color: #337ab7;
  border-color: #337ab7;
}
.list-group-item.active .list-group-item-heading,
.list-group-item.active:hover .list-group-item-heading,
.list-group-item.active:focus .list-group-item-heading,
.list-group-item.active .list-group-item-heading > small,
.list-group-item.active:hover .list-group-item-heading > small,
.list-group-item.active:focus .list-group-item-heading > small,
.list-group-item.active .list-group-item-heading > .small,
.list-group-item.active:hover .list-group-item-heading > .small,
.list-group-item.active:focus .list-group-item-heading > .small {
  color: inherit;
}
.list-group-item.active .list-group-item-text,
.list-group-item.active:hover .list-group-item-text,
.list-group-item.active:focus .list-group-item-text {
  color: #c7ddef;
}
.list-group-item-success {
  color: #3c763d;
  background-color: #dff0d8;
}
a.list-group-item-success,
button.list-group-item-success {
  color: #3c763d;
}
a.list-group-item-success .list-group-item-heading,
button.list-group-item-success .list-group-item-heading {
  color: inherit;
}
a.list-group-item-success:hover,
button.list-group-item-success:hover,
a.list-group-item-success:focus,
button.list-group-item-success:focus {
  color: #3c763d;
  background-color: #d0e9c6;
}
a.list-group-item-success.active,
button.list-group-item-success.active,
a.list-group-item-success.active:hover,
button.list-group-item-success.active:hover,
a.list-group-item-success.active:focus,
button.list-group-item-success.active:focus {
  color: #fff;
  background-color: #3c763d;
  border-color: #3c763d;
}
.list-group-item-info {
  color: #31708f;
  background-color: #d9edf7;
}
a.list-group-item-info,
button.list-group-item-info {
  color: #31708f;
}
a.list-group-item-info .list-group-item-heading,
button.list-group-item-info .list-group-item-heading {
  color: inherit;
}
a.list-group-item-info:hover,
button.list-group-item-info:hover,
a.list-group-item-info:focus,
button.list-group-item-info:focus {
  color: #31708f;
  background-color: #c4e3f3;
}
a.list-group-item-info.active,
button.list-group-item-info.active,
a.list-group-item-info.active:hover,
button.list-group-item-info.active:hover,
a.list-group-item-info.active:focus,
button.list-group-item-info.active:focus {
  color: #fff;
  background-color: #31708f;
  border-color: #31708f;
}
.list-group-item-warning {
  color: #8a6d3b;
  background-color: #fcf8e3;
}
a.list-group-item-warning,
button.list-group-item-warning {
  color: #8a6d3b;
}
a.list-group-item-warning .list-group-item-heading,
button.list-group-item-warning .list-group-item-heading {
  color: inherit;
}
a.list-group-item-warning:hover,
button.list-group-item-warning:hover,
a.list-group-item-warning:focus,
button.list-group-item-warning:focus {
  color: #8a6d3b;
  background-color: #faf2cc;
}
a.list-group-item-warning.active,
button.list-group-item-warning.active,
a.list-group-item-warning.active:hover,
button.list-group-item-warning.active:hover,
a.list-group-item-warning.active:focus,
button.list-group-item-warning.active:focus {
  color: #fff;
  background-color: #8a6d3b;
  border-color: #8a6d3b;
}
.list-group-item-danger {
  color: #a94442;
  background-color: #f2dede;
}
a.list-group-item-danger,
button.list-group-item-danger {
  color: #a94442;
}
a.list-group-item-danger .list-group-item-heading,
button.list-group-item-danger .list-group-item-heading {
  color: inherit;
}
a.list-group-item-danger:hover,
button.list-group-item-danger:hover,
a.list-group-item-danger:focus,
button.list-group-item-danger:focus {
  color: #a94442;
  background-color: #ebcccc;
}
a.list-group-item-danger.active,
button.list-group-item-danger.active,
a.list-group-item-danger.active:hover,
button.list-group-item-danger.active:hover,
a.list-group-item-danger.active:focus,
button.list-group-item-danger.active:focus {
  color: #fff;
  background-color: #a94442;
  border-color: #a94442;
}
.list-group-item-heading {
  margin-top: 0;
  margin-bottom: 5px;
}
.list-group-item-text {
  margin-bottom: 0;
  line-height: 1.3;
}
.panel {
  margin-bottom: 18px;
  background-color: #fff;
  border: 1px solid transparent;
  border-radius: 2px;
  -webkit-box-shadow: 0 1px 1px rgba(0, 0, 0, 0.05);
  box-shadow: 0 1px 1px rgba(0, 0, 0, 0.05);
}
.panel-body {
  padding: 15px;
}
.panel-heading {
  padding: 10px 15px;
  border-bottom: 1px solid transparent;
  border-top-right-radius: 1px;
  border-top-left-radius: 1px;
}
.panel-heading > .dropdown .dropdown-toggle {
  color: inherit;
}
.panel-title {
  margin-top: 0;
  margin-bottom: 0;
  font-size: 15px;
  color: inherit;
}
.panel-title > a,
.panel-title > small,
.panel-title > .small,
.panel-title > small > a,
.panel-title > .small > a {
  color: inherit;
}
.panel-footer {
  padding: 10px 15px;
  background-color: #f5f5f5;
  border-top: 1px solid #ddd;
  border-bottom-right-radius: 1px;
  border-bottom-left-radius: 1px;
}
.panel > .list-group,
.panel > .panel-collapse > .list-group {
  margin-bottom: 0;
}
.panel > .list-group .list-group-item,
.panel > .panel-collapse > .list-group .list-group-item {
  border-width: 1px 0;
  border-radius: 0;
}
.panel > .list-group:first-child .list-group-item:first-child,
.panel > .panel-collapse > .list-group:first-child .list-group-item:first-child {
  border-top: 0;
  border-top-right-radius: 1px;
  border-top-left-radius: 1px;
}
.panel > .list-group:last-child .list-group-item:last-child,
.panel > .panel-collapse > .list-group:last-child .list-group-item:last-child {
  border-bottom: 0;
  border-bottom-right-radius: 1px;
  border-bottom-left-radius: 1px;
}
.panel > .panel-heading + .panel-collapse > .list-group .list-group-item:first-child {
  border-top-right-radius: 0;
  border-top-left-radius: 0;
}
.panel-heading + .list-group .list-group-item:first-child {
  border-top-width: 0;
}
.list-group + .panel-footer {
  border-top-width: 0;
}
.panel > .table,
.panel > .table-responsive > .table,
.panel > .panel-collapse > .table {
  margin-bottom: 0;
}
.panel > .table caption,
.panel > .table-responsive > .table caption,
.panel > .panel-collapse > .table caption {
  padding-left: 15px;
  padding-right: 15px;
}
.panel > .table:first-child,
.panel > .table-responsive:first-child > .table:first-child {
  border-top-right-radius: 1px;
  border-top-left-radius: 1px;
}
.panel > .table:first-child > thead:first-child > tr:first-child,
.panel > .table-responsive:first-child > .table:first-child > thead:first-child > tr:first-child,
.panel > .table:first-child > tbody:first-child > tr:first-child,
.panel > .table-responsive:first-child > .table:first-child > tbody:first-child > tr:first-child {
  border-top-left-radius: 1px;
  border-top-right-radius: 1px;
}
.panel > .table:first-child > thead:first-child > tr:first-child td:first-child,
.panel > .table-responsive:first-child > .table:first-child > thead:first-child > tr:first-child td:first-child,
.panel > .table:first-child > tbody:first-child > tr:first-child td:first-child,
.panel > .table-responsive:first-child > .table:first-child > tbody:first-child > tr:first-child td:first-child,
.panel > .table:first-child > thead:first-child > tr:first-child th:first-child,
.panel > .table-responsive:first-child > .table:first-child > thead:first-child > tr:first-child th:first-child,
.panel > .table:first-child > tbody:first-child > tr:first-child th:first-child,
.panel > .table-responsive:first-child > .table:first-child > tbody:first-child > tr:first-child th:first-child {
  border-top-left-radius: 1px;
}
.panel > .table:first-child > thead:first-child > tr:first-child td:last-child,
.panel > .table-responsive:first-child > .table:first-child > thead:first-child > tr:first-child td:last-child,
.panel > .table:first-child > tbody:first-child > tr:first-child td:last-child,
.panel > .table-responsive:first-child > .table:first-child > tbody:first-child > tr:first-child td:last-child,
.panel > .table:first-child > thead:first-child > tr:first-child th:last-child,
.panel > .table-responsive:first-child > .table:first-child > thead:first-child > tr:first-child th:last-child,
.panel > .table:first-child > tbody:first-child > tr:first-child th:last-child,
.panel > .table-responsive:first-child > .table:first-child > tbody:first-child > tr:first-child th:last-child {
  border-top-right-radius: 1px;
}
.panel > .table:last-child,
.panel > .table-responsive:last-child > .table:last-child {
  border-bottom-right-radius: 1px;
  border-bottom-left-radius: 1px;
}
.panel > .table:last-child > tbody:last-child > tr:last-child,
.panel > .table-responsive:last-child > .table:last-child > tbody:last-child > tr:last-child,
.panel > .table:last-child > tfoot:last-child > tr:last-child,
.panel > .table-responsive:last-child > .table:last-child > tfoot:last-child > tr:last-child {
  border-bottom-left-radius: 1px;
  border-bottom-right-radius: 1px;
}
.panel > .table:last-child > tbody:last-child > tr:last-child td:first-child,
.panel > .table-responsive:last-child > .table:last-child > tbody:last-child > tr:last-child td:first-child,
.panel > .table:last-child > tfoot:last-child > tr:last-child td:first-child,
.panel > .table-responsive:last-child > .table:last-child > tfoot:last-child > tr:last-child td:first-child,
.panel > .table:last-child > tbody:last-child > tr:last-child th:first-child,
.panel > .table-responsive:last-child > .table:last-child > tbody:last-child > tr:last-child th:first-child,
.panel > .table:last-child > tfoot:last-child > tr:last-child th:first-child,
.panel > .table-responsive:last-child > .table:last-child > tfoot:last-child > tr:last-child th:first-child {
  border-bottom-left-radius: 1px;
}
.panel > .table:last-child > tbody:last-child > tr:last-child td:last-child,
.panel > .table-responsive:last-child > .table:last-child > tbody:last-child > tr:last-child td:last-child,
.panel > .table:last-child > tfoot:last-child > tr:last-child td:last-child,
.panel > .table-responsive:last-child > .table:last-child > tfoot:last-child > tr:last-child td:last-child,
.panel > .table:last-child > tbody:last-child > tr:last-child th:last-child,
.panel > .table-responsive:last-child > .table:last-child > tbody:last-child > tr:last-child th:last-child,
.panel > .table:last-child > tfoot:last-child > tr:last-child th:last-child,
.panel > .table-responsive:last-child > .table:last-child > tfoot:last-child > tr:last-child th:last-child {
  border-bottom-right-radius: 1px;
}
.panel > .panel-body + .table,
.panel > .panel-body + .table-responsive,
.panel > .table + .panel-body,
.panel > .table-responsive + .panel-body {
  border-top: 1px solid #ddd;
}
.panel > .table > tbody:first-child > tr:first-child th,
.panel > .table > tbody:first-child > tr:first-child td {
  border-top: 0;
}
.panel > .table-bordered,
.panel > .table-responsive > .table-bordered {
  border: 0;
}
.panel > .table-bordered > thead > tr > th:first-child,
.panel > .table-responsive > .table-bordered > thead > tr > th:first-child,
.panel > .table-bordered > tbody > tr > th:first-child,
.panel > .table-responsive > .table-bordered > tbody > tr > th:first-child,
.panel > .table-bordered > tfoot > tr > th:first-child,
.panel > .table-responsive > .table-bordered > tfoot > tr > th:first-child,
.panel > .table-bordered > thead > tr > td:first-child,
.panel > .table-responsive > .table-bordered > thead > tr > td:first-child,
.panel > .table-bordered > tbody > tr > td:first-child,
.panel > .table-responsive > .table-bordered > tbody > tr > td:first-child,
.panel > .table-bordered > tfoot > tr > td:first-child,
.panel > .table-responsive > .table-bordered > tfoot > tr > td:first-child {
  border-left: 0;
}
.panel > .table-bordered > thead > tr > th:last-child,
.panel > .table-responsive > .table-bordered > thead > tr > th:last-child,
.panel > .table-bordered > tbody > tr > th:last-child,
.panel > .table-responsive > .table-bordered > tbody > tr > th:last-child,
.panel > .table-bordered > tfoot > tr > th:last-child,
.panel > .table-responsive > .table-bordered > tfoot > tr > th:last-child,
.panel > .table-bordered > thead > tr > td:last-child,
.panel > .table-responsive > .table-bordered > thead > tr > td:last-child,
.panel > .table-bordered > tbody > tr > td:last-child,
.panel > .table-responsive > .table-bordered > tbody > tr > td:last-child,
.panel > .table-bordered > tfoot > tr > td:last-child,
.panel > .table-responsive > .table-bordered > tfoot > tr > td:last-child {
  border-right: 0;
}
.panel > .table-bordered > thead > tr:first-child > td,
.panel > .table-responsive > .table-bordered > thead > tr:first-child > td,
.panel > .table-bordered > tbody > tr:first-child > td,
.panel > .table-responsive > .table-bordered > tbody > tr:first-child > td,
.panel > .table-bordered > thead > tr:first-child > th,
.panel > .table-responsive > .table-bordered > thead > tr:first-child > th,
.panel > .table-bordered > tbody > tr:first-child > th,
.panel > .table-responsive > .table-bordered > tbody > tr:first-child > th {
  border-bottom: 0;
}
.panel > .table-bordered > tbody > tr:last-child > td,
.panel > .table-responsive > .table-bordered > tbody > tr:last-child > td,
.panel > .table-bordered > tfoot > tr:last-child > td,
.panel > .table-responsive > .table-bordered > tfoot > tr:last-child > td,
.panel > .table-bordered > tbody > tr:last-child > th,
.panel > .table-responsive > .table-bordered > tbody > tr:last-child > th,
.panel > .table-bordered > tfoot > tr:last-child > th,
.panel > .table-responsive > .table-bordered > tfoot > tr:last-child > th {
  border-bottom: 0;
}
.panel > .table-responsive {
  border: 0;
  margin-bottom: 0;
}
.panel-group {
  margin-bottom: 18px;
}
.panel-group .panel {
  margin-bottom: 0;
  border-radius: 2px;
}
.panel-group .panel + .panel {
  margin-top: 5px;
}
.panel-group .panel-heading {
  border-bottom: 0;
}
.panel-group .panel-heading + .panel-collapse > .panel-body,
.panel-group .panel-heading + .panel-collapse > .list-group {
  border-top: 1px solid #ddd;
}
.panel-group .panel-footer {
  border-top: 0;
}
.panel-group .panel-footer + .panel-collapse .panel-body {
  border-bottom: 1px solid #ddd;
}
.panel-default {
  border-color: #ddd;
}
.panel-default > .panel-heading {
  color: #333333;
  background-color: #f5f5f5;
  border-color: #ddd;
}
.panel-default > .panel-heading + .panel-collapse > .panel-body {
  border-top-color: #ddd;
}
.panel-default > .panel-heading .badge {
  color: #f5f5f5;
  background-color: #333333;
}
.panel-default > .panel-footer + .panel-collapse > .panel-body {
  border-bottom-color: #ddd;
}
.panel-primary {
  border-color: #337ab7;
}
.panel-primary > .panel-heading {
  color: #fff;
  background-color: #337ab7;
  border-color: #337ab7;
}
.panel-primary > .panel-heading + .panel-collapse > .panel-body {
  border-top-color: #337ab7;
}
.panel-primary > .panel-heading .badge {
  color: #337ab7;
  background-color: #fff;
}
.panel-primary > .panel-footer + .panel-collapse > .panel-body {
  border-bottom-color: #337ab7;
}
.panel-success {
  border-color: #d6e9c6;
}
.panel-success > .panel-heading {
  color: #3c763d;
  background-color: #dff0d8;
  border-color: #d6e9c6;
}
.panel-success > .panel-heading + .panel-collapse > .panel-body {
  border-top-color: #d6e9c6;
}
.panel-success > .panel-heading .badge {
  color: #dff0d8;
  background-color: #3c763d;
}
.panel-success > .panel-footer + .panel-collapse > .panel-body {
  border-bottom-color: #d6e9c6;
}
.panel-info {
  border-color: #bce8f1;
}
.panel-info > .panel-heading {
  color: #31708f;
  background-color: #d9edf7;
  border-color: #bce8f1;
}
.panel-info > .panel-heading + .panel-collapse > .panel-body {
  border-top-color: #bce8f1;
}
.panel-info > .panel-heading .badge {
  color: #d9edf7;
  background-color: #31708f;
}
.panel-info > .panel-footer + .panel-collapse > .panel-body {
  border-bottom-color: #bce8f1;
}
.panel-warning {
  border-color: #faebcc;
}
.panel-warning > .panel-heading {
  color: #8a6d3b;
  background-color: #fcf8e3;
  border-color: #faebcc;
}
.panel-warning > .panel-heading + .panel-collapse > .panel-body {
  border-top-color: #faebcc;
}
.panel-warning > .panel-heading .badge {
  color: #fcf8e3;
  background-color: #8a6d3b;
}
.panel-warning > .panel-footer + .panel-collapse > .panel-body {
  border-bottom-color: #faebcc;
}
.panel-danger {
  border-color: #ebccd1;
}
.panel-danger > .panel-heading {
  color: #a94442;
  background-color: #f2dede;
  border-color: #ebccd1;
}
.panel-danger > .panel-heading + .panel-collapse > .panel-body {
  border-top-color: #ebccd1;
}
.panel-danger > .panel-heading .badge {
  color: #f2dede;
  background-color: #a94442;
}
.panel-danger > .panel-footer + .panel-collapse > .panel-body {
  border-bottom-color: #ebccd1;
}
.embed-responsive {
  position: relative;
  display: block;
  height: 0;
  padding: 0;
  overflow: hidden;
}
.embed-responsive .embed-responsive-item,
.embed-responsive iframe,
.embed-responsive embed,
.embed-responsive object,
.embed-responsive video {
  position: absolute;
  top: 0;
  left: 0;
  bottom: 0;
  height: 100%;
  width: 100%;
  border: 0;
}
.embed-responsive-16by9 {
  padding-bottom: 56.25%;
}
.embed-responsive-4by3 {
  padding-bottom: 75%;
}
.well {
  min-height: 20px;
  padding: 19px;
  margin-bottom: 20px;
  background-color: #f5f5f5;
  border: 1px solid #e3e3e3;
  border-radius: 2px;
  -webkit-box-shadow: inset 0 1px 1px rgba(0, 0, 0, 0.05);
  box-shadow: inset 0 1px 1px rgba(0, 0, 0, 0.05);
}
.well blockquote {
  border-color: #ddd;
  border-color: rgba(0, 0, 0, 0.15);
}
.well-lg {
  padding: 24px;
  border-radius: 3px;
}
.well-sm {
  padding: 9px;
  border-radius: 1px;
}
.close {
  float: right;
  font-size: 19.5px;
  font-weight: bold;
  line-height: 1;
  color: #000;
  text-shadow: 0 1px 0 #fff;
  opacity: 0.2;
  filter: alpha(opacity=20);
}
.close:hover,
.close:focus {
  color: #000;
  text-decoration: none;
  cursor: pointer;
  opacity: 0.5;
  filter: alpha(opacity=50);
}
button.close {
  padding: 0;
  cursor: pointer;
  background: transparent;
  border: 0;
  -webkit-appearance: none;
}
.modal-open {
  overflow: hidden;
}
.modal {
  display: none;
  overflow: hidden;
  position: fixed;
  top: 0;
  right: 0;
  bottom: 0;
  left: 0;
  z-index: 1050;
  -webkit-overflow-scrolling: touch;
  outline: 0;
}
.modal.fade .modal-dialog {
  -webkit-transform: translate(0, -25%);
  -ms-transform: translate(0, -25%);
  -o-transform: translate(0, -25%);
  transform: translate(0, -25%);
  -webkit-transition: -webkit-transform 0.3s ease-out;
  -moz-transition: -moz-transform 0.3s ease-out;
  -o-transition: -o-transform 0.3s ease-out;
  transition: transform 0.3s ease-out;
}
.modal.in .modal-dialog {
  -webkit-transform: translate(0, 0);
  -ms-transform: translate(0, 0);
  -o-transform: translate(0, 0);
  transform: translate(0, 0);
}
.modal-open .modal {
  overflow-x: hidden;
  overflow-y: auto;
}
.modal-dialog {
  position: relative;
  width: auto;
  margin: 10px;
}
.modal-content {
  position: relative;
  background-color: #fff;
  border: 1px solid #999;
  border: 1px solid rgba(0, 0, 0, 0.2);
  border-radius: 3px;
  -webkit-box-shadow: 0 3px 9px rgba(0, 0, 0, 0.5);
  box-shadow: 0 3px 9px rgba(0, 0, 0, 0.5);
  background-clip: padding-box;
  outline: 0;
}
.modal-backdrop {
  position: fixed;
  top: 0;
  right: 0;
  bottom: 0;
  left: 0;
  z-index: 1040;
  background-color: #000;
}
.modal-backdrop.fade {
  opacity: 0;
  filter: alpha(opacity=0);
}
.modal-backdrop.in {
  opacity: 0.5;
  filter: alpha(opacity=50);
}
.modal-header {
  padding: 15px;
  border-bottom: 1px solid #e5e5e5;
}
.modal-header .close {
  margin-top: -2px;
}
.modal-title {
  margin: 0;
  line-height: 1.42857143;
}
.modal-body {
  position: relative;
  padding: 15px;
}
.modal-footer {
  padding: 15px;
  text-align: right;
  border-top: 1px solid #e5e5e5;
}
.modal-footer .btn + .btn {
  margin-left: 5px;
  margin-bottom: 0;
}
.modal-footer .btn-group .btn + .btn {
  margin-left: -1px;
}
.modal-footer .btn-block + .btn-block {
  margin-left: 0;
}
.modal-scrollbar-measure {
  position: absolute;
  top: -9999px;
  width: 50px;
  height: 50px;
  overflow: scroll;
}
@media (min-width: 768px) {
  .modal-dialog {
    width: 600px;
    margin: 30px auto;
  }
  .modal-content {
    -webkit-box-shadow: 0 5px 15px rgba(0, 0, 0, 0.5);
    box-shadow: 0 5px 15px rgba(0, 0, 0, 0.5);
  }
  .modal-sm {
    width: 300px;
  }
}
@media (min-width: 992px) {
  .modal-lg {
    width: 900px;
  }
}
.tooltip {
  position: absolute;
  z-index: 1070;
  display: block;
  font-family: "Helvetica Neue", Helvetica, Arial, sans-serif;
  font-style: normal;
  font-weight: normal;
  letter-spacing: normal;
  line-break: auto;
  line-height: 1.42857143;
  text-align: left;
  text-align: start;
  text-decoration: none;
  text-shadow: none;
  text-transform: none;
  white-space: normal;
  word-break: normal;
  word-spacing: normal;
  word-wrap: normal;
  font-size: 12px;
  opacity: 0;
  filter: alpha(opacity=0);
}
.tooltip.in {
  opacity: 0.9;
  filter: alpha(opacity=90);
}
.tooltip.top {
  margin-top: -3px;
  padding: 5px 0;
}
.tooltip.right {
  margin-left: 3px;
  padding: 0 5px;
}
.tooltip.bottom {
  margin-top: 3px;
  padding: 5px 0;
}
.tooltip.left {
  margin-left: -3px;
  padding: 0 5px;
}
.tooltip-inner {
  max-width: 200px;
  padding: 3px 8px;
  color: #fff;
  text-align: center;
  background-color: #000;
  border-radius: 2px;
}
.tooltip-arrow {
  position: absolute;
  width: 0;
  height: 0;
  border-color: transparent;
  border-style: solid;
}
.tooltip.top .tooltip-arrow {
  bottom: 0;
  left: 50%;
  margin-left: -5px;
  border-width: 5px 5px 0;
  border-top-color: #000;
}
.tooltip.top-left .tooltip-arrow {
  bottom: 0;
  right: 5px;
  margin-bottom: -5px;
  border-width: 5px 5px 0;
  border-top-color: #000;
}
.tooltip.top-right .tooltip-arrow {
  bottom: 0;
  left: 5px;
  margin-bottom: -5px;
  border-width: 5px 5px 0;
  border-top-color: #000;
}
.tooltip.right .tooltip-arrow {
  top: 50%;
  left: 0;
  margin-top: -5px;
  border-width: 5px 5px 5px 0;
  border-right-color: #000;
}
.tooltip.left .tooltip-arrow {
  top: 50%;
  right: 0;
  margin-top: -5px;
  border-width: 5px 0 5px 5px;
  border-left-color: #000;
}
.tooltip.bottom .tooltip-arrow {
  top: 0;
  left: 50%;
  margin-left: -5px;
  border-width: 0 5px 5px;
  border-bottom-color: #000;
}
.tooltip.bottom-left .tooltip-arrow {
  top: 0;
  right: 5px;
  margin-top: -5px;
  border-width: 0 5px 5px;
  border-bottom-color: #000;
}
.tooltip.bottom-right .tooltip-arrow {
  top: 0;
  left: 5px;
  margin-top: -5px;
  border-width: 0 5px 5px;
  border-bottom-color: #000;
}
.popover {
  position: absolute;
  top: 0;
  left: 0;
  z-index: 1060;
  display: none;
  max-width: 276px;
  padding: 1px;
  font-family: "Helvetica Neue", Helvetica, Arial, sans-serif;
  font-style: normal;
  font-weight: normal;
  letter-spacing: normal;
  line-break: auto;
  line-height: 1.42857143;
  text-align: left;
  text-align: start;
  text-decoration: none;
  text-shadow: none;
  text-transform: none;
  white-space: normal;
  word-break: normal;
  word-spacing: normal;
  word-wrap: normal;
  font-size: 13px;
  background-color: #fff;
  background-clip: padding-box;
  border: 1px solid #ccc;
  border: 1px solid rgba(0, 0, 0, 0.2);
  border-radius: 3px;
  -webkit-box-shadow: 0 5px 10px rgba(0, 0, 0, 0.2);
  box-shadow: 0 5px 10px rgba(0, 0, 0, 0.2);
}
.popover.top {
  margin-top: -10px;
}
.popover.right {
  margin-left: 10px;
}
.popover.bottom {
  margin-top: 10px;
}
.popover.left {
  margin-left: -10px;
}
.popover-title {
  margin: 0;
  padding: 8px 14px;
  font-size: 13px;
  background-color: #f7f7f7;
  border-bottom: 1px solid #ebebeb;
  border-radius: 2px 2px 0 0;
}
.popover-content {
  padding: 9px 14px;
}
.popover > .arrow,
.popover > .arrow:after {
  position: absolute;
  display: block;
  width: 0;
  height: 0;
  border-color: transparent;
  border-style: solid;
}
.popover > .arrow {
  border-width: 11px;
}
.popover > .arrow:after {
  border-width: 10px;
  content: "";
}
.popover.top > .arrow {
  left: 50%;
  margin-left: -11px;
  border-bottom-width: 0;
  border-top-color: #999999;
  border-top-color: rgba(0, 0, 0, 0.25);
  bottom: -11px;
}
.popover.top > .arrow:after {
  content: " ";
  bottom: 1px;
  margin-left: -10px;
  border-bottom-width: 0;
  border-top-color: #fff;
}
.popover.right > .arrow {
  top: 50%;
  left: -11px;
  margin-top: -11px;
  border-left-width: 0;
  border-right-color: #999999;
  border-right-color: rgba(0, 0, 0, 0.25);
}
.popover.right > .arrow:after {
  content: " ";
  left: 1px;
  bottom: -10px;
  border-left-width: 0;
  border-right-color: #fff;
}
.popover.bottom > .arrow {
  left: 50%;
  margin-left: -11px;
  border-top-width: 0;
  border-bottom-color: #999999;
  border-bottom-color: rgba(0, 0, 0, 0.25);
  top: -11px;
}
.popover.bottom > .arrow:after {
  content: " ";
  top: 1px;
  margin-left: -10px;
  border-top-width: 0;
  border-bottom-color: #fff;
}
.popover.left > .arrow {
  top: 50%;
  right: -11px;
  margin-top: -11px;
  border-right-width: 0;
  border-left-color: #999999;
  border-left-color: rgba(0, 0, 0, 0.25);
}
.popover.left > .arrow:after {
  content: " ";
  right: 1px;
  border-right-width: 0;
  border-left-color: #fff;
  bottom: -10px;
}
.carousel {
  position: relative;
}
.carousel-inner {
  position: relative;
  overflow: hidden;
  width: 100%;
}
.carousel-inner > .item {
  display: none;
  position: relative;
  -webkit-transition: 0.6s ease-in-out left;
  -o-transition: 0.6s ease-in-out left;
  transition: 0.6s ease-in-out left;
}
.carousel-inner > .item > img,
.carousel-inner > .item > a > img {
  line-height: 1;
}
@media all and (transform-3d), (-webkit-transform-3d) {
  .carousel-inner > .item {
    -webkit-transition: -webkit-transform 0.6s ease-in-out;
    -moz-transition: -moz-transform 0.6s ease-in-out;
    -o-transition: -o-transform 0.6s ease-in-out;
    transition: transform 0.6s ease-in-out;
    -webkit-backface-visibility: hidden;
    -moz-backface-visibility: hidden;
    backface-visibility: hidden;
    -webkit-perspective: 1000px;
    -moz-perspective: 1000px;
    perspective: 1000px;
  }
  .carousel-inner > .item.next,
  .carousel-inner > .item.active.right {
    -webkit-transform: translate3d(100%, 0, 0);
    transform: translate3d(100%, 0, 0);
    left: 0;
  }
  .carousel-inner > .item.prev,
  .carousel-inner > .item.active.left {
    -webkit-transform: translate3d(-100%, 0, 0);
    transform: translate3d(-100%, 0, 0);
    left: 0;
  }
  .carousel-inner > .item.next.left,
  .carousel-inner > .item.prev.right,
  .carousel-inner > .item.active {
    -webkit-transform: translate3d(0, 0, 0);
    transform: translate3d(0, 0, 0);
    left: 0;
  }
}
.carousel-inner > .active,
.carousel-inner > .next,
.carousel-inner > .prev {
  display: block;
}
.carousel-inner > .active {
  left: 0;
}
.carousel-inner > .next,
.carousel-inner > .prev {
  position: absolute;
  top: 0;
  width: 100%;
}
.carousel-inner > .next {
  left: 100%;
}
.carousel-inner > .prev {
  left: -100%;
}
.carousel-inner > .next.left,
.carousel-inner > .prev.right {
  left: 0;
}
.carousel-inner > .active.left {
  left: -100%;
}
.carousel-inner > .active.right {
  left: 100%;
}
.carousel-control {
  position: absolute;
  top: 0;
  left: 0;
  bottom: 0;
  width: 15%;
  opacity: 0.5;
  filter: alpha(opacity=50);
  font-size: 20px;
  color: #fff;
  text-align: center;
  text-shadow: 0 1px 2px rgba(0, 0, 0, 0.6);
  background-color: rgba(0, 0, 0, 0);
}
.carousel-control.left {
  background-image: -webkit-linear-gradient(left, rgba(0, 0, 0, 0.5) 0%, rgba(0, 0, 0, 0.0001) 100%);
  background-image: -o-linear-gradient(left, rgba(0, 0, 0, 0.5) 0%, rgba(0, 0, 0, 0.0001) 100%);
  background-image: linear-gradient(to right, rgba(0, 0, 0, 0.5) 0%, rgba(0, 0, 0, 0.0001) 100%);
  background-repeat: repeat-x;
  filter: progid:DXImageTransform.Microsoft.gradient(startColorstr='#80000000', endColorstr='#00000000', GradientType=1);
}
.carousel-control.right {
  left: auto;
  right: 0;
  background-image: -webkit-linear-gradient(left, rgba(0, 0, 0, 0.0001) 0%, rgba(0, 0, 0, 0.5) 100%);
  background-image: -o-linear-gradient(left, rgba(0, 0, 0, 0.0001) 0%, rgba(0, 0, 0, 0.5) 100%);
  background-image: linear-gradient(to right, rgba(0, 0, 0, 0.0001) 0%, rgba(0, 0, 0, 0.5) 100%);
  background-repeat: repeat-x;
  filter: progid:DXImageTransform.Microsoft.gradient(startColorstr='#00000000', endColorstr='#80000000', GradientType=1);
}
.carousel-control:hover,
.carousel-control:focus {
  outline: 0;
  color: #fff;
  text-decoration: none;
  opacity: 0.9;
  filter: alpha(opacity=90);
}
.carousel-control .icon-prev,
.carousel-control .icon-next,
.carousel-control .glyphicon-chevron-left,
.carousel-control .glyphicon-chevron-right {
  position: absolute;
  top: 50%;
  margin-top: -10px;
  z-index: 5;
  display: inline-block;
}
.carousel-control .icon-prev,
.carousel-control .glyphicon-chevron-left {
  left: 50%;
  margin-left: -10px;
}
.carousel-control .icon-next,
.carousel-control .glyphicon-chevron-right {
  right: 50%;
  margin-right: -10px;
}
.carousel-control .icon-prev,
.carousel-control .icon-next {
  width: 20px;
  height: 20px;
  line-height: 1;
  font-family: serif;
}
.carousel-control .icon-prev:before {
  content: '\2039';
}
.carousel-control .icon-next:before {
  content: '\203a';
}
.carousel-indicators {
  position: absolute;
  bottom: 10px;
  left: 50%;
  z-index: 15;
  width: 60%;
  margin-left: -30%;
  padding-left: 0;
  list-style: none;
  text-align: center;
}
.carousel-indicators li {
  display: inline-block;
  width: 10px;
  height: 10px;
  margin: 1px;
  text-indent: -999px;
  border: 1px solid #fff;
  border-radius: 10px;
  cursor: pointer;
  background-color: #000 \9;
  background-color: rgba(0, 0, 0, 0);
}
.carousel-indicators .active {
  margin: 0;
  width: 12px;
  height: 12px;
  background-color: #fff;
}
.carousel-caption {
  position: absolute;
  left: 15%;
  right: 15%;
  bottom: 20px;
  z-index: 10;
  padding-top: 20px;
  padding-bottom: 20px;
  color: #fff;
  text-align: center;
  text-shadow: 0 1px 2px rgba(0, 0, 0, 0.6);
}
.carousel-caption .btn {
  text-shadow: none;
}
@media screen and (min-width: 768px) {
  .carousel-control .glyphicon-chevron-left,
  .carousel-control .glyphicon-chevron-right,
  .carousel-control .icon-prev,
  .carousel-control .icon-next {
    width: 30px;
    height: 30px;
    margin-top: -10px;
    font-size: 30px;
  }
  .carousel-control .glyphicon-chevron-left,
  .carousel-control .icon-prev {
    margin-left: -10px;
  }
  .carousel-control .glyphicon-chevron-right,
  .carousel-control .icon-next {
    margin-right: -10px;
  }
  .carousel-caption {
    left: 20%;
    right: 20%;
    padding-bottom: 30px;
  }
  .carousel-indicators {
    bottom: 20px;
  }
}
.clearfix:before,
.clearfix:after,
.dl-horizontal dd:before,
.dl-horizontal dd:after,
.container:before,
.container:after,
.container-fluid:before,
.container-fluid:after,
.row:before,
.row:after,
.form-horizontal .form-group:before,
.form-horizontal .form-group:after,
.btn-toolbar:before,
.btn-toolbar:after,
.btn-group-vertical > .btn-group:before,
.btn-group-vertical > .btn-group:after,
.nav:before,
.nav:after,
.navbar:before,
.navbar:after,
.navbar-header:before,
.navbar-header:after,
.navbar-collapse:before,
.navbar-collapse:after,
.pager:before,
.pager:after,
.panel-body:before,
.panel-body:after,
.modal-header:before,
.modal-header:after,
.modal-footer:before,
.modal-footer:after,
.item_buttons:before,
.item_buttons:after {
  content: " ";
  display: table;
}
.clearfix:after,
.dl-horizontal dd:after,
.container:after,
.container-fluid:after,
.row:after,
.form-horizontal .form-group:after,
.btn-toolbar:after,
.btn-group-vertical > .btn-group:after,
.nav:after,
.navbar:after,
.navbar-header:after,
.navbar-collapse:after,
.pager:after,
.panel-body:after,
.modal-header:after,
.modal-footer:after,
.item_buttons:after {
  clear: both;
}
.center-block {
  display: block;
  margin-left: auto;
  margin-right: auto;
}
.pull-right {
  float: right !important;
}
.pull-left {
  float: left !important;
}
.hide {
  display: none !important;
}
.show {
  display: block !important;
}
.invisible {
  visibility: hidden;
}
.text-hide {
  font: 0/0 a;
  color: transparent;
  text-shadow: none;
  background-color: transparent;
  border: 0;
}
.hidden {
  display: none !important;
}
.affix {
  position: fixed;
}
@-ms-viewport {
  width: device-width;
}
.visible-xs,
.visible-sm,
.visible-md,
.visible-lg {
  display: none !important;
}
.visible-xs-block,
.visible-xs-inline,
.visible-xs-inline-block,
.visible-sm-block,
.visible-sm-inline,
.visible-sm-inline-block,
.visible-md-block,
.visible-md-inline,
.visible-md-inline-block,
.visible-lg-block,
.visible-lg-inline,
.visible-lg-inline-block {
  display: none !important;
}
@media (max-width: 767px) {
  .visible-xs {
    display: block !important;
  }
  table.visible-xs {
    display: table !important;
  }
  tr.visible-xs {
    display: table-row !important;
  }
  th.visible-xs,
  td.visible-xs {
    display: table-cell !important;
  }
}
@media (max-width: 767px) {
  .visible-xs-block {
    display: block !important;
  }
}
@media (max-width: 767px) {
  .visible-xs-inline {
    display: inline !important;
  }
}
@media (max-width: 767px) {
  .visible-xs-inline-block {
    display: inline-block !important;
  }
}
@media (min-width: 768px) and (max-width: 991px) {
  .visible-sm {
    display: block !important;
  }
  table.visible-sm {
    display: table !important;
  }
  tr.visible-sm {
    display: table-row !important;
  }
  th.visible-sm,
  td.visible-sm {
    display: table-cell !important;
  }
}
@media (min-width: 768px) and (max-width: 991px) {
  .visible-sm-block {
    display: block !important;
  }
}
@media (min-width: 768px) and (max-width: 991px) {
  .visible-sm-inline {
    display: inline !important;
  }
}
@media (min-width: 768px) and (max-width: 991px) {
  .visible-sm-inline-block {
    display: inline-block !important;
  }
}
@media (min-width: 992px) and (max-width: 1199px) {
  .visible-md {
    display: block !important;
  }
  table.visible-md {
    display: table !important;
  }
  tr.visible-md {
    display: table-row !important;
  }
  th.visible-md,
  td.visible-md {
    display: table-cell !important;
  }
}
@media (min-width: 992px) and (max-width: 1199px) {
  .visible-md-block {
    display: block !important;
  }
}
@media (min-width: 992px) and (max-width: 1199px) {
  .visible-md-inline {
    display: inline !important;
  }
}
@media (min-width: 992px) and (max-width: 1199px) {
  .visible-md-inline-block {
    display: inline-block !important;
  }
}
@media (min-width: 1200px) {
  .visible-lg {
    display: block !important;
  }
  table.visible-lg {
    display: table !important;
  }
  tr.visible-lg {
    display: table-row !important;
  }
  th.visible-lg,
  td.visible-lg {
    display: table-cell !important;
  }
}
@media (min-width: 1200px) {
  .visible-lg-block {
    display: block !important;
  }
}
@media (min-width: 1200px) {
  .visible-lg-inline {
    display: inline !important;
  }
}
@media (min-width: 1200px) {
  .visible-lg-inline-block {
    display: inline-block !important;
  }
}
@media (max-width: 767px) {
  .hidden-xs {
    display: none !important;
  }
}
@media (min-width: 768px) and (max-width: 991px) {
  .hidden-sm {
    display: none !important;
  }
}
@media (min-width: 992px) and (max-width: 1199px) {
  .hidden-md {
    display: none !important;
  }
}
@media (min-width: 1200px) {
  .hidden-lg {
    display: none !important;
  }
}
.visible-print {
  display: none !important;
}
@media print {
  .visible-print {
    display: block !important;
  }
  table.visible-print {
    display: table !important;
  }
  tr.visible-print {
    display: table-row !important;
  }
  th.visible-print,
  td.visible-print {
    display: table-cell !important;
  }
}
.visible-print-block {
  display: none !important;
}
@media print {
  .visible-print-block {
    display: block !important;
  }
}
.visible-print-inline {
  display: none !important;
}
@media print {
  .visible-print-inline {
    display: inline !important;
  }
}
.visible-print-inline-block {
  display: none !important;
}
@media print {
  .visible-print-inline-block {
    display: inline-block !important;
  }
}
@media print {
  .hidden-print {
    display: none !important;
  }
}
/*!
*
* Font Awesome
*
*/
/*!
 *  Font Awesome 4.7.0 by @davegandy - http://fontawesome.io - @fontawesome
 *  License - http://fontawesome.io/license (Font: SIL OFL 1.1, CSS: MIT License)
 */
/* FONT PATH
 * -------------------------- */
@font-face {
  font-family: 'FontAwesome';
  src: url('../components/font-awesome/fonts/fontawesome-webfont.eot?v=4.7.0');
  src: url('../components/font-awesome/fonts/fontawesome-webfont.eot?#iefix&v=4.7.0') format('embedded-opentype'), url('../components/font-awesome/fonts/fontawesome-webfont.woff2?v=4.7.0') format('woff2'), url('../components/font-awesome/fonts/fontawesome-webfont.woff?v=4.7.0') format('woff'), url('../components/font-awesome/fonts/fontawesome-webfont.ttf?v=4.7.0') format('truetype'), url('../components/font-awesome/fonts/fontawesome-webfont.svg?v=4.7.0#fontawesomeregular') format('svg');
  font-weight: normal;
  font-style: normal;
}
.fa {
  display: inline-block;
  font: normal normal normal 14px/1 FontAwesome;
  font-size: inherit;
  text-rendering: auto;
  -webkit-font-smoothing: antialiased;
  -moz-osx-font-smoothing: grayscale;
}
/* makes the font 33% larger relative to the icon container */
.fa-lg {
  font-size: 1.33333333em;
  line-height: 0.75em;
  vertical-align: -15%;
}
.fa-2x {
  font-size: 2em;
}
.fa-3x {
  font-size: 3em;
}
.fa-4x {
  font-size: 4em;
}
.fa-5x {
  font-size: 5em;
}
.fa-fw {
  width: 1.28571429em;
  text-align: center;
}
.fa-ul {
  padding-left: 0;
  margin-left: 2.14285714em;
  list-style-type: none;
}
.fa-ul > li {
  position: relative;
}
.fa-li {
  position: absolute;
  left: -2.14285714em;
  width: 2.14285714em;
  top: 0.14285714em;
  text-align: center;
}
.fa-li.fa-lg {
  left: -1.85714286em;
}
.fa-border {
  padding: .2em .25em .15em;
  border: solid 0.08em #eee;
  border-radius: .1em;
}
.fa-pull-left {
  float: left;
}
.fa-pull-right {
  float: right;
}
.fa.fa-pull-left {
  margin-right: .3em;
}
.fa.fa-pull-right {
  margin-left: .3em;
}
/* Deprecated as of 4.4.0 */
.pull-right {
  float: right;
}
.pull-left {
  float: left;
}
.fa.pull-left {
  margin-right: .3em;
}
.fa.pull-right {
  margin-left: .3em;
}
.fa-spin {
  -webkit-animation: fa-spin 2s infinite linear;
  animation: fa-spin 2s infinite linear;
}
.fa-pulse {
  -webkit-animation: fa-spin 1s infinite steps(8);
  animation: fa-spin 1s infinite steps(8);
}
@-webkit-keyframes fa-spin {
  0% {
    -webkit-transform: rotate(0deg);
    transform: rotate(0deg);
  }
  100% {
    -webkit-transform: rotate(359deg);
    transform: rotate(359deg);
  }
}
@keyframes fa-spin {
  0% {
    -webkit-transform: rotate(0deg);
    transform: rotate(0deg);
  }
  100% {
    -webkit-transform: rotate(359deg);
    transform: rotate(359deg);
  }
}
.fa-rotate-90 {
  -ms-filter: "progid:DXImageTransform.Microsoft.BasicImage(rotation=1)";
  -webkit-transform: rotate(90deg);
  -ms-transform: rotate(90deg);
  transform: rotate(90deg);
}
.fa-rotate-180 {
  -ms-filter: "progid:DXImageTransform.Microsoft.BasicImage(rotation=2)";
  -webkit-transform: rotate(180deg);
  -ms-transform: rotate(180deg);
  transform: rotate(180deg);
}
.fa-rotate-270 {
  -ms-filter: "progid:DXImageTransform.Microsoft.BasicImage(rotation=3)";
  -webkit-transform: rotate(270deg);
  -ms-transform: rotate(270deg);
  transform: rotate(270deg);
}
.fa-flip-horizontal {
  -ms-filter: "progid:DXImageTransform.Microsoft.BasicImage(rotation=0, mirror=1)";
  -webkit-transform: scale(-1, 1);
  -ms-transform: scale(-1, 1);
  transform: scale(-1, 1);
}
.fa-flip-vertical {
  -ms-filter: "progid:DXImageTransform.Microsoft.BasicImage(rotation=2, mirror=1)";
  -webkit-transform: scale(1, -1);
  -ms-transform: scale(1, -1);
  transform: scale(1, -1);
}
:root .fa-rotate-90,
:root .fa-rotate-180,
:root .fa-rotate-270,
:root .fa-flip-horizontal,
:root .fa-flip-vertical {
  filter: none;
}
.fa-stack {
  position: relative;
  display: inline-block;
  width: 2em;
  height: 2em;
  line-height: 2em;
  vertical-align: middle;
}
.fa-stack-1x,
.fa-stack-2x {
  position: absolute;
  left: 0;
  width: 100%;
  text-align: center;
}
.fa-stack-1x {
  line-height: inherit;
}
.fa-stack-2x {
  font-size: 2em;
}
.fa-inverse {
  color: #fff;
}
/* Font Awesome uses the Unicode Private Use Area (PUA) to ensure screen
   readers do not read off random characters that represent icons */
.fa-glass:before {
  content: "\f000";
}
.fa-music:before {
  content: "\f001";
}
.fa-search:before {
  content: "\f002";
}
.fa-envelope-o:before {
  content: "\f003";
}
.fa-heart:before {
  content: "\f004";
}
.fa-star:before {
  content: "\f005";
}
.fa-star-o:before {
  content: "\f006";
}
.fa-user:before {
  content: "\f007";
}
.fa-film:before {
  content: "\f008";
}
.fa-th-large:before {
  content: "\f009";
}
.fa-th:before {
  content: "\f00a";
}
.fa-th-list:before {
  content: "\f00b";
}
.fa-check:before {
  content: "\f00c";
}
.fa-remove:before,
.fa-close:before,
.fa-times:before {
  content: "\f00d";
}
.fa-search-plus:before {
  content: "\f00e";
}
.fa-search-minus:before {
  content: "\f010";
}
.fa-power-off:before {
  content: "\f011";
}
.fa-signal:before {
  content: "\f012";
}
.fa-gear:before,
.fa-cog:before {
  content: "\f013";
}
.fa-trash-o:before {
  content: "\f014";
}
.fa-home:before {
  content: "\f015";
}
.fa-file-o:before {
  content: "\f016";
}
.fa-clock-o:before {
  content: "\f017";
}
.fa-road:before {
  content: "\f018";
}
.fa-download:before {
  content: "\f019";
}
.fa-arrow-circle-o-down:before {
  content: "\f01a";
}
.fa-arrow-circle-o-up:before {
  content: "\f01b";
}
.fa-inbox:before {
  content: "\f01c";
}
.fa-play-circle-o:before {
  content: "\f01d";
}
.fa-rotate-right:before,
.fa-repeat:before {
  content: "\f01e";
}
.fa-refresh:before {
  content: "\f021";
}
.fa-list-alt:before {
  content: "\f022";
}
.fa-lock:before {
  content: "\f023";
}
.fa-flag:before {
  content: "\f024";
}
.fa-headphones:before {
  content: "\f025";
}
.fa-volume-off:before {
  content: "\f026";
}
.fa-volume-down:before {
  content: "\f027";
}
.fa-volume-up:before {
  content: "\f028";
}
.fa-qrcode:before {
  content: "\f029";
}
.fa-barcode:before {
  content: "\f02a";
}
.fa-tag:before {
  content: "\f02b";
}
.fa-tags:before {
  content: "\f02c";
}
.fa-book:before {
  content: "\f02d";
}
.fa-bookmark:before {
  content: "\f02e";
}
.fa-print:before {
  content: "\f02f";
}
.fa-camera:before {
  content: "\f030";
}
.fa-font:before {
  content: "\f031";
}
.fa-bold:before {
  content: "\f032";
}
.fa-italic:before {
  content: "\f033";
}
.fa-text-height:before {
  content: "\f034";
}
.fa-text-width:before {
  content: "\f035";
}
.fa-align-left:before {
  content: "\f036";
}
.fa-align-center:before {
  content: "\f037";
}
.fa-align-right:before {
  content: "\f038";
}
.fa-align-justify:before {
  content: "\f039";
}
.fa-list:before {
  content: "\f03a";
}
.fa-dedent:before,
.fa-outdent:before {
  content: "\f03b";
}
.fa-indent:before {
  content: "\f03c";
}
.fa-video-camera:before {
  content: "\f03d";
}
.fa-photo:before,
.fa-image:before,
.fa-picture-o:before {
  content: "\f03e";
}
.fa-pencil:before {
  content: "\f040";
}
.fa-map-marker:before {
  content: "\f041";
}
.fa-adjust:before {
  content: "\f042";
}
.fa-tint:before {
  content: "\f043";
}
.fa-edit:before,
.fa-pencil-square-o:before {
  content: "\f044";
}
.fa-share-square-o:before {
  content: "\f045";
}
.fa-check-square-o:before {
  content: "\f046";
}
.fa-arrows:before {
  content: "\f047";
}
.fa-step-backward:before {
  content: "\f048";
}
.fa-fast-backward:before {
  content: "\f049";
}
.fa-backward:before {
  content: "\f04a";
}
.fa-play:before {
  content: "\f04b";
}
.fa-pause:before {
  content: "\f04c";
}
.fa-stop:before {
  content: "\f04d";
}
.fa-forward:before {
  content: "\f04e";
}
.fa-fast-forward:before {
  content: "\f050";
}
.fa-step-forward:before {
  content: "\f051";
}
.fa-eject:before {
  content: "\f052";
}
.fa-chevron-left:before {
  content: "\f053";
}
.fa-chevron-right:before {
  content: "\f054";
}
.fa-plus-circle:before {
  content: "\f055";
}
.fa-minus-circle:before {
  content: "\f056";
}
.fa-times-circle:before {
  content: "\f057";
}
.fa-check-circle:before {
  content: "\f058";
}
.fa-question-circle:before {
  content: "\f059";
}
.fa-info-circle:before {
  content: "\f05a";
}
.fa-crosshairs:before {
  content: "\f05b";
}
.fa-times-circle-o:before {
  content: "\f05c";
}
.fa-check-circle-o:before {
  content: "\f05d";
}
.fa-ban:before {
  content: "\f05e";
}
.fa-arrow-left:before {
  content: "\f060";
}
.fa-arrow-right:before {
  content: "\f061";
}
.fa-arrow-up:before {
  content: "\f062";
}
.fa-arrow-down:before {
  content: "\f063";
}
.fa-mail-forward:before,
.fa-share:before {
  content: "\f064";
}
.fa-expand:before {
  content: "\f065";
}
.fa-compress:before {
  content: "\f066";
}
.fa-plus:before {
  content: "\f067";
}
.fa-minus:before {
  content: "\f068";
}
.fa-asterisk:before {
  content: "\f069";
}
.fa-exclamation-circle:before {
  content: "\f06a";
}
.fa-gift:before {
  content: "\f06b";
}
.fa-leaf:before {
  content: "\f06c";
}
.fa-fire:before {
  content: "\f06d";
}
.fa-eye:before {
  content: "\f06e";
}
.fa-eye-slash:before {
  content: "\f070";
}
.fa-warning:before,
.fa-exclamation-triangle:before {
  content: "\f071";
}
.fa-plane:before {
  content: "\f072";
}
.fa-calendar:before {
  content: "\f073";
}
.fa-random:before {
  content: "\f074";
}
.fa-comment:before {
  content: "\f075";
}
.fa-magnet:before {
  content: "\f076";
}
.fa-chevron-up:before {
  content: "\f077";
}
.fa-chevron-down:before {
  content: "\f078";
}
.fa-retweet:before {
  content: "\f079";
}
.fa-shopping-cart:before {
  content: "\f07a";
}
.fa-folder:before {
  content: "\f07b";
}
.fa-folder-open:before {
  content: "\f07c";
}
.fa-arrows-v:before {
  content: "\f07d";
}
.fa-arrows-h:before {
  content: "\f07e";
}
.fa-bar-chart-o:before,
.fa-bar-chart:before {
  content: "\f080";
}
.fa-twitter-square:before {
  content: "\f081";
}
.fa-facebook-square:before {
  content: "\f082";
}
.fa-camera-retro:before {
  content: "\f083";
}
.fa-key:before {
  content: "\f084";
}
.fa-gears:before,
.fa-cogs:before {
  content: "\f085";
}
.fa-comments:before {
  content: "\f086";
}
.fa-thumbs-o-up:before {
  content: "\f087";
}
.fa-thumbs-o-down:before {
  content: "\f088";
}
.fa-star-half:before {
  content: "\f089";
}
.fa-heart-o:before {
  content: "\f08a";
}
.fa-sign-out:before {
  content: "\f08b";
}
.fa-linkedin-square:before {
  content: "\f08c";
}
.fa-thumb-tack:before {
  content: "\f08d";
}
.fa-external-link:before {
  content: "\f08e";
}
.fa-sign-in:before {
  content: "\f090";
}
.fa-trophy:before {
  content: "\f091";
}
.fa-github-square:before {
  content: "\f092";
}
.fa-upload:before {
  content: "\f093";
}
.fa-lemon-o:before {
  content: "\f094";
}
.fa-phone:before {
  content: "\f095";
}
.fa-square-o:before {
  content: "\f096";
}
.fa-bookmark-o:before {
  content: "\f097";
}
.fa-phone-square:before {
  content: "\f098";
}
.fa-twitter:before {
  content: "\f099";
}
.fa-facebook-f:before,
.fa-facebook:before {
  content: "\f09a";
}
.fa-github:before {
  content: "\f09b";
}
.fa-unlock:before {
  content: "\f09c";
}
.fa-credit-card:before {
  content: "\f09d";
}
.fa-feed:before,
.fa-rss:before {
  content: "\f09e";
}
.fa-hdd-o:before {
  content: "\f0a0";
}
.fa-bullhorn:before {
  content: "\f0a1";
}
.fa-bell:before {
  content: "\f0f3";
}
.fa-certificate:before {
  content: "\f0a3";
}
.fa-hand-o-right:before {
  content: "\f0a4";
}
.fa-hand-o-left:before {
  content: "\f0a5";
}
.fa-hand-o-up:before {
  content: "\f0a6";
}
.fa-hand-o-down:before {
  content: "\f0a7";
}
.fa-arrow-circle-left:before {
  content: "\f0a8";
}
.fa-arrow-circle-right:before {
  content: "\f0a9";
}
.fa-arrow-circle-up:before {
  content: "\f0aa";
}
.fa-arrow-circle-down:before {
  content: "\f0ab";
}
.fa-globe:before {
  content: "\f0ac";
}
.fa-wrench:before {
  content: "\f0ad";
}
.fa-tasks:before {
  content: "\f0ae";
}
.fa-filter:before {
  content: "\f0b0";
}
.fa-briefcase:before {
  content: "\f0b1";
}
.fa-arrows-alt:before {
  content: "\f0b2";
}
.fa-group:before,
.fa-users:before {
  content: "\f0c0";
}
.fa-chain:before,
.fa-link:before {
  content: "\f0c1";
}
.fa-cloud:before {
  content: "\f0c2";
}
.fa-flask:before {
  content: "\f0c3";
}
.fa-cut:before,
.fa-scissors:before {
  content: "\f0c4";
}
.fa-copy:before,
.fa-files-o:before {
  content: "\f0c5";
}
.fa-paperclip:before {
  content: "\f0c6";
}
.fa-save:before,
.fa-floppy-o:before {
  content: "\f0c7";
}
.fa-square:before {
  content: "\f0c8";
}
.fa-navicon:before,
.fa-reorder:before,
.fa-bars:before {
  content: "\f0c9";
}
.fa-list-ul:before {
  content: "\f0ca";
}
.fa-list-ol:before {
  content: "\f0cb";
}
.fa-strikethrough:before {
  content: "\f0cc";
}
.fa-underline:before {
  content: "\f0cd";
}
.fa-table:before {
  content: "\f0ce";
}
.fa-magic:before {
  content: "\f0d0";
}
.fa-truck:before {
  content: "\f0d1";
}
.fa-pinterest:before {
  content: "\f0d2";
}
.fa-pinterest-square:before {
  content: "\f0d3";
}
.fa-google-plus-square:before {
  content: "\f0d4";
}
.fa-google-plus:before {
  content: "\f0d5";
}
.fa-money:before {
  content: "\f0d6";
}
.fa-caret-down:before {
  content: "\f0d7";
}
.fa-caret-up:before {
  content: "\f0d8";
}
.fa-caret-left:before {
  content: "\f0d9";
}
.fa-caret-right:before {
  content: "\f0da";
}
.fa-columns:before {
  content: "\f0db";
}
.fa-unsorted:before,
.fa-sort:before {
  content: "\f0dc";
}
.fa-sort-down:before,
.fa-sort-desc:before {
  content: "\f0dd";
}
.fa-sort-up:before,
.fa-sort-asc:before {
  content: "\f0de";
}
.fa-envelope:before {
  content: "\f0e0";
}
.fa-linkedin:before {
  content: "\f0e1";
}
.fa-rotate-left:before,
.fa-undo:before {
  content: "\f0e2";
}
.fa-legal:before,
.fa-gavel:before {
  content: "\f0e3";
}
.fa-dashboard:before,
.fa-tachometer:before {
  content: "\f0e4";
}
.fa-comment-o:before {
  content: "\f0e5";
}
.fa-comments-o:before {
  content: "\f0e6";
}
.fa-flash:before,
.fa-bolt:before {
  content: "\f0e7";
}
.fa-sitemap:before {
  content: "\f0e8";
}
.fa-umbrella:before {
  content: "\f0e9";
}
.fa-paste:before,
.fa-clipboard:before {
  content: "\f0ea";
}
.fa-lightbulb-o:before {
  content: "\f0eb";
}
.fa-exchange:before {
  content: "\f0ec";
}
.fa-cloud-download:before {
  content: "\f0ed";
}
.fa-cloud-upload:before {
  content: "\f0ee";
}
.fa-user-md:before {
  content: "\f0f0";
}
.fa-stethoscope:before {
  content: "\f0f1";
}
.fa-suitcase:before {
  content: "\f0f2";
}
.fa-bell-o:before {
  content: "\f0a2";
}
.fa-coffee:before {
  content: "\f0f4";
}
.fa-cutlery:before {
  content: "\f0f5";
}
.fa-file-text-o:before {
  content: "\f0f6";
}
.fa-building-o:before {
  content: "\f0f7";
}
.fa-hospital-o:before {
  content: "\f0f8";
}
.fa-ambulance:before {
  content: "\f0f9";
}
.fa-medkit:before {
  content: "\f0fa";
}
.fa-fighter-jet:before {
  content: "\f0fb";
}
.fa-beer:before {
  content: "\f0fc";
}
.fa-h-square:before {
  content: "\f0fd";
}
.fa-plus-square:before {
  content: "\f0fe";
}
.fa-angle-double-left:before {
  content: "\f100";
}
.fa-angle-double-right:before {
  content: "\f101";
}
.fa-angle-double-up:before {
  content: "\f102";
}
.fa-angle-double-down:before {
  content: "\f103";
}
.fa-angle-left:before {
  content: "\f104";
}
.fa-angle-right:before {
  content: "\f105";
}
.fa-angle-up:before {
  content: "\f106";
}
.fa-angle-down:before {
  content: "\f107";
}
.fa-desktop:before {
  content: "\f108";
}
.fa-laptop:before {
  content: "\f109";
}
.fa-tablet:before {
  content: "\f10a";
}
.fa-mobile-phone:before,
.fa-mobile:before {
  content: "\f10b";
}
.fa-circle-o:before {
  content: "\f10c";
}
.fa-quote-left:before {
  content: "\f10d";
}
.fa-quote-right:before {
  content: "\f10e";
}
.fa-spinner:before {
  content: "\f110";
}
.fa-circle:before {
  content: "\f111";
}
.fa-mail-reply:before,
.fa-reply:before {
  content: "\f112";
}
.fa-github-alt:before {
  content: "\f113";
}
.fa-folder-o:before {
  content: "\f114";
}
.fa-folder-open-o:before {
  content: "\f115";
}
.fa-smile-o:before {
  content: "\f118";
}
.fa-frown-o:before {
  content: "\f119";
}
.fa-meh-o:before {
  content: "\f11a";
}
.fa-gamepad:before {
  content: "\f11b";
}
.fa-keyboard-o:before {
  content: "\f11c";
}
.fa-flag-o:before {
  content: "\f11d";
}
.fa-flag-checkered:before {
  content: "\f11e";
}
.fa-terminal:before {
  content: "\f120";
}
.fa-code:before {
  content: "\f121";
}
.fa-mail-reply-all:before,
.fa-reply-all:before {
  content: "\f122";
}
.fa-star-half-empty:before,
.fa-star-half-full:before,
.fa-star-half-o:before {
  content: "\f123";
}
.fa-location-arrow:before {
  content: "\f124";
}
.fa-crop:before {
  content: "\f125";
}
.fa-code-fork:before {
  content: "\f126";
}
.fa-unlink:before,
.fa-chain-broken:before {
  content: "\f127";
}
.fa-question:before {
  content: "\f128";
}
.fa-info:before {
  content: "\f129";
}
.fa-exclamation:before {
  content: "\f12a";
}
.fa-superscript:before {
  content: "\f12b";
}
.fa-subscript:before {
  content: "\f12c";
}
.fa-eraser:before {
  content: "\f12d";
}
.fa-puzzle-piece:before {
  content: "\f12e";
}
.fa-microphone:before {
  content: "\f130";
}
.fa-microphone-slash:before {
  content: "\f131";
}
.fa-shield:before {
  content: "\f132";
}
.fa-calendar-o:before {
  content: "\f133";
}
.fa-fire-extinguisher:before {
  content: "\f134";
}
.fa-rocket:before {
  content: "\f135";
}
.fa-maxcdn:before {
  content: "\f136";
}
.fa-chevron-circle-left:before {
  content: "\f137";
}
.fa-chevron-circle-right:before {
  content: "\f138";
}
.fa-chevron-circle-up:before {
  content: "\f139";
}
.fa-chevron-circle-down:before {
  content: "\f13a";
}
.fa-html5:before {
  content: "\f13b";
}
.fa-css3:before {
  content: "\f13c";
}
.fa-anchor:before {
  content: "\f13d";
}
.fa-unlock-alt:before {
  content: "\f13e";
}
.fa-bullseye:before {
  content: "\f140";
}
.fa-ellipsis-h:before {
  content: "\f141";
}
.fa-ellipsis-v:before {
  content: "\f142";
}
.fa-rss-square:before {
  content: "\f143";
}
.fa-play-circle:before {
  content: "\f144";
}
.fa-ticket:before {
  content: "\f145";
}
.fa-minus-square:before {
  content: "\f146";
}
.fa-minus-square-o:before {
  content: "\f147";
}
.fa-level-up:before {
  content: "\f148";
}
.fa-level-down:before {
  content: "\f149";
}
.fa-check-square:before {
  content: "\f14a";
}
.fa-pencil-square:before {
  content: "\f14b";
}
.fa-external-link-square:before {
  content: "\f14c";
}
.fa-share-square:before {
  content: "\f14d";
}
.fa-compass:before {
  content: "\f14e";
}
.fa-toggle-down:before,
.fa-caret-square-o-down:before {
  content: "\f150";
}
.fa-toggle-up:before,
.fa-caret-square-o-up:before {
  content: "\f151";
}
.fa-toggle-right:before,
.fa-caret-square-o-right:before {
  content: "\f152";
}
.fa-euro:before,
.fa-eur:before {
  content: "\f153";
}
.fa-gbp:before {
  content: "\f154";
}
.fa-dollar:before,
.fa-usd:before {
  content: "\f155";
}
.fa-rupee:before,
.fa-inr:before {
  content: "\f156";
}
.fa-cny:before,
.fa-rmb:before,
.fa-yen:before,
.fa-jpy:before {
  content: "\f157";
}
.fa-ruble:before,
.fa-rouble:before,
.fa-rub:before {
  content: "\f158";
}
.fa-won:before,
.fa-krw:before {
  content: "\f159";
}
.fa-bitcoin:before,
.fa-btc:before {
  content: "\f15a";
}
.fa-file:before {
  content: "\f15b";
}
.fa-file-text:before {
  content: "\f15c";
}
.fa-sort-alpha-asc:before {
  content: "\f15d";
}
.fa-sort-alpha-desc:before {
  content: "\f15e";
}
.fa-sort-amount-asc:before {
  content: "\f160";
}
.fa-sort-amount-desc:before {
  content: "\f161";
}
.fa-sort-numeric-asc:before {
  content: "\f162";
}
.fa-sort-numeric-desc:before {
  content: "\f163";
}
.fa-thumbs-up:before {
  content: "\f164";
}
.fa-thumbs-down:before {
  content: "\f165";
}
.fa-youtube-square:before {
  content: "\f166";
}
.fa-youtube:before {
  content: "\f167";
}
.fa-xing:before {
  content: "\f168";
}
.fa-xing-square:before {
  content: "\f169";
}
.fa-youtube-play:before {
  content: "\f16a";
}
.fa-dropbox:before {
  content: "\f16b";
}
.fa-stack-overflow:before {
  content: "\f16c";
}
.fa-instagram:before {
  content: "\f16d";
}
.fa-flickr:before {
  content: "\f16e";
}
.fa-adn:before {
  content: "\f170";
}
.fa-bitbucket:before {
  content: "\f171";
}
.fa-bitbucket-square:before {
  content: "\f172";
}
.fa-tumblr:before {
  content: "\f173";
}
.fa-tumblr-square:before {
  content: "\f174";
}
.fa-long-arrow-down:before {
  content: "\f175";
}
.fa-long-arrow-up:before {
  content: "\f176";
}
.fa-long-arrow-left:before {
  content: "\f177";
}
.fa-long-arrow-right:before {
  content: "\f178";
}
.fa-apple:before {
  content: "\f179";
}
.fa-windows:before {
  content: "\f17a";
}
.fa-android:before {
  content: "\f17b";
}
.fa-linux:before {
  content: "\f17c";
}
.fa-dribbble:before {
  content: "\f17d";
}
.fa-skype:before {
  content: "\f17e";
}
.fa-foursquare:before {
  content: "\f180";
}
.fa-trello:before {
  content: "\f181";
}
.fa-female:before {
  content: "\f182";
}
.fa-male:before {
  content: "\f183";
}
.fa-gittip:before,
.fa-gratipay:before {
  content: "\f184";
}
.fa-sun-o:before {
  content: "\f185";
}
.fa-moon-o:before {
  content: "\f186";
}
.fa-archive:before {
  content: "\f187";
}
.fa-bug:before {
  content: "\f188";
}
.fa-vk:before {
  content: "\f189";
}
.fa-weibo:before {
  content: "\f18a";
}
.fa-renren:before {
  content: "\f18b";
}
.fa-pagelines:before {
  content: "\f18c";
}
.fa-stack-exchange:before {
  content: "\f18d";
}
.fa-arrow-circle-o-right:before {
  content: "\f18e";
}
.fa-arrow-circle-o-left:before {
  content: "\f190";
}
.fa-toggle-left:before,
.fa-caret-square-o-left:before {
  content: "\f191";
}
.fa-dot-circle-o:before {
  content: "\f192";
}
.fa-wheelchair:before {
  content: "\f193";
}
.fa-vimeo-square:before {
  content: "\f194";
}
.fa-turkish-lira:before,
.fa-try:before {
  content: "\f195";
}
.fa-plus-square-o:before {
  content: "\f196";
}
.fa-space-shuttle:before {
  content: "\f197";
}
.fa-slack:before {
  content: "\f198";
}
.fa-envelope-square:before {
  content: "\f199";
}
.fa-wordpress:before {
  content: "\f19a";
}
.fa-openid:before {
  content: "\f19b";
}
.fa-institution:before,
.fa-bank:before,
.fa-university:before {
  content: "\f19c";
}
.fa-mortar-board:before,
.fa-graduation-cap:before {
  content: "\f19d";
}
.fa-yahoo:before {
  content: "\f19e";
}
.fa-google:before {
  content: "\f1a0";
}
.fa-reddit:before {
  content: "\f1a1";
}
.fa-reddit-square:before {
  content: "\f1a2";
}
.fa-stumbleupon-circle:before {
  content: "\f1a3";
}
.fa-stumbleupon:before {
  content: "\f1a4";
}
.fa-delicious:before {
  content: "\f1a5";
}
.fa-digg:before {
  content: "\f1a6";
}
.fa-pied-piper-pp:before {
  content: "\f1a7";
}
.fa-pied-piper-alt:before {
  content: "\f1a8";
}
.fa-drupal:before {
  content: "\f1a9";
}
.fa-joomla:before {
  content: "\f1aa";
}
.fa-language:before {
  content: "\f1ab";
}
.fa-fax:before {
  content: "\f1ac";
}
.fa-building:before {
  content: "\f1ad";
}
.fa-child:before {
  content: "\f1ae";
}
.fa-paw:before {
  content: "\f1b0";
}
.fa-spoon:before {
  content: "\f1b1";
}
.fa-cube:before {
  content: "\f1b2";
}
.fa-cubes:before {
  content: "\f1b3";
}
.fa-behance:before {
  content: "\f1b4";
}
.fa-behance-square:before {
  content: "\f1b5";
}
.fa-steam:before {
  content: "\f1b6";
}
.fa-steam-square:before {
  content: "\f1b7";
}
.fa-recycle:before {
  content: "\f1b8";
}
.fa-automobile:before,
.fa-car:before {
  content: "\f1b9";
}
.fa-cab:before,
.fa-taxi:before {
  content: "\f1ba";
}
.fa-tree:before {
  content: "\f1bb";
}
.fa-spotify:before {
  content: "\f1bc";
}
.fa-deviantart:before {
  content: "\f1bd";
}
.fa-soundcloud:before {
  content: "\f1be";
}
.fa-database:before {
  content: "\f1c0";
}
.fa-file-pdf-o:before {
  content: "\f1c1";
}
.fa-file-word-o:before {
  content: "\f1c2";
}
.fa-file-excel-o:before {
  content: "\f1c3";
}
.fa-file-powerpoint-o:before {
  content: "\f1c4";
}
.fa-file-photo-o:before,
.fa-file-picture-o:before,
.fa-file-image-o:before {
  content: "\f1c5";
}
.fa-file-zip-o:before,
.fa-file-archive-o:before {
  content: "\f1c6";
}
.fa-file-sound-o:before,
.fa-file-audio-o:before {
  content: "\f1c7";
}
.fa-file-movie-o:before,
.fa-file-video-o:before {
  content: "\f1c8";
}
.fa-file-code-o:before {
  content: "\f1c9";
}
.fa-vine:before {
  content: "\f1ca";
}
.fa-codepen:before {
  content: "\f1cb";
}
.fa-jsfiddle:before {
  content: "\f1cc";
}
.fa-life-bouy:before,
.fa-life-buoy:before,
.fa-life-saver:before,
.fa-support:before,
.fa-life-ring:before {
  content: "\f1cd";
}
.fa-circle-o-notch:before {
  content: "\f1ce";
}
.fa-ra:before,
.fa-resistance:before,
.fa-rebel:before {
  content: "\f1d0";
}
.fa-ge:before,
.fa-empire:before {
  content: "\f1d1";
}
.fa-git-square:before {
  content: "\f1d2";
}
.fa-git:before {
  content: "\f1d3";
}
.fa-y-combinator-square:before,
.fa-yc-square:before,
.fa-hacker-news:before {
  content: "\f1d4";
}
.fa-tencent-weibo:before {
  content: "\f1d5";
}
.fa-qq:before {
  content: "\f1d6";
}
.fa-wechat:before,
.fa-weixin:before {
  content: "\f1d7";
}
.fa-send:before,
.fa-paper-plane:before {
  content: "\f1d8";
}
.fa-send-o:before,
.fa-paper-plane-o:before {
  content: "\f1d9";
}
.fa-history:before {
  content: "\f1da";
}
.fa-circle-thin:before {
  content: "\f1db";
}
.fa-header:before {
  content: "\f1dc";
}
.fa-paragraph:before {
  content: "\f1dd";
}
.fa-sliders:before {
  content: "\f1de";
}
.fa-share-alt:before {
  content: "\f1e0";
}
.fa-share-alt-square:before {
  content: "\f1e1";
}
.fa-bomb:before {
  content: "\f1e2";
}
.fa-soccer-ball-o:before,
.fa-futbol-o:before {
  content: "\f1e3";
}
.fa-tty:before {
  content: "\f1e4";
}
.fa-binoculars:before {
  content: "\f1e5";
}
.fa-plug:before {
  content: "\f1e6";
}
.fa-slideshare:before {
  content: "\f1e7";
}
.fa-twitch:before {
  content: "\f1e8";
}
.fa-yelp:before {
  content: "\f1e9";
}
.fa-newspaper-o:before {
  content: "\f1ea";
}
.fa-wifi:before {
  content: "\f1eb";
}
.fa-calculator:before {
  content: "\f1ec";
}
.fa-paypal:before {
  content: "\f1ed";
}
.fa-google-wallet:before {
  content: "\f1ee";
}
.fa-cc-visa:before {
  content: "\f1f0";
}
.fa-cc-mastercard:before {
  content: "\f1f1";
}
.fa-cc-discover:before {
  content: "\f1f2";
}
.fa-cc-amex:before {
  content: "\f1f3";
}
.fa-cc-paypal:before {
  content: "\f1f4";
}
.fa-cc-stripe:before {
  content: "\f1f5";
}
.fa-bell-slash:before {
  content: "\f1f6";
}
.fa-bell-slash-o:before {
  content: "\f1f7";
}
.fa-trash:before {
  content: "\f1f8";
}
.fa-copyright:before {
  content: "\f1f9";
}
.fa-at:before {
  content: "\f1fa";
}
.fa-eyedropper:before {
  content: "\f1fb";
}
.fa-paint-brush:before {
  content: "\f1fc";
}
.fa-birthday-cake:before {
  content: "\f1fd";
}
.fa-area-chart:before {
  content: "\f1fe";
}
.fa-pie-chart:before {
  content: "\f200";
}
.fa-line-chart:before {
  content: "\f201";
}
.fa-lastfm:before {
  content: "\f202";
}
.fa-lastfm-square:before {
  content: "\f203";
}
.fa-toggle-off:before {
  content: "\f204";
}
.fa-toggle-on:before {
  content: "\f205";
}
.fa-bicycle:before {
  content: "\f206";
}
.fa-bus:before {
  content: "\f207";
}
.fa-ioxhost:before {
  content: "\f208";
}
.fa-angellist:before {
  content: "\f209";
}
.fa-cc:before {
  content: "\f20a";
}
.fa-shekel:before,
.fa-sheqel:before,
.fa-ils:before {
  content: "\f20b";
}
.fa-meanpath:before {
  content: "\f20c";
}
.fa-buysellads:before {
  content: "\f20d";
}
.fa-connectdevelop:before {
  content: "\f20e";
}
.fa-dashcube:before {
  content: "\f210";
}
.fa-forumbee:before {
  content: "\f211";
}
.fa-leanpub:before {
  content: "\f212";
}
.fa-sellsy:before {
  content: "\f213";
}
.fa-shirtsinbulk:before {
  content: "\f214";
}
.fa-simplybuilt:before {
  content: "\f215";
}
.fa-skyatlas:before {
  content: "\f216";
}
.fa-cart-plus:before {
  content: "\f217";
}
.fa-cart-arrow-down:before {
  content: "\f218";
}
.fa-diamond:before {
  content: "\f219";
}
.fa-ship:before {
  content: "\f21a";
}
.fa-user-secret:before {
  content: "\f21b";
}
.fa-motorcycle:before {
  content: "\f21c";
}
.fa-street-view:before {
  content: "\f21d";
}
.fa-heartbeat:before {
  content: "\f21e";
}
.fa-venus:before {
  content: "\f221";
}
.fa-mars:before {
  content: "\f222";
}
.fa-mercury:before {
  content: "\f223";
}
.fa-intersex:before,
.fa-transgender:before {
  content: "\f224";
}
.fa-transgender-alt:before {
  content: "\f225";
}
.fa-venus-double:before {
  content: "\f226";
}
.fa-mars-double:before {
  content: "\f227";
}
.fa-venus-mars:before {
  content: "\f228";
}
.fa-mars-stroke:before {
  content: "\f229";
}
.fa-mars-stroke-v:before {
  content: "\f22a";
}
.fa-mars-stroke-h:before {
  content: "\f22b";
}
.fa-neuter:before {
  content: "\f22c";
}
.fa-genderless:before {
  content: "\f22d";
}
.fa-facebook-official:before {
  content: "\f230";
}
.fa-pinterest-p:before {
  content: "\f231";
}
.fa-whatsapp:before {
  content: "\f232";
}
.fa-server:before {
  content: "\f233";
}
.fa-user-plus:before {
  content: "\f234";
}
.fa-user-times:before {
  content: "\f235";
}
.fa-hotel:before,
.fa-bed:before {
  content: "\f236";
}
.fa-viacoin:before {
  content: "\f237";
}
.fa-train:before {
  content: "\f238";
}
.fa-subway:before {
  content: "\f239";
}
.fa-medium:before {
  content: "\f23a";
}
.fa-yc:before,
.fa-y-combinator:before {
  content: "\f23b";
}
.fa-optin-monster:before {
  content: "\f23c";
}
.fa-opencart:before {
  content: "\f23d";
}
.fa-expeditedssl:before {
  content: "\f23e";
}
.fa-battery-4:before,
.fa-battery:before,
.fa-battery-full:before {
  content: "\f240";
}
.fa-battery-3:before,
.fa-battery-three-quarters:before {
  content: "\f241";
}
.fa-battery-2:before,
.fa-battery-half:before {
  content: "\f242";
}
.fa-battery-1:before,
.fa-battery-quarter:before {
  content: "\f243";
}
.fa-battery-0:before,
.fa-battery-empty:before {
  content: "\f244";
}
.fa-mouse-pointer:before {
  content: "\f245";
}
.fa-i-cursor:before {
  content: "\f246";
}
.fa-object-group:before {
  content: "\f247";
}
.fa-object-ungroup:before {
  content: "\f248";
}
.fa-sticky-note:before {
  content: "\f249";
}
.fa-sticky-note-o:before {
  content: "\f24a";
}
.fa-cc-jcb:before {
  content: "\f24b";
}
.fa-cc-diners-club:before {
  content: "\f24c";
}
.fa-clone:before {
  content: "\f24d";
}
.fa-balance-scale:before {
  content: "\f24e";
}
.fa-hourglass-o:before {
  content: "\f250";
}
.fa-hourglass-1:before,
.fa-hourglass-start:before {
  content: "\f251";
}
.fa-hourglass-2:before,
.fa-hourglass-half:before {
  content: "\f252";
}
.fa-hourglass-3:before,
.fa-hourglass-end:before {
  content: "\f253";
}
.fa-hourglass:before {
  content: "\f254";
}
.fa-hand-grab-o:before,
.fa-hand-rock-o:before {
  content: "\f255";
}
.fa-hand-stop-o:before,
.fa-hand-paper-o:before {
  content: "\f256";
}
.fa-hand-scissors-o:before {
  content: "\f257";
}
.fa-hand-lizard-o:before {
  content: "\f258";
}
.fa-hand-spock-o:before {
  content: "\f259";
}
.fa-hand-pointer-o:before {
  content: "\f25a";
}
.fa-hand-peace-o:before {
  content: "\f25b";
}
.fa-trademark:before {
  content: "\f25c";
}
.fa-registered:before {
  content: "\f25d";
}
.fa-creative-commons:before {
  content: "\f25e";
}
.fa-gg:before {
  content: "\f260";
}
.fa-gg-circle:before {
  content: "\f261";
}
.fa-tripadvisor:before {
  content: "\f262";
}
.fa-odnoklassniki:before {
  content: "\f263";
}
.fa-odnoklassniki-square:before {
  content: "\f264";
}
.fa-get-pocket:before {
  content: "\f265";
}
.fa-wikipedia-w:before {
  content: "\f266";
}
.fa-safari:before {
  content: "\f267";
}
.fa-chrome:before {
  content: "\f268";
}
.fa-firefox:before {
  content: "\f269";
}
.fa-opera:before {
  content: "\f26a";
}
.fa-internet-explorer:before {
  content: "\f26b";
}
.fa-tv:before,
.fa-television:before {
  content: "\f26c";
}
.fa-contao:before {
  content: "\f26d";
}
.fa-500px:before {
  content: "\f26e";
}
.fa-amazon:before {
  content: "\f270";
}
.fa-calendar-plus-o:before {
  content: "\f271";
}
.fa-calendar-minus-o:before {
  content: "\f272";
}
.fa-calendar-times-o:before {
  content: "\f273";
}
.fa-calendar-check-o:before {
  content: "\f274";
}
.fa-industry:before {
  content: "\f275";
}
.fa-map-pin:before {
  content: "\f276";
}
.fa-map-signs:before {
  content: "\f277";
}
.fa-map-o:before {
  content: "\f278";
}
.fa-map:before {
  content: "\f279";
}
.fa-commenting:before {
  content: "\f27a";
}
.fa-commenting-o:before {
  content: "\f27b";
}
.fa-houzz:before {
  content: "\f27c";
}
.fa-vimeo:before {
  content: "\f27d";
}
.fa-black-tie:before {
  content: "\f27e";
}
.fa-fonticons:before {
  content: "\f280";
}
.fa-reddit-alien:before {
  content: "\f281";
}
.fa-edge:before {
  content: "\f282";
}
.fa-credit-card-alt:before {
  content: "\f283";
}
.fa-codiepie:before {
  content: "\f284";
}
.fa-modx:before {
  content: "\f285";
}
.fa-fort-awesome:before {
  content: "\f286";
}
.fa-usb:before {
  content: "\f287";
}
.fa-product-hunt:before {
  content: "\f288";
}
.fa-mixcloud:before {
  content: "\f289";
}
.fa-scribd:before {
  content: "\f28a";
}
.fa-pause-circle:before {
  content: "\f28b";
}
.fa-pause-circle-o:before {
  content: "\f28c";
}
.fa-stop-circle:before {
  content: "\f28d";
}
.fa-stop-circle-o:before {
  content: "\f28e";
}
.fa-shopping-bag:before {
  content: "\f290";
}
.fa-shopping-basket:before {
  content: "\f291";
}
.fa-hashtag:before {
  content: "\f292";
}
.fa-bluetooth:before {
  content: "\f293";
}
.fa-bluetooth-b:before {
  content: "\f294";
}
.fa-percent:before {
  content: "\f295";
}
.fa-gitlab:before {
  content: "\f296";
}
.fa-wpbeginner:before {
  content: "\f297";
}
.fa-wpforms:before {
  content: "\f298";
}
.fa-envira:before {
  content: "\f299";
}
.fa-universal-access:before {
  content: "\f29a";
}
.fa-wheelchair-alt:before {
  content: "\f29b";
}
.fa-question-circle-o:before {
  content: "\f29c";
}
.fa-blind:before {
  content: "\f29d";
}
.fa-audio-description:before {
  content: "\f29e";
}
.fa-volume-control-phone:before {
  content: "\f2a0";
}
.fa-braille:before {
  content: "\f2a1";
}
.fa-assistive-listening-systems:before {
  content: "\f2a2";
}
.fa-asl-interpreting:before,
.fa-american-sign-language-interpreting:before {
  content: "\f2a3";
}
.fa-deafness:before,
.fa-hard-of-hearing:before,
.fa-deaf:before {
  content: "\f2a4";
}
.fa-glide:before {
  content: "\f2a5";
}
.fa-glide-g:before {
  content: "\f2a6";
}
.fa-signing:before,
.fa-sign-language:before {
  content: "\f2a7";
}
.fa-low-vision:before {
  content: "\f2a8";
}
.fa-viadeo:before {
  content: "\f2a9";
}
.fa-viadeo-square:before {
  content: "\f2aa";
}
.fa-snapchat:before {
  content: "\f2ab";
}
.fa-snapchat-ghost:before {
  content: "\f2ac";
}
.fa-snapchat-square:before {
  content: "\f2ad";
}
.fa-pied-piper:before {
  content: "\f2ae";
}
.fa-first-order:before {
  content: "\f2b0";
}
.fa-yoast:before {
  content: "\f2b1";
}
.fa-themeisle:before {
  content: "\f2b2";
}
.fa-google-plus-circle:before,
.fa-google-plus-official:before {
  content: "\f2b3";
}
.fa-fa:before,
.fa-font-awesome:before {
  content: "\f2b4";
}
.fa-handshake-o:before {
  content: "\f2b5";
}
.fa-envelope-open:before {
  content: "\f2b6";
}
.fa-envelope-open-o:before {
  content: "\f2b7";
}
.fa-linode:before {
  content: "\f2b8";
}
.fa-address-book:before {
  content: "\f2b9";
}
.fa-address-book-o:before {
  content: "\f2ba";
}
.fa-vcard:before,
.fa-address-card:before {
  content: "\f2bb";
}
.fa-vcard-o:before,
.fa-address-card-o:before {
  content: "\f2bc";
}
.fa-user-circle:before {
  content: "\f2bd";
}
.fa-user-circle-o:before {
  content: "\f2be";
}
.fa-user-o:before {
  content: "\f2c0";
}
.fa-id-badge:before {
  content: "\f2c1";
}
.fa-drivers-license:before,
.fa-id-card:before {
  content: "\f2c2";
}
.fa-drivers-license-o:before,
.fa-id-card-o:before {
  content: "\f2c3";
}
.fa-quora:before {
  content: "\f2c4";
}
.fa-free-code-camp:before {
  content: "\f2c5";
}
.fa-telegram:before {
  content: "\f2c6";
}
.fa-thermometer-4:before,
.fa-thermometer:before,
.fa-thermometer-full:before {
  content: "\f2c7";
}
.fa-thermometer-3:before,
.fa-thermometer-three-quarters:before {
  content: "\f2c8";
}
.fa-thermometer-2:before,
.fa-thermometer-half:before {
  content: "\f2c9";
}
.fa-thermometer-1:before,
.fa-thermometer-quarter:before {
  content: "\f2ca";
}
.fa-thermometer-0:before,
.fa-thermometer-empty:before {
  content: "\f2cb";
}
.fa-shower:before {
  content: "\f2cc";
}
.fa-bathtub:before,
.fa-s15:before,
.fa-bath:before {
  content: "\f2cd";
}
.fa-podcast:before {
  content: "\f2ce";
}
.fa-window-maximize:before {
  content: "\f2d0";
}
.fa-window-minimize:before {
  content: "\f2d1";
}
.fa-window-restore:before {
  content: "\f2d2";
}
.fa-times-rectangle:before,
.fa-window-close:before {
  content: "\f2d3";
}
.fa-times-rectangle-o:before,
.fa-window-close-o:before {
  content: "\f2d4";
}
.fa-bandcamp:before {
  content: "\f2d5";
}
.fa-grav:before {
  content: "\f2d6";
}
.fa-etsy:before {
  content: "\f2d7";
}
.fa-imdb:before {
  content: "\f2d8";
}
.fa-ravelry:before {
  content: "\f2d9";
}
.fa-eercast:before {
  content: "\f2da";
}
.fa-microchip:before {
  content: "\f2db";
}
.fa-snowflake-o:before {
  content: "\f2dc";
}
.fa-superpowers:before {
  content: "\f2dd";
}
.fa-wpexplorer:before {
  content: "\f2de";
}
.fa-meetup:before {
  content: "\f2e0";
}
.sr-only {
  position: absolute;
  width: 1px;
  height: 1px;
  padding: 0;
  margin: -1px;
  overflow: hidden;
  clip: rect(0, 0, 0, 0);
  border: 0;
}
.sr-only-focusable:active,
.sr-only-focusable:focus {
  position: static;
  width: auto;
  height: auto;
  margin: 0;
  overflow: visible;
  clip: auto;
}
.sr-only-focusable:active,
.sr-only-focusable:focus {
  position: static;
  width: auto;
  height: auto;
  margin: 0;
  overflow: visible;
  clip: auto;
}
/*!
*
* IPython base
*
*/
.modal.fade .modal-dialog {
  -webkit-transform: translate(0, 0);
  -ms-transform: translate(0, 0);
  -o-transform: translate(0, 0);
  transform: translate(0, 0);
}
code {
  color: #000;
}
pre {
  font-size: inherit;
  line-height: inherit;
}
label {
  font-weight: normal;
}
/* Make the page background atleast 100% the height of the view port */
/* Make the page itself atleast 70% the height of the view port */
.border-box-sizing {
  box-sizing: border-box;
  -moz-box-sizing: border-box;
  -webkit-box-sizing: border-box;
}
.corner-all {
  border-radius: 2px;
}
.no-padding {
  padding: 0px;
}
/* Flexible box model classes */
/* Taken from Alex Russell http://infrequently.org/2009/08/css-3-progress/ */
/* This file is a compatability layer.  It allows the usage of flexible box 
model layouts accross multiple browsers, including older browsers.  The newest,
universal implementation of the flexible box model is used when available (see
`Modern browsers` comments below).  Browsers that are known to implement this 
new spec completely include:

    Firefox 28.0+
    Chrome 29.0+
    Internet Explorer 11+ 
    Opera 17.0+

Browsers not listed, including Safari, are supported via the styling under the
`Old browsers` comments below.
*/
.hbox {
  /* Old browsers */
  display: -webkit-box;
  -webkit-box-orient: horizontal;
  -webkit-box-align: stretch;
  display: -moz-box;
  -moz-box-orient: horizontal;
  -moz-box-align: stretch;
  display: box;
  box-orient: horizontal;
  box-align: stretch;
  /* Modern browsers */
  display: flex;
  flex-direction: row;
  align-items: stretch;
}
.hbox > * {
  /* Old browsers */
  -webkit-box-flex: 0;
  -moz-box-flex: 0;
  box-flex: 0;
  /* Modern browsers */
  flex: none;
}
.vbox {
  /* Old browsers */
  display: -webkit-box;
  -webkit-box-orient: vertical;
  -webkit-box-align: stretch;
  display: -moz-box;
  -moz-box-orient: vertical;
  -moz-box-align: stretch;
  display: box;
  box-orient: vertical;
  box-align: stretch;
  /* Modern browsers */
  display: flex;
  flex-direction: column;
  align-items: stretch;
}
.vbox > * {
  /* Old browsers */
  -webkit-box-flex: 0;
  -moz-box-flex: 0;
  box-flex: 0;
  /* Modern browsers */
  flex: none;
}
.hbox.reverse,
.vbox.reverse,
.reverse {
  /* Old browsers */
  -webkit-box-direction: reverse;
  -moz-box-direction: reverse;
  box-direction: reverse;
  /* Modern browsers */
  flex-direction: row-reverse;
}
.hbox.box-flex0,
.vbox.box-flex0,
.box-flex0 {
  /* Old browsers */
  -webkit-box-flex: 0;
  -moz-box-flex: 0;
  box-flex: 0;
  /* Modern browsers */
  flex: none;
  width: auto;
}
.hbox.box-flex1,
.vbox.box-flex1,
.box-flex1 {
  /* Old browsers */
  -webkit-box-flex: 1;
  -moz-box-flex: 1;
  box-flex: 1;
  /* Modern browsers */
  flex: 1;
}
.hbox.box-flex,
.vbox.box-flex,
.box-flex {
  /* Old browsers */
  /* Old browsers */
  -webkit-box-flex: 1;
  -moz-box-flex: 1;
  box-flex: 1;
  /* Modern browsers */
  flex: 1;
}
.hbox.box-flex2,
.vbox.box-flex2,
.box-flex2 {
  /* Old browsers */
  -webkit-box-flex: 2;
  -moz-box-flex: 2;
  box-flex: 2;
  /* Modern browsers */
  flex: 2;
}
.box-group1 {
  /*  Deprecated */
  -webkit-box-flex-group: 1;
  -moz-box-flex-group: 1;
  box-flex-group: 1;
}
.box-group2 {
  /* Deprecated */
  -webkit-box-flex-group: 2;
  -moz-box-flex-group: 2;
  box-flex-group: 2;
}
.hbox.start,
.vbox.start,
.start {
  /* Old browsers */
  -webkit-box-pack: start;
  -moz-box-pack: start;
  box-pack: start;
  /* Modern browsers */
  justify-content: flex-start;
}
.hbox.end,
.vbox.end,
.end {
  /* Old browsers */
  -webkit-box-pack: end;
  -moz-box-pack: end;
  box-pack: end;
  /* Modern browsers */
  justify-content: flex-end;
}
.hbox.center,
.vbox.center,
.center {
  /* Old browsers */
  -webkit-box-pack: center;
  -moz-box-pack: center;
  box-pack: center;
  /* Modern browsers */
  justify-content: center;
}
.hbox.baseline,
.vbox.baseline,
.baseline {
  /* Old browsers */
  -webkit-box-pack: baseline;
  -moz-box-pack: baseline;
  box-pack: baseline;
  /* Modern browsers */
  justify-content: baseline;
}
.hbox.stretch,
.vbox.stretch,
.stretch {
  /* Old browsers */
  -webkit-box-pack: stretch;
  -moz-box-pack: stretch;
  box-pack: stretch;
  /* Modern browsers */
  justify-content: stretch;
}
.hbox.align-start,
.vbox.align-start,
.align-start {
  /* Old browsers */
  -webkit-box-align: start;
  -moz-box-align: start;
  box-align: start;
  /* Modern browsers */
  align-items: flex-start;
}
.hbox.align-end,
.vbox.align-end,
.align-end {
  /* Old browsers */
  -webkit-box-align: end;
  -moz-box-align: end;
  box-align: end;
  /* Modern browsers */
  align-items: flex-end;
}
.hbox.align-center,
.vbox.align-center,
.align-center {
  /* Old browsers */
  -webkit-box-align: center;
  -moz-box-align: center;
  box-align: center;
  /* Modern browsers */
  align-items: center;
}
.hbox.align-baseline,
.vbox.align-baseline,
.align-baseline {
  /* Old browsers */
  -webkit-box-align: baseline;
  -moz-box-align: baseline;
  box-align: baseline;
  /* Modern browsers */
  align-items: baseline;
}
.hbox.align-stretch,
.vbox.align-stretch,
.align-stretch {
  /* Old browsers */
  -webkit-box-align: stretch;
  -moz-box-align: stretch;
  box-align: stretch;
  /* Modern browsers */
  align-items: stretch;
}
div.error {
  margin: 2em;
  text-align: center;
}
div.error > h1 {
  font-size: 500%;
  line-height: normal;
}
div.error > p {
  font-size: 200%;
  line-height: normal;
}
div.traceback-wrapper {
  text-align: left;
  max-width: 800px;
  margin: auto;
}
div.traceback-wrapper pre.traceback {
  max-height: 600px;
  overflow: auto;
}
/**
 * Primary styles
 *
 * Author: Jupyter Development Team
 */
body {
  background-color: #fff;
  /* This makes sure that the body covers the entire window and needs to
       be in a different element than the display: box in wrapper below */
  position: absolute;
  left: 0px;
  right: 0px;
  top: 0px;
  bottom: 0px;
  overflow: visible;
}
body > #header {
  /* Initially hidden to prevent FLOUC */
  display: none;
  background-color: #fff;
  /* Display over codemirror */
  position: relative;
  z-index: 100;
}
body > #header #header-container {
  display: flex;
  flex-direction: row;
  justify-content: space-between;
  padding: 5px;
  padding-bottom: 5px;
  padding-top: 5px;
  box-sizing: border-box;
  -moz-box-sizing: border-box;
  -webkit-box-sizing: border-box;
}
body > #header .header-bar {
  width: 100%;
  height: 1px;
  background: #e7e7e7;
  margin-bottom: -1px;
}
@media print {
  body > #header {
    display: none !important;
  }
}
#header-spacer {
  width: 100%;
  visibility: hidden;
}
@media print {
  #header-spacer {
    display: none;
  }
}
#ipython_notebook {
  padding-left: 0px;
  padding-top: 1px;
  padding-bottom: 1px;
}
[dir="rtl"] #ipython_notebook {
  margin-right: 10px;
  margin-left: 0;
}
[dir="rtl"] #ipython_notebook.pull-left {
  float: right !important;
  float: right;
}
.flex-spacer {
  flex: 1;
}
#noscript {
  width: auto;
  padding-top: 16px;
  padding-bottom: 16px;
  text-align: center;
  font-size: 22px;
  color: red;
  font-weight: bold;
}
#ipython_notebook img {
  height: 28px;
}
#site {
  width: 100%;
  display: none;
  box-sizing: border-box;
  -moz-box-sizing: border-box;
  -webkit-box-sizing: border-box;
  overflow: auto;
}
@media print {
  #site {
    height: auto !important;
  }
}
/* Smaller buttons */
.ui-button .ui-button-text {
  padding: 0.2em 0.8em;
  font-size: 77%;
}
input.ui-button {
  padding: 0.3em 0.9em;
}
span#kernel_logo_widget {
  margin: 0 10px;
}
span#login_widget {
  float: right;
}
[dir="rtl"] span#login_widget {
  float: left;
}
span#login_widget > .button,
#logout {
  color: #333;
  background-color: #fff;
  border-color: #ccc;
}
span#login_widget > .button:focus,
#logout:focus,
span#login_widget > .button.focus,
#logout.focus {
  color: #333;
  background-color: #e6e6e6;
  border-color: #8c8c8c;
}
span#login_widget > .button:hover,
#logout:hover {
  color: #333;
  background-color: #e6e6e6;
  border-color: #adadad;
}
span#login_widget > .button:active,
#logout:active,
span#login_widget > .button.active,
#logout.active,
.open > .dropdown-togglespan#login_widget > .button,
.open > .dropdown-toggle#logout {
  color: #333;
  background-color: #e6e6e6;
  border-color: #adadad;
}
span#login_widget > .button:active:hover,
#logout:active:hover,
span#login_widget > .button.active:hover,
#logout.active:hover,
.open > .dropdown-togglespan#login_widget > .button:hover,
.open > .dropdown-toggle#logout:hover,
span#login_widget > .button:active:focus,
#logout:active:focus,
span#login_widget > .button.active:focus,
#logout.active:focus,
.open > .dropdown-togglespan#login_widget > .button:focus,
.open > .dropdown-toggle#logout:focus,
span#login_widget > .button:active.focus,
#logout:active.focus,
span#login_widget > .button.active.focus,
#logout.active.focus,
.open > .dropdown-togglespan#login_widget > .button.focus,
.open > .dropdown-toggle#logout.focus {
  color: #333;
  background-color: #d4d4d4;
  border-color: #8c8c8c;
}
span#login_widget > .button:active,
#logout:active,
span#login_widget > .button.active,
#logout.active,
.open > .dropdown-togglespan#login_widget > .button,
.open > .dropdown-toggle#logout {
  background-image: none;
}
span#login_widget > .button.disabled:hover,
#logout.disabled:hover,
span#login_widget > .button[disabled]:hover,
#logout[disabled]:hover,
fieldset[disabled] span#login_widget > .button:hover,
fieldset[disabled] #logout:hover,
span#login_widget > .button.disabled:focus,
#logout.disabled:focus,
span#login_widget > .button[disabled]:focus,
#logout[disabled]:focus,
fieldset[disabled] span#login_widget > .button:focus,
fieldset[disabled] #logout:focus,
span#login_widget > .button.disabled.focus,
#logout.disabled.focus,
span#login_widget > .button[disabled].focus,
#logout[disabled].focus,
fieldset[disabled] span#login_widget > .button.focus,
fieldset[disabled] #logout.focus {
  background-color: #fff;
  border-color: #ccc;
}
span#login_widget > .button .badge,
#logout .badge {
  color: #fff;
  background-color: #333;
}
.nav-header {
  text-transform: none;
}
#header > span {
  margin-top: 10px;
}
.modal_stretch .modal-dialog {
  /* Old browsers */
  display: -webkit-box;
  -webkit-box-orient: vertical;
  -webkit-box-align: stretch;
  display: -moz-box;
  -moz-box-orient: vertical;
  -moz-box-align: stretch;
  display: box;
  box-orient: vertical;
  box-align: stretch;
  /* Modern browsers */
  display: flex;
  flex-direction: column;
  align-items: stretch;
  min-height: 80vh;
}
.modal_stretch .modal-dialog .modal-body {
  max-height: calc(100vh - 200px);
  overflow: auto;
  flex: 1;
}
.modal-header {
  cursor: move;
}
@media (min-width: 768px) {
  .modal .modal-dialog {
    width: 700px;
  }
}
@media (min-width: 768px) {
  select.form-control {
    margin-left: 12px;
    margin-right: 12px;
  }
}
/*!
*
* IPython auth
*
*/
.center-nav {
  display: inline-block;
  margin-bottom: -4px;
}
[dir="rtl"] .center-nav form.pull-left {
  float: right !important;
  float: right;
}
[dir="rtl"] .center-nav .navbar-text {
  float: right;
}
[dir="rtl"] .navbar-inner {
  text-align: right;
}
[dir="rtl"] div.text-left {
  text-align: right;
}
/*!
*
* IPython tree view
*
*/
/* We need an invisible input field on top of the sentense*/
/* "Drag file onto the list ..." */
.alternate_upload {
  background-color: none;
  display: inline;
}
.alternate_upload.form {
  padding: 0;
  margin: 0;
}
.alternate_upload input.fileinput {
  position: absolute;
  display: block;
  width: 100%;
  height: 100%;
  overflow: hidden;
  cursor: pointer;
  opacity: 0;
  z-index: 2;
}
.alternate_upload .btn-xs > input.fileinput {
  margin: -1px -5px;
}
.alternate_upload .btn-upload {
  position: relative;
  height: 22px;
}
::-webkit-file-upload-button {
  cursor: pointer;
}
/**
 * Primary styles
 *
 * Author: Jupyter Development Team
 */
ul#tabs {
  margin-bottom: 4px;
}
ul#tabs a {
  padding-top: 6px;
  padding-bottom: 4px;
}
[dir="rtl"] ul#tabs.nav-tabs > li {
  float: right;
}
[dir="rtl"] ul#tabs.nav.nav-tabs {
  padding-right: 0;
}
ul.breadcrumb a:focus,
ul.breadcrumb a:hover {
  text-decoration: none;
}
ul.breadcrumb i.icon-home {
  font-size: 16px;
  margin-right: 4px;
}
ul.breadcrumb span {
  color: #5e5e5e;
}
.list_toolbar {
  padding: 4px 0 4px 0;
  vertical-align: middle;
}
.list_toolbar .tree-buttons {
  padding-top: 1px;
}
[dir="rtl"] .list_toolbar .tree-buttons .pull-right {
  float: left !important;
  float: left;
}
[dir="rtl"] .list_toolbar .col-sm-4,
[dir="rtl"] .list_toolbar .col-sm-8 {
  float: right;
}
.dynamic-buttons {
  padding-top: 3px;
  display: inline-block;
}
.list_toolbar [class*="span"] {
  min-height: 24px;
}
.list_header {
  font-weight: bold;
  background-color: #EEE;
}
.list_placeholder {
  font-weight: bold;
  padding-top: 4px;
  padding-bottom: 4px;
  padding-left: 7px;
  padding-right: 7px;
}
.list_container {
  margin-top: 4px;
  margin-bottom: 20px;
  border: 1px solid #ddd;
  border-radius: 2px;
}
.list_container > div {
  border-bottom: 1px solid #ddd;
}
.list_container > div:hover .list-item {
  background-color: red;
}
.list_container > div:last-child {
  border: none;
}
.list_item:hover .list_item {
  background-color: #ddd;
}
.list_item a {
  text-decoration: none;
}
.list_item:hover {
  background-color: #fafafa;
}
.list_header > div,
.list_item > div {
  padding-top: 4px;
  padding-bottom: 4px;
  padding-left: 7px;
  padding-right: 7px;
  line-height: 22px;
}
.list_header > div input,
.list_item > div input {
  margin-right: 7px;
  margin-left: 14px;
  vertical-align: text-bottom;
  line-height: 22px;
  position: relative;
  top: -1px;
}
.list_header > div .item_link,
.list_item > div .item_link {
  margin-left: -1px;
  vertical-align: baseline;
  line-height: 22px;
}
[dir="rtl"] .list_item > div input {
  margin-right: 0;
}
.new-file input[type=checkbox] {
  visibility: hidden;
}
.item_name {
  line-height: 22px;
  height: 24px;
}
.item_icon {
  font-size: 14px;
  color: #5e5e5e;
  margin-right: 7px;
  margin-left: 7px;
  line-height: 22px;
  vertical-align: baseline;
}
.item_modified {
  margin-right: 7px;
  margin-left: 7px;
}
[dir="rtl"] .item_modified.pull-right {
  float: left !important;
  float: left;
}
.item_buttons {
  line-height: 1em;
  margin-left: -5px;
}
.item_buttons .btn,
.item_buttons .btn-group,
.item_buttons .input-group {
  float: left;
}
.item_buttons > .btn,
.item_buttons > .btn-group,
.item_buttons > .input-group {
  margin-left: 5px;
}
.item_buttons .btn {
  min-width: 13ex;
}
.item_buttons .running-indicator {
  padding-top: 4px;
  color: #5cb85c;
}
.item_buttons .kernel-name {
  padding-top: 4px;
  color: #5bc0de;
  margin-right: 7px;
  float: left;
}
[dir="rtl"] .item_buttons.pull-right {
  float: left !important;
  float: left;
}
[dir="rtl"] .item_buttons .kernel-name {
  margin-left: 7px;
  float: right;
}
.toolbar_info {
  height: 24px;
  line-height: 24px;
}
.list_item input:not([type=checkbox]) {
  padding-top: 3px;
  padding-bottom: 3px;
  height: 22px;
  line-height: 14px;
  margin: 0px;
}
.highlight_text {
  color: blue;
}
#project_name {
  display: inline-block;
  padding-left: 7px;
  margin-left: -2px;
}
#project_name > .breadcrumb {
  padding: 0px;
  margin-bottom: 0px;
  background-color: transparent;
  font-weight: bold;
}
.sort_button {
  display: inline-block;
  padding-left: 7px;
}
[dir="rtl"] .sort_button.pull-right {
  float: left !important;
  float: left;
}
#tree-selector {
  padding-right: 0px;
}
#button-select-all {
  min-width: 50px;
}
[dir="rtl"] #button-select-all.btn {
  float: right ;
}
#select-all {
  margin-left: 7px;
  margin-right: 2px;
  margin-top: 2px;
  height: 16px;
}
[dir="rtl"] #select-all.pull-left {
  float: right !important;
  float: right;
}
.menu_icon {
  margin-right: 2px;
}
.tab-content .row {
  margin-left: 0px;
  margin-right: 0px;
}
.folder_icon:before {
  display: inline-block;
  font: normal normal normal 14px/1 FontAwesome;
  font-size: inherit;
  text-rendering: auto;
  -webkit-font-smoothing: antialiased;
  -moz-osx-font-smoothing: grayscale;
  content: "\f114";
}
.folder_icon:before.fa-pull-left {
  margin-right: .3em;
}
.folder_icon:before.fa-pull-right {
  margin-left: .3em;
}
.folder_icon:before.pull-left {
  margin-right: .3em;
}
.folder_icon:before.pull-right {
  margin-left: .3em;
}
.notebook_icon:before {
  display: inline-block;
  font: normal normal normal 14px/1 FontAwesome;
  font-size: inherit;
  text-rendering: auto;
  -webkit-font-smoothing: antialiased;
  -moz-osx-font-smoothing: grayscale;
  content: "\f02d";
  position: relative;
  top: -1px;
}
.notebook_icon:before.fa-pull-left {
  margin-right: .3em;
}
.notebook_icon:before.fa-pull-right {
  margin-left: .3em;
}
.notebook_icon:before.pull-left {
  margin-right: .3em;
}
.notebook_icon:before.pull-right {
  margin-left: .3em;
}
.running_notebook_icon:before {
  display: inline-block;
  font: normal normal normal 14px/1 FontAwesome;
  font-size: inherit;
  text-rendering: auto;
  -webkit-font-smoothing: antialiased;
  -moz-osx-font-smoothing: grayscale;
  content: "\f02d";
  position: relative;
  top: -1px;
  color: #5cb85c;
}
.running_notebook_icon:before.fa-pull-left {
  margin-right: .3em;
}
.running_notebook_icon:before.fa-pull-right {
  margin-left: .3em;
}
.running_notebook_icon:before.pull-left {
  margin-right: .3em;
}
.running_notebook_icon:before.pull-right {
  margin-left: .3em;
}
.file_icon:before {
  display: inline-block;
  font: normal normal normal 14px/1 FontAwesome;
  font-size: inherit;
  text-rendering: auto;
  -webkit-font-smoothing: antialiased;
  -moz-osx-font-smoothing: grayscale;
  content: "\f016";
  position: relative;
  top: -2px;
}
.file_icon:before.fa-pull-left {
  margin-right: .3em;
}
.file_icon:before.fa-pull-right {
  margin-left: .3em;
}
.file_icon:before.pull-left {
  margin-right: .3em;
}
.file_icon:before.pull-right {
  margin-left: .3em;
}
#notebook_toolbar .pull-right {
  padding-top: 0px;
  margin-right: -1px;
}
ul#new-menu {
  left: auto;
  right: 0;
}
#new-menu .dropdown-header {
  font-size: 10px;
  border-bottom: 1px solid #e5e5e5;
  padding: 0 0 3px;
  margin: -3px 20px 0;
}
.kernel-menu-icon {
  padding-right: 12px;
  width: 24px;
  content: "\f096";
}
.kernel-menu-icon:before {
  content: "\f096";
}
.kernel-menu-icon-current:before {
  content: "\f00c";
}
#tab_content {
  padding-top: 20px;
}
#running .panel-group .panel {
  margin-top: 3px;
  margin-bottom: 1em;
}
#running .panel-group .panel .panel-heading {
  background-color: #EEE;
  padding-top: 4px;
  padding-bottom: 4px;
  padding-left: 7px;
  padding-right: 7px;
  line-height: 22px;
}
#running .panel-group .panel .panel-heading a:focus,
#running .panel-group .panel .panel-heading a:hover {
  text-decoration: none;
}
#running .panel-group .panel .panel-body {
  padding: 0px;
}
#running .panel-group .panel .panel-body .list_container {
  margin-top: 0px;
  margin-bottom: 0px;
  border: 0px;
  border-radius: 0px;
}
#running .panel-group .panel .panel-body .list_container .list_item {
  border-bottom: 1px solid #ddd;
}
#running .panel-group .panel .panel-body .list_container .list_item:last-child {
  border-bottom: 0px;
}
.delete-button {
  display: none;
}
.duplicate-button {
  display: none;
}
.rename-button {
  display: none;
}
.move-button {
  display: none;
}
.download-button {
  display: none;
}
.shutdown-button {
  display: none;
}
.dynamic-instructions {
  display: inline-block;
  padding-top: 4px;
}
/*!
*
* IPython text editor webapp
*
*/
.selected-keymap i.fa {
  padding: 0px 5px;
}
.selected-keymap i.fa:before {
  content: "\f00c";
}
#mode-menu {
  overflow: auto;
  max-height: 20em;
}
.edit_app #header {
  -webkit-box-shadow: 0px 0px 12px 1px rgba(87, 87, 87, 0.2);
  box-shadow: 0px 0px 12px 1px rgba(87, 87, 87, 0.2);
}
.edit_app #menubar .navbar {
  /* Use a negative 1 bottom margin, so the border overlaps the border of the
    header */
  margin-bottom: -1px;
}
.dirty-indicator {
  display: inline-block;
  font: normal normal normal 14px/1 FontAwesome;
  font-size: inherit;
  text-rendering: auto;
  -webkit-font-smoothing: antialiased;
  -moz-osx-font-smoothing: grayscale;
  width: 20px;
}
.dirty-indicator.fa-pull-left {
  margin-right: .3em;
}
.dirty-indicator.fa-pull-right {
  margin-left: .3em;
}
.dirty-indicator.pull-left {
  margin-right: .3em;
}
.dirty-indicator.pull-right {
  margin-left: .3em;
}
.dirty-indicator-dirty {
  display: inline-block;
  font: normal normal normal 14px/1 FontAwesome;
  font-size: inherit;
  text-rendering: auto;
  -webkit-font-smoothing: antialiased;
  -moz-osx-font-smoothing: grayscale;
  width: 20px;
}
.dirty-indicator-dirty.fa-pull-left {
  margin-right: .3em;
}
.dirty-indicator-dirty.fa-pull-right {
  margin-left: .3em;
}
.dirty-indicator-dirty.pull-left {
  margin-right: .3em;
}
.dirty-indicator-dirty.pull-right {
  margin-left: .3em;
}
.dirty-indicator-clean {
  display: inline-block;
  font: normal normal normal 14px/1 FontAwesome;
  font-size: inherit;
  text-rendering: auto;
  -webkit-font-smoothing: antialiased;
  -moz-osx-font-smoothing: grayscale;
  width: 20px;
}
.dirty-indicator-clean.fa-pull-left {
  margin-right: .3em;
}
.dirty-indicator-clean.fa-pull-right {
  margin-left: .3em;
}
.dirty-indicator-clean.pull-left {
  margin-right: .3em;
}
.dirty-indicator-clean.pull-right {
  margin-left: .3em;
}
.dirty-indicator-clean:before {
  display: inline-block;
  font: normal normal normal 14px/1 FontAwesome;
  font-size: inherit;
  text-rendering: auto;
  -webkit-font-smoothing: antialiased;
  -moz-osx-font-smoothing: grayscale;
  content: "\f00c";
}
.dirty-indicator-clean:before.fa-pull-left {
  margin-right: .3em;
}
.dirty-indicator-clean:before.fa-pull-right {
  margin-left: .3em;
}
.dirty-indicator-clean:before.pull-left {
  margin-right: .3em;
}
.dirty-indicator-clean:before.pull-right {
  margin-left: .3em;
}
#filename {
  font-size: 16pt;
  display: table;
  padding: 0px 5px;
}
#current-mode {
  padding-left: 5px;
  padding-right: 5px;
}
#texteditor-backdrop {
  padding-top: 20px;
  padding-bottom: 20px;
}
@media not print {
  #texteditor-backdrop {
    background-color: #EEE;
  }
}
@media print {
  #texteditor-backdrop #texteditor-container .CodeMirror-gutter,
  #texteditor-backdrop #texteditor-container .CodeMirror-gutters {
    background-color: #fff;
  }
}
@media not print {
  #texteditor-backdrop #texteditor-container .CodeMirror-gutter,
  #texteditor-backdrop #texteditor-container .CodeMirror-gutters {
    background-color: #fff;
  }
}
@media not print {
  #texteditor-backdrop #texteditor-container {
    padding: 0px;
    background-color: #fff;
    -webkit-box-shadow: 0px 0px 12px 1px rgba(87, 87, 87, 0.2);
    box-shadow: 0px 0px 12px 1px rgba(87, 87, 87, 0.2);
  }
}
.CodeMirror-dialog {
  background-color: #fff;
}
/*!
*
* IPython notebook
*
*/
/* CSS font colors for translated ANSI escape sequences */
/* The color values are a mix of
   http://www.xcolors.net/dl/baskerville-ivorylight and
   http://www.xcolors.net/dl/euphrasia */
.ansi-black-fg {
  color: #3E424D;
}
.ansi-black-bg {
  background-color: #3E424D;
}
.ansi-black-intense-fg {
  color: #282C36;
}
.ansi-black-intense-bg {
  background-color: #282C36;
}
.ansi-red-fg {
  color: #E75C58;
}
.ansi-red-bg {
  background-color: #E75C58;
}
.ansi-red-intense-fg {
  color: #B22B31;
}
.ansi-red-intense-bg {
  background-color: #B22B31;
}
.ansi-green-fg {
  color: #00A250;
}
.ansi-green-bg {
  background-color: #00A250;
}
.ansi-green-intense-fg {
  color: #007427;
}
.ansi-green-intense-bg {
  background-color: #007427;
}
.ansi-yellow-fg {
  color: #DDB62B;
}
.ansi-yellow-bg {
  background-color: #DDB62B;
}
.ansi-yellow-intense-fg {
  color: #B27D12;
}
.ansi-yellow-intense-bg {
  background-color: #B27D12;
}
.ansi-blue-fg {
  color: #208FFB;
}
.ansi-blue-bg {
  background-color: #208FFB;
}
.ansi-blue-intense-fg {
  color: #0065CA;
}
.ansi-blue-intense-bg {
  background-color: #0065CA;
}
.ansi-magenta-fg {
  color: #D160C4;
}
.ansi-magenta-bg {
  background-color: #D160C4;
}
.ansi-magenta-intense-fg {
  color: #A03196;
}
.ansi-magenta-intense-bg {
  background-color: #A03196;
}
.ansi-cyan-fg {
  color: #60C6C8;
}
.ansi-cyan-bg {
  background-color: #60C6C8;
}
.ansi-cyan-intense-fg {
  color: #258F8F;
}
.ansi-cyan-intense-bg {
  background-color: #258F8F;
}
.ansi-white-fg {
  color: #C5C1B4;
}
.ansi-white-bg {
  background-color: #C5C1B4;
}
.ansi-white-intense-fg {
  color: #A1A6B2;
}
.ansi-white-intense-bg {
  background-color: #A1A6B2;
}
.ansi-default-inverse-fg {
  color: #FFFFFF;
}
.ansi-default-inverse-bg {
  background-color: #000000;
}
.ansi-bold {
  font-weight: bold;
}
.ansi-underline {
  text-decoration: underline;
}
/* The following styles are deprecated an will be removed in a future version */
.ansibold {
  font-weight: bold;
}
.ansi-inverse {
  outline: 0.5px dotted;
}
/* use dark versions for foreground, to improve visibility */
.ansiblack {
  color: black;
}
.ansired {
  color: darkred;
}
.ansigreen {
  color: darkgreen;
}
.ansiyellow {
  color: #c4a000;
}
.ansiblue {
  color: darkblue;
}
.ansipurple {
  color: darkviolet;
}
.ansicyan {
  color: steelblue;
}
.ansigray {
  color: gray;
}
/* and light for background, for the same reason */
.ansibgblack {
  background-color: black;
}
.ansibgred {
  background-color: red;
}
.ansibggreen {
  background-color: green;
}
.ansibgyellow {
  background-color: yellow;
}
.ansibgblue {
  background-color: blue;
}
.ansibgpurple {
  background-color: magenta;
}
.ansibgcyan {
  background-color: cyan;
}
.ansibggray {
  background-color: gray;
}
div.cell {
  /* Old browsers */
  display: -webkit-box;
  -webkit-box-orient: vertical;
  -webkit-box-align: stretch;
  display: -moz-box;
  -moz-box-orient: vertical;
  -moz-box-align: stretch;
  display: box;
  box-orient: vertical;
  box-align: stretch;
  /* Modern browsers */
  display: flex;
  flex-direction: column;
  align-items: stretch;
  border-radius: 2px;
  box-sizing: border-box;
  -moz-box-sizing: border-box;
  -webkit-box-sizing: border-box;
  border-width: 1px;
  border-style: solid;
  border-color: transparent;
  width: 100%;
  padding: 5px;
  /* This acts as a spacer between cells, that is outside the border */
  margin: 0px;
  outline: none;
  position: relative;
  overflow: visible;
}
div.cell:before {
  position: absolute;
  display: block;
  top: -1px;
  left: -1px;
  width: 5px;
  height: calc(100% +  2px);
  content: '';
  background: transparent;
}
div.cell.jupyter-soft-selected {
  border-left-color: #E3F2FD;
  border-left-width: 1px;
  padding-left: 5px;
  border-right-color: #E3F2FD;
  border-right-width: 1px;
  background: #E3F2FD;
}
@media print {
  div.cell.jupyter-soft-selected {
    border-color: transparent;
  }
}
div.cell.selected,
div.cell.selected.jupyter-soft-selected {
  border-color: #ababab;
}
div.cell.selected:before,
div.cell.selected.jupyter-soft-selected:before {
  position: absolute;
  display: block;
  top: -1px;
  left: -1px;
  width: 5px;
  height: calc(100% +  2px);
  content: '';
  background: #42A5F5;
}
@media print {
  div.cell.selected,
  div.cell.selected.jupyter-soft-selected {
    border-color: transparent;
  }
}
.edit_mode div.cell.selected {
  border-color: #66BB6A;
}
.edit_mode div.cell.selected:before {
  position: absolute;
  display: block;
  top: -1px;
  left: -1px;
  width: 5px;
  height: calc(100% +  2px);
  content: '';
  background: #66BB6A;
}
@media print {
  .edit_mode div.cell.selected {
    border-color: transparent;
  }
}
.prompt {
  /* This needs to be wide enough for 3 digit prompt numbers: In[100]: */
  min-width: 14ex;
  /* This padding is tuned to match the padding on the CodeMirror editor. */
  padding: 0.4em;
  margin: 0px;
  font-family: monospace;
  text-align: right;
  /* This has to match that of the the CodeMirror class line-height below */
  line-height: 1.21429em;
  /* Don't highlight prompt number selection */
  -webkit-touch-callout: none;
  -webkit-user-select: none;
  -khtml-user-select: none;
  -moz-user-select: none;
  -ms-user-select: none;
  user-select: none;
  /* Use default cursor */
  cursor: default;
}
@media (max-width: 540px) {
  .prompt {
    text-align: left;
  }
}
div.inner_cell {
  min-width: 0;
  /* Old browsers */
  display: -webkit-box;
  -webkit-box-orient: vertical;
  -webkit-box-align: stretch;
  display: -moz-box;
  -moz-box-orient: vertical;
  -moz-box-align: stretch;
  display: box;
  box-orient: vertical;
  box-align: stretch;
  /* Modern browsers */
  display: flex;
  flex-direction: column;
  align-items: stretch;
  /* Old browsers */
  -webkit-box-flex: 1;
  -moz-box-flex: 1;
  box-flex: 1;
  /* Modern browsers */
  flex: 1;
}
/* input_area and input_prompt must match in top border and margin for alignment */
div.input_area {
  border: 1px solid #cfcfcf;
  border-radius: 2px;
  background: #f7f7f7;
  line-height: 1.21429em;
}
/* This is needed so that empty prompt areas can collapse to zero height when there
   is no content in the output_subarea and the prompt. The main purpose of this is
   to make sure that empty JavaScript output_subareas have no height. */
div.prompt:empty {
  padding-top: 0;
  padding-bottom: 0;
}
div.unrecognized_cell {
  padding: 5px 5px 5px 0px;
  /* Old browsers */
  display: -webkit-box;
  -webkit-box-orient: horizontal;
  -webkit-box-align: stretch;
  display: -moz-box;
  -moz-box-orient: horizontal;
  -moz-box-align: stretch;
  display: box;
  box-orient: horizontal;
  box-align: stretch;
  /* Modern browsers */
  display: flex;
  flex-direction: row;
  align-items: stretch;
}
div.unrecognized_cell .inner_cell {
  border-radius: 2px;
  padding: 5px;
  font-weight: bold;
  color: red;
  border: 1px solid #cfcfcf;
  background: #eaeaea;
}
div.unrecognized_cell .inner_cell a {
  color: inherit;
  text-decoration: none;
}
div.unrecognized_cell .inner_cell a:hover {
  color: inherit;
  text-decoration: none;
}
@media (max-width: 540px) {
  div.unrecognized_cell > div.prompt {
    display: none;
  }
}
div.code_cell {
  /* avoid page breaking on code cells when printing */
}
@media print {
  div.code_cell {
    page-break-inside: avoid;
  }
}
/* any special styling for code cells that are currently running goes here */
div.input {
  page-break-inside: avoid;
  /* Old browsers */
  display: -webkit-box;
  -webkit-box-orient: horizontal;
  -webkit-box-align: stretch;
  display: -moz-box;
  -moz-box-orient: horizontal;
  -moz-box-align: stretch;
  display: box;
  box-orient: horizontal;
  box-align: stretch;
  /* Modern browsers */
  display: flex;
  flex-direction: row;
  align-items: stretch;
}
@media (max-width: 540px) {
  div.input {
    /* Old browsers */
    display: -webkit-box;
    -webkit-box-orient: vertical;
    -webkit-box-align: stretch;
    display: -moz-box;
    -moz-box-orient: vertical;
    -moz-box-align: stretch;
    display: box;
    box-orient: vertical;
    box-align: stretch;
    /* Modern browsers */
    display: flex;
    flex-direction: column;
    align-items: stretch;
  }
}
/* input_area and input_prompt must match in top border and margin for alignment */
div.input_prompt {
  color: #303F9F;
  border-top: 1px solid transparent;
}
div.input_area > div.highlight {
  margin: 0.4em;
  border: none;
  padding: 0px;
  background-color: transparent;
}
div.input_area > div.highlight > pre {
  margin: 0px;
  border: none;
  padding: 0px;
  background-color: transparent;
}
/* The following gets added to the <head> if it is detected that the user has a
 * monospace font with inconsistent normal/bold/italic height.  See
 * notebookmain.js.  Such fonts will have keywords vertically offset with
 * respect to the rest of the text.  The user should select a better font.
 * See: https://github.com/ipython/ipython/issues/1503
 *
 * .CodeMirror span {
 *      vertical-align: bottom;
 * }
 */
.CodeMirror {
  line-height: 1.21429em;
  /* Changed from 1em to our global default */
  font-size: 14px;
  height: auto;
  /* Changed to auto to autogrow */
  background: none;
  /* Changed from white to allow our bg to show through */
}
.CodeMirror-scroll {
  /*  The CodeMirror docs are a bit fuzzy on if overflow-y should be hidden or visible.*/
  /*  We have found that if it is visible, vertical scrollbars appear with font size changes.*/
  overflow-y: hidden;
  overflow-x: auto;
}
.CodeMirror-lines {
  /* In CM2, this used to be 0.4em, but in CM3 it went to 4px. We need the em value because */
  /* we have set a different line-height and want this to scale with that. */
  /* Note that this should set vertical padding only, since CodeMirror assumes
       that horizontal padding will be set on CodeMirror pre */
  padding: 0.4em 0;
}
.CodeMirror-linenumber {
  padding: 0 8px 0 4px;
}
.CodeMirror-gutters {
  border-bottom-left-radius: 2px;
  border-top-left-radius: 2px;
}
.CodeMirror pre {
  /* In CM3 this went to 4px from 0 in CM2. This sets horizontal padding only,
    use .CodeMirror-lines for vertical */
  padding: 0 0.4em;
  border: 0;
  border-radius: 0;
}
.CodeMirror-cursor {
  border-left: 1.4px solid black;
}
@media screen and (min-width: 2138px) and (max-width: 4319px) {
  .CodeMirror-cursor {
    border-left: 2px solid black;
  }
}
@media screen and (min-width: 4320px) {
  .CodeMirror-cursor {
    border-left: 4px solid black;
  }
}
/*

Original style from softwaremaniacs.org (c) Ivan Sagalaev <Maniac@SoftwareManiacs.Org>
Adapted from GitHub theme

*/
.highlight-base {
  color: #000;
}
.highlight-variable {
  color: #000;
}
.highlight-variable-2 {
  color: #1a1a1a;
}
.highlight-variable-3 {
  color: #333333;
}
.highlight-string {
  color: #BA2121;
}
.highlight-comment {
  color: #408080;
  font-style: italic;
}
.highlight-number {
  color: #080;
}
.highlight-atom {
  color: #88F;
}
.highlight-keyword {
  color: #008000;
  font-weight: bold;
}
.highlight-builtin {
  color: #008000;
}
.highlight-error {
  color: #f00;
}
.highlight-operator {
  color: #AA22FF;
  font-weight: bold;
}
.highlight-meta {
  color: #AA22FF;
}
/* previously not defined, copying from default codemirror */
.highlight-def {
  color: #00f;
}
.highlight-string-2 {
  color: #f50;
}
.highlight-qualifier {
  color: #555;
}
.highlight-bracket {
  color: #997;
}
.highlight-tag {
  color: #170;
}
.highlight-attribute {
  color: #00c;
}
.highlight-header {
  color: blue;
}
.highlight-quote {
  color: #090;
}
.highlight-link {
  color: #00c;
}
/* apply the same style to codemirror */
.cm-s-ipython span.cm-keyword {
  color: #008000;
  font-weight: bold;
}
.cm-s-ipython span.cm-atom {
  color: #88F;
}
.cm-s-ipython span.cm-number {
  color: #080;
}
.cm-s-ipython span.cm-def {
  color: #00f;
}
.cm-s-ipython span.cm-variable {
  color: #000;
}
.cm-s-ipython span.cm-operator {
  color: #AA22FF;
  font-weight: bold;
}
.cm-s-ipython span.cm-variable-2 {
  color: #1a1a1a;
}
.cm-s-ipython span.cm-variable-3 {
  color: #333333;
}
.cm-s-ipython span.cm-comment {
  color: #408080;
  font-style: italic;
}
.cm-s-ipython span.cm-string {
  color: #BA2121;
}
.cm-s-ipython span.cm-string-2 {
  color: #f50;
}
.cm-s-ipython span.cm-meta {
  color: #AA22FF;
}
.cm-s-ipython span.cm-qualifier {
  color: #555;
}
.cm-s-ipython span.cm-builtin {
  color: #008000;
}
.cm-s-ipython span.cm-bracket {
  color: #997;
}
.cm-s-ipython span.cm-tag {
  color: #170;
}
.cm-s-ipython span.cm-attribute {
  color: #00c;
}
.cm-s-ipython span.cm-header {
  color: blue;
}
.cm-s-ipython span.cm-quote {
  color: #090;
}
.cm-s-ipython span.cm-link {
  color: #00c;
}
.cm-s-ipython span.cm-error {
  color: #f00;
}
.cm-s-ipython span.cm-tab {
  background: url(data:image/png;base64,iVBORw0KGgoAAAANSUhEUgAAADAAAAAMCAYAAAAkuj5RAAAAAXNSR0IArs4c6QAAAGFJREFUSMft1LsRQFAQheHPowAKoACx3IgEKtaEHujDjORSgWTH/ZOdnZOcM/sgk/kFFWY0qV8foQwS4MKBCS3qR6ixBJvElOobYAtivseIE120FaowJPN75GMu8j/LfMwNjh4HUpwg4LUAAAAASUVORK5CYII=);
  background-position: right;
  background-repeat: no-repeat;
}
div.output_wrapper {
  /* this position must be relative to enable descendents to be absolute within it */
  position: relative;
  /* Old browsers */
  display: -webkit-box;
  -webkit-box-orient: vertical;
  -webkit-box-align: stretch;
  display: -moz-box;
  -moz-box-orient: vertical;
  -moz-box-align: stretch;
  display: box;
  box-orient: vertical;
  box-align: stretch;
  /* Modern browsers */
  display: flex;
  flex-direction: column;
  align-items: stretch;
  z-index: 1;
}
/* class for the output area when it should be height-limited */
div.output_scroll {
  /* ideally, this would be max-height, but FF barfs all over that */
  height: 24em;
  /* FF needs this *and the wrapper* to specify full width, or it will shrinkwrap */
  width: 100%;
  overflow: auto;
  border-radius: 2px;
  -webkit-box-shadow: inset 0 2px 8px rgba(0, 0, 0, 0.8);
  box-shadow: inset 0 2px 8px rgba(0, 0, 0, 0.8);
  display: block;
}
/* output div while it is collapsed */
div.output_collapsed {
  margin: 0px;
  padding: 0px;
  /* Old browsers */
  display: -webkit-box;
  -webkit-box-orient: vertical;
  -webkit-box-align: stretch;
  display: -moz-box;
  -moz-box-orient: vertical;
  -moz-box-align: stretch;
  display: box;
  box-orient: vertical;
  box-align: stretch;
  /* Modern browsers */
  display: flex;
  flex-direction: column;
  align-items: stretch;
}
div.out_prompt_overlay {
  height: 100%;
  padding: 0px 0.4em;
  position: absolute;
  border-radius: 2px;
}
div.out_prompt_overlay:hover {
  /* use inner shadow to get border that is computed the same on WebKit/FF */
  -webkit-box-shadow: inset 0 0 1px #000;
  box-shadow: inset 0 0 1px #000;
  background: rgba(240, 240, 240, 0.5);
}
div.output_prompt {
  color: #D84315;
}
/* This class is the outer container of all output sections. */
div.output_area {
  padding: 0px;
  page-break-inside: avoid;
  /* Old browsers */
  display: -webkit-box;
  -webkit-box-orient: horizontal;
  -webkit-box-align: stretch;
  display: -moz-box;
  -moz-box-orient: horizontal;
  -moz-box-align: stretch;
  display: box;
  box-orient: horizontal;
  box-align: stretch;
  /* Modern browsers */
  display: flex;
  flex-direction: row;
  align-items: stretch;
}
div.output_area .MathJax_Display {
  text-align: left !important;
}
div.output_area .rendered_html table {
  margin-left: 0;
  margin-right: 0;
}
div.output_area .rendered_html img {
  margin-left: 0;
  margin-right: 0;
}
div.output_area img,
div.output_area svg {
  max-width: 100%;
  height: auto;
}
div.output_area img.unconfined,
div.output_area svg.unconfined {
  max-width: none;
}
div.output_area .mglyph > img {
  max-width: none;
}
/* This is needed to protect the pre formating from global settings such
   as that of bootstrap */
.output {
  /* Old browsers */
  display: -webkit-box;
  -webkit-box-orient: vertical;
  -webkit-box-align: stretch;
  display: -moz-box;
  -moz-box-orient: vertical;
  -moz-box-align: stretch;
  display: box;
  box-orient: vertical;
  box-align: stretch;
  /* Modern browsers */
  display: flex;
  flex-direction: column;
  align-items: stretch;
}
@media (max-width: 540px) {
  div.output_area {
    /* Old browsers */
    display: -webkit-box;
    -webkit-box-orient: vertical;
    -webkit-box-align: stretch;
    display: -moz-box;
    -moz-box-orient: vertical;
    -moz-box-align: stretch;
    display: box;
    box-orient: vertical;
    box-align: stretch;
    /* Modern browsers */
    display: flex;
    flex-direction: column;
    align-items: stretch;
  }
}
div.output_area pre {
  margin: 0;
  padding: 1px 0 1px 0;
  border: 0;
  vertical-align: baseline;
  color: black;
  background-color: transparent;
  border-radius: 0;
}
/* This class is for the output subarea inside the output_area and after
   the prompt div. */
div.output_subarea {
  overflow-x: auto;
  padding: 0.4em;
  /* Old browsers */
  -webkit-box-flex: 1;
  -moz-box-flex: 1;
  box-flex: 1;
  /* Modern browsers */
  flex: 1;
  max-width: calc(100% - 14ex);
}
div.output_scroll div.output_subarea {
  overflow-x: visible;
}
/* The rest of the output_* classes are for special styling of the different
   output types */
/* all text output has this class: */
div.output_text {
  text-align: left;
  color: #000;
  /* This has to match that of the the CodeMirror class line-height below */
  line-height: 1.21429em;
}
/* stdout/stderr are 'text' as well as 'stream', but execute_result/error are *not* streams */
div.output_stderr {
  background: #fdd;
  /* very light red background for stderr */
}
div.output_latex {
  text-align: left;
}
/* Empty output_javascript divs should have no height */
div.output_javascript:empty {
  padding: 0;
}
.js-error {
  color: darkred;
}
/* raw_input styles */
div.raw_input_container {
  line-height: 1.21429em;
  padding-top: 5px;
}
pre.raw_input_prompt {
  /* nothing needed here. */
}
input.raw_input {
  font-family: monospace;
  font-size: inherit;
  color: inherit;
  width: auto;
  /* make sure input baseline aligns with prompt */
  vertical-align: baseline;
  /* padding + margin = 0.5em between prompt and cursor */
  padding: 0em 0.25em;
  margin: 0em 0.25em;
}
input.raw_input:focus {
  box-shadow: none;
}
p.p-space {
  margin-bottom: 10px;
}
div.output_unrecognized {
  padding: 5px;
  font-weight: bold;
  color: red;
}
div.output_unrecognized a {
  color: inherit;
  text-decoration: none;
}
div.output_unrecognized a:hover {
  color: inherit;
  text-decoration: none;
}
.rendered_html {
  color: #000;
  /* any extras will just be numbers: */
}
.rendered_html em {
  font-style: italic;
}
.rendered_html strong {
  font-weight: bold;
}
.rendered_html u {
  text-decoration: underline;
}
.rendered_html :link {
  text-decoration: underline;
}
.rendered_html :visited {
  text-decoration: underline;
}
.rendered_html h1 {
  font-size: 185.7%;
  margin: 1.08em 0 0 0;
  font-weight: bold;
  line-height: 1.0;
}
.rendered_html h2 {
  font-size: 157.1%;
  margin: 1.27em 0 0 0;
  font-weight: bold;
  line-height: 1.0;
}
.rendered_html h3 {
  font-size: 128.6%;
  margin: 1.55em 0 0 0;
  font-weight: bold;
  line-height: 1.0;
}
.rendered_html h4 {
  font-size: 100%;
  margin: 2em 0 0 0;
  font-weight: bold;
  line-height: 1.0;
}
.rendered_html h5 {
  font-size: 100%;
  margin: 2em 0 0 0;
  font-weight: bold;
  line-height: 1.0;
  font-style: italic;
}
.rendered_html h6 {
  font-size: 100%;
  margin: 2em 0 0 0;
  font-weight: bold;
  line-height: 1.0;
  font-style: italic;
}
.rendered_html h1:first-child {
  margin-top: 0.538em;
}
.rendered_html h2:first-child {
  margin-top: 0.636em;
}
.rendered_html h3:first-child {
  margin-top: 0.777em;
}
.rendered_html h4:first-child {
  margin-top: 1em;
}
.rendered_html h5:first-child {
  margin-top: 1em;
}
.rendered_html h6:first-child {
  margin-top: 1em;
}
.rendered_html ul:not(.list-inline),
.rendered_html ol:not(.list-inline) {
  padding-left: 2em;
}
.rendered_html ul {
  list-style: disc;
}
.rendered_html ul ul {
  list-style: square;
  margin-top: 0;
}
.rendered_html ul ul ul {
  list-style: circle;
}
.rendered_html ol {
  list-style: decimal;
}
.rendered_html ol ol {
  list-style: upper-alpha;
  margin-top: 0;
}
.rendered_html ol ol ol {
  list-style: lower-alpha;
}
.rendered_html ol ol ol ol {
  list-style: lower-roman;
}
.rendered_html ol ol ol ol ol {
  list-style: decimal;
}
.rendered_html * + ul {
  margin-top: 1em;
}
.rendered_html * + ol {
  margin-top: 1em;
}
.rendered_html hr {
  color: black;
  background-color: black;
}
.rendered_html pre {
  margin: 1em 2em;
  padding: 0px;
  background-color: #fff;
}
.rendered_html code {
  background-color: #eff0f1;
}
.rendered_html p code {
  padding: 1px 5px;
}
.rendered_html pre code {
  background-color: #fff;
}
.rendered_html pre,
.rendered_html code {
  border: 0;
  color: #000;
  font-size: 100%;
}
.rendered_html blockquote {
  margin: 1em 2em;
}
.rendered_html table {
  margin-left: auto;
  margin-right: auto;
  border: none;
  border-collapse: collapse;
  border-spacing: 0;
  color: black;
  font-size: 12px;
  table-layout: fixed;
}
.rendered_html thead {
  border-bottom: 1px solid black;
  vertical-align: bottom;
}
.rendered_html tr,
.rendered_html th,
.rendered_html td {
  text-align: right;
  vertical-align: middle;
  padding: 0.5em 0.5em;
  line-height: normal;
  white-space: normal;
  max-width: none;
  border: none;
}
.rendered_html th {
  font-weight: bold;
}
.rendered_html tbody tr:nth-child(odd) {
  background: #f5f5f5;
}
.rendered_html tbody tr:hover {
  background: rgba(66, 165, 245, 0.2);
}
.rendered_html * + table {
  margin-top: 1em;
}
.rendered_html p {
  text-align: left;
}
.rendered_html * + p {
  margin-top: 1em;
}
.rendered_html img {
  display: block;
  margin-left: auto;
  margin-right: auto;
}
.rendered_html * + img {
  margin-top: 1em;
}
.rendered_html img,
.rendered_html svg {
  max-width: 100%;
  height: auto;
}
.rendered_html img.unconfined,
.rendered_html svg.unconfined {
  max-width: none;
}
.rendered_html .alert {
  margin-bottom: initial;
}
.rendered_html * + .alert {
  margin-top: 1em;
}
[dir="rtl"] .rendered_html p {
  text-align: right;
}
div.text_cell {
  /* Old browsers */
  display: -webkit-box;
  -webkit-box-orient: horizontal;
  -webkit-box-align: stretch;
  display: -moz-box;
  -moz-box-orient: horizontal;
  -moz-box-align: stretch;
  display: box;
  box-orient: horizontal;
  box-align: stretch;
  /* Modern browsers */
  display: flex;
  flex-direction: row;
  align-items: stretch;
}
@media (max-width: 540px) {
  div.text_cell > div.prompt {
    display: none;
  }
}
div.text_cell_render {
  /*font-family: "Helvetica Neue", Arial, Helvetica, Geneva, sans-serif;*/
  outline: none;
  resize: none;
  width: inherit;
  border-style: none;
  padding: 0.5em 0.5em 0.5em 0.4em;
  color: #000;
  box-sizing: border-box;
  -moz-box-sizing: border-box;
  -webkit-box-sizing: border-box;
}
a.anchor-link:link {
  text-decoration: none;
  padding: 0px 20px;
  visibility: hidden;
}
h1:hover .anchor-link,
h2:hover .anchor-link,
h3:hover .anchor-link,
h4:hover .anchor-link,
h5:hover .anchor-link,
h6:hover .anchor-link {
  visibility: visible;
}
.text_cell.rendered .input_area {
  display: none;
}
.text_cell.rendered .rendered_html {
  overflow-x: auto;
  overflow-y: hidden;
}
.text_cell.rendered .rendered_html tr,
.text_cell.rendered .rendered_html th,
.text_cell.rendered .rendered_html td {
  max-width: none;
}
.text_cell.unrendered .text_cell_render {
  display: none;
}
.text_cell .dropzone .input_area {
  border: 2px dashed #bababa;
  margin: -1px;
}
.cm-header-1,
.cm-header-2,
.cm-header-3,
.cm-header-4,
.cm-header-5,
.cm-header-6 {
  font-weight: bold;
  font-family: "Helvetica Neue", Helvetica, Arial, sans-serif;
}
.cm-header-1 {
  font-size: 185.7%;
}
.cm-header-2 {
  font-size: 157.1%;
}
.cm-header-3 {
  font-size: 128.6%;
}
.cm-header-4 {
  font-size: 110%;
}
.cm-header-5 {
  font-size: 100%;
  font-style: italic;
}
.cm-header-6 {
  font-size: 100%;
  font-style: italic;
}
/*!
*
* IPython notebook webapp
*
*/
@media (max-width: 767px) {
  .notebook_app {
    padding-left: 0px;
    padding-right: 0px;
  }
}
#ipython-main-app {
  box-sizing: border-box;
  -moz-box-sizing: border-box;
  -webkit-box-sizing: border-box;
  height: 100%;
}
div#notebook_panel {
  margin: 0px;
  padding: 0px;
  box-sizing: border-box;
  -moz-box-sizing: border-box;
  -webkit-box-sizing: border-box;
  height: 100%;
}
div#notebook {
  font-size: 14px;
  line-height: 20px;
  overflow-y: hidden;
  overflow-x: auto;
  width: 100%;
  /* This spaces the page away from the edge of the notebook area */
  padding-top: 20px;
  margin: 0px;
  outline: none;
  box-sizing: border-box;
  -moz-box-sizing: border-box;
  -webkit-box-sizing: border-box;
  min-height: 100%;
}
@media not print {
  #notebook-container {
    padding: 15px;
    background-color: #fff;
    min-height: 0;
    -webkit-box-shadow: 0px 0px 12px 1px rgba(87, 87, 87, 0.2);
    box-shadow: 0px 0px 12px 1px rgba(87, 87, 87, 0.2);
  }
}
@media print {
  #notebook-container {
    width: 100%;
  }
}
div.ui-widget-content {
  border: 1px solid #ababab;
  outline: none;
}
pre.dialog {
  background-color: #f7f7f7;
  border: 1px solid #ddd;
  border-radius: 2px;
  padding: 0.4em;
  padding-left: 2em;
}
p.dialog {
  padding: 0.2em;
}
/* Word-wrap output correctly.  This is the CSS3 spelling, though Firefox seems
   to not honor it correctly.  Webkit browsers (Chrome, rekonq, Safari) do.
 */
pre,
code,
kbd,
samp {
  white-space: pre-wrap;
}
#fonttest {
  font-family: monospace;
}
p {
  margin-bottom: 0;
}
.end_space {
  min-height: 100px;
  transition: height .2s ease;
}
.notebook_app > #header {
  -webkit-box-shadow: 0px 0px 12px 1px rgba(87, 87, 87, 0.2);
  box-shadow: 0px 0px 12px 1px rgba(87, 87, 87, 0.2);
}
@media not print {
  .notebook_app {
    background-color: #EEE;
  }
}
kbd {
  border-style: solid;
  border-width: 1px;
  box-shadow: none;
  margin: 2px;
  padding-left: 2px;
  padding-right: 2px;
  padding-top: 1px;
  padding-bottom: 1px;
}
.jupyter-keybindings {
  padding: 1px;
  line-height: 24px;
  border-bottom: 1px solid gray;
}
.jupyter-keybindings input {
  margin: 0;
  padding: 0;
  border: none;
}
.jupyter-keybindings i {
  padding: 6px;
}
.well code {
  background-color: #ffffff;
  border-color: #ababab;
  border-width: 1px;
  border-style: solid;
  padding: 2px;
  padding-top: 1px;
  padding-bottom: 1px;
}
/* CSS for the cell toolbar */
.celltoolbar {
  border: thin solid #CFCFCF;
  border-bottom: none;
  background: #EEE;
  border-radius: 2px 2px 0px 0px;
  width: 100%;
  height: 29px;
  padding-right: 4px;
  /* Old browsers */
  display: -webkit-box;
  -webkit-box-orient: horizontal;
  -webkit-box-align: stretch;
  display: -moz-box;
  -moz-box-orient: horizontal;
  -moz-box-align: stretch;
  display: box;
  box-orient: horizontal;
  box-align: stretch;
  /* Modern browsers */
  display: flex;
  flex-direction: row;
  align-items: stretch;
  /* Old browsers */
  -webkit-box-pack: end;
  -moz-box-pack: end;
  box-pack: end;
  /* Modern browsers */
  justify-content: flex-end;
  display: -webkit-flex;
}
@media print {
  .celltoolbar {
    display: none;
  }
}
.ctb_hideshow {
  display: none;
  vertical-align: bottom;
}
/* ctb_show is added to the ctb_hideshow div to show the cell toolbar.
   Cell toolbars are only shown when the ctb_global_show class is also set.
*/
.ctb_global_show .ctb_show.ctb_hideshow {
  display: block;
}
.ctb_global_show .ctb_show + .input_area,
.ctb_global_show .ctb_show + div.text_cell_input,
.ctb_global_show .ctb_show ~ div.text_cell_render {
  border-top-right-radius: 0px;
  border-top-left-radius: 0px;
}
.ctb_global_show .ctb_show ~ div.text_cell_render {
  border: 1px solid #cfcfcf;
}
.celltoolbar {
  font-size: 87%;
  padding-top: 3px;
}
.celltoolbar select {
  display: block;
  width: 100%;
  height: 32px;
  padding: 6px 12px;
  font-size: 13px;
  line-height: 1.42857143;
  color: #555555;
  background-color: #fff;
  background-image: none;
  border: 1px solid #ccc;
  border-radius: 2px;
  -webkit-box-shadow: inset 0 1px 1px rgba(0, 0, 0, 0.075);
  box-shadow: inset 0 1px 1px rgba(0, 0, 0, 0.075);
  -webkit-transition: border-color ease-in-out .15s, box-shadow ease-in-out .15s;
  -o-transition: border-color ease-in-out .15s, box-shadow ease-in-out .15s;
  transition: border-color ease-in-out .15s, box-shadow ease-in-out .15s;
  height: 30px;
  padding: 5px 10px;
  font-size: 12px;
  line-height: 1.5;
  border-radius: 1px;
  width: inherit;
  font-size: inherit;
  height: 22px;
  padding: 0px;
  display: inline-block;
}
.celltoolbar select:focus {
  border-color: #66afe9;
  outline: 0;
  -webkit-box-shadow: inset 0 1px 1px rgba(0,0,0,.075), 0 0 8px rgba(102, 175, 233, 0.6);
  box-shadow: inset 0 1px 1px rgba(0,0,0,.075), 0 0 8px rgba(102, 175, 233, 0.6);
}
.celltoolbar select::-moz-placeholder {
  color: #999;
  opacity: 1;
}
.celltoolbar select:-ms-input-placeholder {
  color: #999;
}
.celltoolbar select::-webkit-input-placeholder {
  color: #999;
}
.celltoolbar select::-ms-expand {
  border: 0;
  background-color: transparent;
}
.celltoolbar select[disabled],
.celltoolbar select[readonly],
fieldset[disabled] .celltoolbar select {
  background-color: #eeeeee;
  opacity: 1;
}
.celltoolbar select[disabled],
fieldset[disabled] .celltoolbar select {
  cursor: not-allowed;
}
textarea.celltoolbar select {
  height: auto;
}
select.celltoolbar select {
  height: 30px;
  line-height: 30px;
}
textarea.celltoolbar select,
select[multiple].celltoolbar select {
  height: auto;
}
.celltoolbar label {
  margin-left: 5px;
  margin-right: 5px;
}
.tags_button_container {
  width: 100%;
  display: flex;
}
.tag-container {
  display: flex;
  flex-direction: row;
  flex-grow: 1;
  overflow: hidden;
  position: relative;
}
.tag-container > * {
  margin: 0 4px;
}
.remove-tag-btn {
  margin-left: 4px;
}
.tags-input {
  display: flex;
}
.cell-tag:last-child:after {
  content: "";
  position: absolute;
  right: 0;
  width: 40px;
  height: 100%;
  /* Fade to background color of cell toolbar */
  background: linear-gradient(to right, rgba(0, 0, 0, 0), #EEE);
}
.tags-input > * {
  margin-left: 4px;
}
.cell-tag,
.tags-input input,
.tags-input button {
  display: block;
  width: 100%;
  height: 32px;
  padding: 6px 12px;
  font-size: 13px;
  line-height: 1.42857143;
  color: #555555;
  background-color: #fff;
  background-image: none;
  border: 1px solid #ccc;
  border-radius: 2px;
  -webkit-box-shadow: inset 0 1px 1px rgba(0, 0, 0, 0.075);
  box-shadow: inset 0 1px 1px rgba(0, 0, 0, 0.075);
  -webkit-transition: border-color ease-in-out .15s, box-shadow ease-in-out .15s;
  -o-transition: border-color ease-in-out .15s, box-shadow ease-in-out .15s;
  transition: border-color ease-in-out .15s, box-shadow ease-in-out .15s;
  height: 30px;
  padding: 5px 10px;
  font-size: 12px;
  line-height: 1.5;
  border-radius: 1px;
  box-shadow: none;
  width: inherit;
  font-size: inherit;
  height: 22px;
  line-height: 22px;
  padding: 0px 4px;
  display: inline-block;
}
.cell-tag:focus,
.tags-input input:focus,
.tags-input button:focus {
  border-color: #66afe9;
  outline: 0;
  -webkit-box-shadow: inset 0 1px 1px rgba(0,0,0,.075), 0 0 8px rgba(102, 175, 233, 0.6);
  box-shadow: inset 0 1px 1px rgba(0,0,0,.075), 0 0 8px rgba(102, 175, 233, 0.6);
}
.cell-tag::-moz-placeholder,
.tags-input input::-moz-placeholder,
.tags-input button::-moz-placeholder {
  color: #999;
  opacity: 1;
}
.cell-tag:-ms-input-placeholder,
.tags-input input:-ms-input-placeholder,
.tags-input button:-ms-input-placeholder {
  color: #999;
}
.cell-tag::-webkit-input-placeholder,
.tags-input input::-webkit-input-placeholder,
.tags-input button::-webkit-input-placeholder {
  color: #999;
}
.cell-tag::-ms-expand,
.tags-input input::-ms-expand,
.tags-input button::-ms-expand {
  border: 0;
  background-color: transparent;
}
.cell-tag[disabled],
.tags-input input[disabled],
.tags-input button[disabled],
.cell-tag[readonly],
.tags-input input[readonly],
.tags-input button[readonly],
fieldset[disabled] .cell-tag,
fieldset[disabled] .tags-input input,
fieldset[disabled] .tags-input button {
  background-color: #eeeeee;
  opacity: 1;
}
.cell-tag[disabled],
.tags-input input[disabled],
.tags-input button[disabled],
fieldset[disabled] .cell-tag,
fieldset[disabled] .tags-input input,
fieldset[disabled] .tags-input button {
  cursor: not-allowed;
}
textarea.cell-tag,
textarea.tags-input input,
textarea.tags-input button {
  height: auto;
}
select.cell-tag,
select.tags-input input,
select.tags-input button {
  height: 30px;
  line-height: 30px;
}
textarea.cell-tag,
textarea.tags-input input,
textarea.tags-input button,
select[multiple].cell-tag,
select[multiple].tags-input input,
select[multiple].tags-input button {
  height: auto;
}
.cell-tag,
.tags-input button {
  padding: 0px 4px;
}
.cell-tag {
  background-color: #fff;
  white-space: nowrap;
}
.tags-input input[type=text]:focus {
  outline: none;
  box-shadow: none;
  border-color: #ccc;
}
.completions {
  position: absolute;
  z-index: 110;
  overflow: hidden;
  border: 1px solid #ababab;
  border-radius: 2px;
  -webkit-box-shadow: 0px 6px 10px -1px #adadad;
  box-shadow: 0px 6px 10px -1px #adadad;
  line-height: 1;
}
.completions select {
  background: white;
  outline: none;
  border: none;
  padding: 0px;
  margin: 0px;
  overflow: auto;
  font-family: monospace;
  font-size: 110%;
  color: #000;
  width: auto;
}
.completions select option.context {
  color: #286090;
}
#kernel_logo_widget .current_kernel_logo {
  display: none;
  margin-top: -1px;
  margin-bottom: -1px;
  width: 32px;
  height: 32px;
}
[dir="rtl"] #kernel_logo_widget {
  float: left !important;
  float: left;
}
.modal .modal-body .move-path {
  display: flex;
  flex-direction: row;
  justify-content: space;
  align-items: center;
}
.modal .modal-body .move-path .server-root {
  padding-right: 20px;
}
.modal .modal-body .move-path .path-input {
  flex: 1;
}
#menubar {
  box-sizing: border-box;
  -moz-box-sizing: border-box;
  -webkit-box-sizing: border-box;
  margin-top: 1px;
}
#menubar .navbar {
  border-top: 1px;
  border-radius: 0px 0px 2px 2px;
  margin-bottom: 0px;
}
#menubar .navbar-toggle {
  float: left;
  padding-top: 7px;
  padding-bottom: 7px;
  border: none;
}
#menubar .navbar-collapse {
  clear: left;
}
[dir="rtl"] #menubar .navbar-toggle {
  float: right;
}
[dir="rtl"] #menubar .navbar-collapse {
  clear: right;
}
[dir="rtl"] #menubar .navbar-nav {
  float: right;
}
[dir="rtl"] #menubar .nav {
  padding-right: 0px;
}
[dir="rtl"] #menubar .navbar-nav > li {
  float: right;
}
[dir="rtl"] #menubar .navbar-right {
  float: left !important;
}
[dir="rtl"] ul.dropdown-menu {
  text-align: right;
  left: auto;
}
[dir="rtl"] ul#new-menu.dropdown-menu {
  right: auto;
  left: 0;
}
.nav-wrapper {
  border-bottom: 1px solid #e7e7e7;
}
i.menu-icon {
  padding-top: 4px;
}
[dir="rtl"] i.menu-icon.pull-right {
  float: left !important;
  float: left;
}
ul#help_menu li a {
  overflow: hidden;
  padding-right: 2.2em;
}
ul#help_menu li a i {
  margin-right: -1.2em;
}
[dir="rtl"] ul#help_menu li a {
  padding-left: 2.2em;
}
[dir="rtl"] ul#help_menu li a i {
  margin-right: 0;
  margin-left: -1.2em;
}
[dir="rtl"] ul#help_menu li a i.pull-right {
  float: left !important;
  float: left;
}
.dropdown-submenu {
  position: relative;
}
.dropdown-submenu > .dropdown-menu {
  top: 0;
  left: 100%;
  margin-top: -6px;
  margin-left: -1px;
}
[dir="rtl"] .dropdown-submenu > .dropdown-menu {
  right: 100%;
  margin-right: -1px;
}
.dropdown-submenu:hover > .dropdown-menu {
  display: block;
}
.dropdown-submenu > a:after {
  display: inline-block;
  font: normal normal normal 14px/1 FontAwesome;
  font-size: inherit;
  text-rendering: auto;
  -webkit-font-smoothing: antialiased;
  -moz-osx-font-smoothing: grayscale;
  display: block;
  content: "\f0da";
  float: right;
  color: #333333;
  margin-top: 2px;
  margin-right: -10px;
}
.dropdown-submenu > a:after.fa-pull-left {
  margin-right: .3em;
}
.dropdown-submenu > a:after.fa-pull-right {
  margin-left: .3em;
}
.dropdown-submenu > a:after.pull-left {
  margin-right: .3em;
}
.dropdown-submenu > a:after.pull-right {
  margin-left: .3em;
}
[dir="rtl"] .dropdown-submenu > a:after {
  float: left;
  content: "\f0d9";
  margin-right: 0;
  margin-left: -10px;
}
.dropdown-submenu:hover > a:after {
  color: #262626;
}
.dropdown-submenu.pull-left {
  float: none;
}
.dropdown-submenu.pull-left > .dropdown-menu {
  left: -100%;
  margin-left: 10px;
}
#notification_area {
  float: right !important;
  float: right;
  z-index: 10;
}
[dir="rtl"] #notification_area {
  float: left !important;
  float: left;
}
.indicator_area {
  float: right !important;
  float: right;
  color: #777;
  margin-left: 5px;
  margin-right: 5px;
  width: 11px;
  z-index: 10;
  text-align: center;
  width: auto;
}
[dir="rtl"] .indicator_area {
  float: left !important;
  float: left;
}
#kernel_indicator {
  float: right !important;
  float: right;
  color: #777;
  margin-left: 5px;
  margin-right: 5px;
  width: 11px;
  z-index: 10;
  text-align: center;
  width: auto;
  border-left: 1px solid;
}
#kernel_indicator .kernel_indicator_name {
  padding-left: 5px;
  padding-right: 5px;
}
[dir="rtl"] #kernel_indicator {
  float: left !important;
  float: left;
  border-left: 0;
  border-right: 1px solid;
}
#modal_indicator {
  float: right !important;
  float: right;
  color: #777;
  margin-left: 5px;
  margin-right: 5px;
  width: 11px;
  z-index: 10;
  text-align: center;
  width: auto;
}
[dir="rtl"] #modal_indicator {
  float: left !important;
  float: left;
}
#readonly-indicator {
  float: right !important;
  float: right;
  color: #777;
  margin-left: 5px;
  margin-right: 5px;
  width: 11px;
  z-index: 10;
  text-align: center;
  width: auto;
  margin-top: 2px;
  margin-bottom: 0px;
  margin-left: 0px;
  margin-right: 0px;
  display: none;
}
.modal_indicator:before {
  width: 1.28571429em;
  text-align: center;
}
.edit_mode .modal_indicator:before {
  display: inline-block;
  font: normal normal normal 14px/1 FontAwesome;
  font-size: inherit;
  text-rendering: auto;
  -webkit-font-smoothing: antialiased;
  -moz-osx-font-smoothing: grayscale;
  content: "\f040";
}
.edit_mode .modal_indicator:before.fa-pull-left {
  margin-right: .3em;
}
.edit_mode .modal_indicator:before.fa-pull-right {
  margin-left: .3em;
}
.edit_mode .modal_indicator:before.pull-left {
  margin-right: .3em;
}
.edit_mode .modal_indicator:before.pull-right {
  margin-left: .3em;
}
.command_mode .modal_indicator:before {
  display: inline-block;
  font: normal normal normal 14px/1 FontAwesome;
  font-size: inherit;
  text-rendering: auto;
  -webkit-font-smoothing: antialiased;
  -moz-osx-font-smoothing: grayscale;
  content: ' ';
}
.command_mode .modal_indicator:before.fa-pull-left {
  margin-right: .3em;
}
.command_mode .modal_indicator:before.fa-pull-right {
  margin-left: .3em;
}
.command_mode .modal_indicator:before.pull-left {
  margin-right: .3em;
}
.command_mode .modal_indicator:before.pull-right {
  margin-left: .3em;
}
.kernel_idle_icon:before {
  display: inline-block;
  font: normal normal normal 14px/1 FontAwesome;
  font-size: inherit;
  text-rendering: auto;
  -webkit-font-smoothing: antialiased;
  -moz-osx-font-smoothing: grayscale;
  content: "\f10c";
}
.kernel_idle_icon:before.fa-pull-left {
  margin-right: .3em;
}
.kernel_idle_icon:before.fa-pull-right {
  margin-left: .3em;
}
.kernel_idle_icon:before.pull-left {
  margin-right: .3em;
}
.kernel_idle_icon:before.pull-right {
  margin-left: .3em;
}
.kernel_busy_icon:before {
  display: inline-block;
  font: normal normal normal 14px/1 FontAwesome;
  font-size: inherit;
  text-rendering: auto;
  -webkit-font-smoothing: antialiased;
  -moz-osx-font-smoothing: grayscale;
  content: "\f111";
}
.kernel_busy_icon:before.fa-pull-left {
  margin-right: .3em;
}
.kernel_busy_icon:before.fa-pull-right {
  margin-left: .3em;
}
.kernel_busy_icon:before.pull-left {
  margin-right: .3em;
}
.kernel_busy_icon:before.pull-right {
  margin-left: .3em;
}
.kernel_dead_icon:before {
  display: inline-block;
  font: normal normal normal 14px/1 FontAwesome;
  font-size: inherit;
  text-rendering: auto;
  -webkit-font-smoothing: antialiased;
  -moz-osx-font-smoothing: grayscale;
  content: "\f1e2";
}
.kernel_dead_icon:before.fa-pull-left {
  margin-right: .3em;
}
.kernel_dead_icon:before.fa-pull-right {
  margin-left: .3em;
}
.kernel_dead_icon:before.pull-left {
  margin-right: .3em;
}
.kernel_dead_icon:before.pull-right {
  margin-left: .3em;
}
.kernel_disconnected_icon:before {
  display: inline-block;
  font: normal normal normal 14px/1 FontAwesome;
  font-size: inherit;
  text-rendering: auto;
  -webkit-font-smoothing: antialiased;
  -moz-osx-font-smoothing: grayscale;
  content: "\f127";
}
.kernel_disconnected_icon:before.fa-pull-left {
  margin-right: .3em;
}
.kernel_disconnected_icon:before.fa-pull-right {
  margin-left: .3em;
}
.kernel_disconnected_icon:before.pull-left {
  margin-right: .3em;
}
.kernel_disconnected_icon:before.pull-right {
  margin-left: .3em;
}
.notification_widget {
  color: #777;
  z-index: 10;
  background: rgba(240, 240, 240, 0.5);
  margin-right: 4px;
  color: #333;
  background-color: #fff;
  border-color: #ccc;
}
.notification_widget:focus,
.notification_widget.focus {
  color: #333;
  background-color: #e6e6e6;
  border-color: #8c8c8c;
}
.notification_widget:hover {
  color: #333;
  background-color: #e6e6e6;
  border-color: #adadad;
}
.notification_widget:active,
.notification_widget.active,
.open > .dropdown-toggle.notification_widget {
  color: #333;
  background-color: #e6e6e6;
  border-color: #adadad;
}
.notification_widget:active:hover,
.notification_widget.active:hover,
.open > .dropdown-toggle.notification_widget:hover,
.notification_widget:active:focus,
.notification_widget.active:focus,
.open > .dropdown-toggle.notification_widget:focus,
.notification_widget:active.focus,
.notification_widget.active.focus,
.open > .dropdown-toggle.notification_widget.focus {
  color: #333;
  background-color: #d4d4d4;
  border-color: #8c8c8c;
}
.notification_widget:active,
.notification_widget.active,
.open > .dropdown-toggle.notification_widget {
  background-image: none;
}
.notification_widget.disabled:hover,
.notification_widget[disabled]:hover,
fieldset[disabled] .notification_widget:hover,
.notification_widget.disabled:focus,
.notification_widget[disabled]:focus,
fieldset[disabled] .notification_widget:focus,
.notification_widget.disabled.focus,
.notification_widget[disabled].focus,
fieldset[disabled] .notification_widget.focus {
  background-color: #fff;
  border-color: #ccc;
}
.notification_widget .badge {
  color: #fff;
  background-color: #333;
}
.notification_widget.warning {
  color: #fff;
  background-color: #f0ad4e;
  border-color: #eea236;
}
.notification_widget.warning:focus,
.notification_widget.warning.focus {
  color: #fff;
  background-color: #ec971f;
  border-color: #985f0d;
}
.notification_widget.warning:hover {
  color: #fff;
  background-color: #ec971f;
  border-color: #d58512;
}
.notification_widget.warning:active,
.notification_widget.warning.active,
.open > .dropdown-toggle.notification_widget.warning {
  color: #fff;
  background-color: #ec971f;
  border-color: #d58512;
}
.notification_widget.warning:active:hover,
.notification_widget.warning.active:hover,
.open > .dropdown-toggle.notification_widget.warning:hover,
.notification_widget.warning:active:focus,
.notification_widget.warning.active:focus,
.open > .dropdown-toggle.notification_widget.warning:focus,
.notification_widget.warning:active.focus,
.notification_widget.warning.active.focus,
.open > .dropdown-toggle.notification_widget.warning.focus {
  color: #fff;
  background-color: #d58512;
  border-color: #985f0d;
}
.notification_widget.warning:active,
.notification_widget.warning.active,
.open > .dropdown-toggle.notification_widget.warning {
  background-image: none;
}
.notification_widget.warning.disabled:hover,
.notification_widget.warning[disabled]:hover,
fieldset[disabled] .notification_widget.warning:hover,
.notification_widget.warning.disabled:focus,
.notification_widget.warning[disabled]:focus,
fieldset[disabled] .notification_widget.warning:focus,
.notification_widget.warning.disabled.focus,
.notification_widget.warning[disabled].focus,
fieldset[disabled] .notification_widget.warning.focus {
  background-color: #f0ad4e;
  border-color: #eea236;
}
.notification_widget.warning .badge {
  color: #f0ad4e;
  background-color: #fff;
}
.notification_widget.success {
  color: #fff;
  background-color: #5cb85c;
  border-color: #4cae4c;
}
.notification_widget.success:focus,
.notification_widget.success.focus {
  color: #fff;
  background-color: #449d44;
  border-color: #255625;
}
.notification_widget.success:hover {
  color: #fff;
  background-color: #449d44;
  border-color: #398439;
}
.notification_widget.success:active,
.notification_widget.success.active,
.open > .dropdown-toggle.notification_widget.success {
  color: #fff;
  background-color: #449d44;
  border-color: #398439;
}
.notification_widget.success:active:hover,
.notification_widget.success.active:hover,
.open > .dropdown-toggle.notification_widget.success:hover,
.notification_widget.success:active:focus,
.notification_widget.success.active:focus,
.open > .dropdown-toggle.notification_widget.success:focus,
.notification_widget.success:active.focus,
.notification_widget.success.active.focus,
.open > .dropdown-toggle.notification_widget.success.focus {
  color: #fff;
  background-color: #398439;
  border-color: #255625;
}
.notification_widget.success:active,
.notification_widget.success.active,
.open > .dropdown-toggle.notification_widget.success {
  background-image: none;
}
.notification_widget.success.disabled:hover,
.notification_widget.success[disabled]:hover,
fieldset[disabled] .notification_widget.success:hover,
.notification_widget.success.disabled:focus,
.notification_widget.success[disabled]:focus,
fieldset[disabled] .notification_widget.success:focus,
.notification_widget.success.disabled.focus,
.notification_widget.success[disabled].focus,
fieldset[disabled] .notification_widget.success.focus {
  background-color: #5cb85c;
  border-color: #4cae4c;
}
.notification_widget.success .badge {
  color: #5cb85c;
  background-color: #fff;
}
.notification_widget.info {
  color: #fff;
  background-color: #5bc0de;
  border-color: #46b8da;
}
.notification_widget.info:focus,
.notification_widget.info.focus {
  color: #fff;
  background-color: #31b0d5;
  border-color: #1b6d85;
}
.notification_widget.info:hover {
  color: #fff;
  background-color: #31b0d5;
  border-color: #269abc;
}
.notification_widget.info:active,
.notification_widget.info.active,
.open > .dropdown-toggle.notification_widget.info {
  color: #fff;
  background-color: #31b0d5;
  border-color: #269abc;
}
.notification_widget.info:active:hover,
.notification_widget.info.active:hover,
.open > .dropdown-toggle.notification_widget.info:hover,
.notification_widget.info:active:focus,
.notification_widget.info.active:focus,
.open > .dropdown-toggle.notification_widget.info:focus,
.notification_widget.info:active.focus,
.notification_widget.info.active.focus,
.open > .dropdown-toggle.notification_widget.info.focus {
  color: #fff;
  background-color: #269abc;
  border-color: #1b6d85;
}
.notification_widget.info:active,
.notification_widget.info.active,
.open > .dropdown-toggle.notification_widget.info {
  background-image: none;
}
.notification_widget.info.disabled:hover,
.notification_widget.info[disabled]:hover,
fieldset[disabled] .notification_widget.info:hover,
.notification_widget.info.disabled:focus,
.notification_widget.info[disabled]:focus,
fieldset[disabled] .notification_widget.info:focus,
.notification_widget.info.disabled.focus,
.notification_widget.info[disabled].focus,
fieldset[disabled] .notification_widget.info.focus {
  background-color: #5bc0de;
  border-color: #46b8da;
}
.notification_widget.info .badge {
  color: #5bc0de;
  background-color: #fff;
}
.notification_widget.danger {
  color: #fff;
  background-color: #d9534f;
  border-color: #d43f3a;
}
.notification_widget.danger:focus,
.notification_widget.danger.focus {
  color: #fff;
  background-color: #c9302c;
  border-color: #761c19;
}
.notification_widget.danger:hover {
  color: #fff;
  background-color: #c9302c;
  border-color: #ac2925;
}
.notification_widget.danger:active,
.notification_widget.danger.active,
.open > .dropdown-toggle.notification_widget.danger {
  color: #fff;
  background-color: #c9302c;
  border-color: #ac2925;
}
.notification_widget.danger:active:hover,
.notification_widget.danger.active:hover,
.open > .dropdown-toggle.notification_widget.danger:hover,
.notification_widget.danger:active:focus,
.notification_widget.danger.active:focus,
.open > .dropdown-toggle.notification_widget.danger:focus,
.notification_widget.danger:active.focus,
.notification_widget.danger.active.focus,
.open > .dropdown-toggle.notification_widget.danger.focus {
  color: #fff;
  background-color: #ac2925;
  border-color: #761c19;
}
.notification_widget.danger:active,
.notification_widget.danger.active,
.open > .dropdown-toggle.notification_widget.danger {
  background-image: none;
}
.notification_widget.danger.disabled:hover,
.notification_widget.danger[disabled]:hover,
fieldset[disabled] .notification_widget.danger:hover,
.notification_widget.danger.disabled:focus,
.notification_widget.danger[disabled]:focus,
fieldset[disabled] .notification_widget.danger:focus,
.notification_widget.danger.disabled.focus,
.notification_widget.danger[disabled].focus,
fieldset[disabled] .notification_widget.danger.focus {
  background-color: #d9534f;
  border-color: #d43f3a;
}
.notification_widget.danger .badge {
  color: #d9534f;
  background-color: #fff;
}
div#pager {
  background-color: #fff;
  font-size: 14px;
  line-height: 20px;
  overflow: hidden;
  display: none;
  position: fixed;
  bottom: 0px;
  width: 100%;
  max-height: 50%;
  padding-top: 8px;
  -webkit-box-shadow: 0px 0px 12px 1px rgba(87, 87, 87, 0.2);
  box-shadow: 0px 0px 12px 1px rgba(87, 87, 87, 0.2);
  /* Display over codemirror */
  z-index: 100;
  /* Hack which prevents jquery ui resizable from changing top. */
  top: auto !important;
}
div#pager pre {
  line-height: 1.21429em;
  color: #000;
  background-color: #f7f7f7;
  padding: 0.4em;
}
div#pager #pager-button-area {
  position: absolute;
  top: 8px;
  right: 20px;
}
div#pager #pager-contents {
  position: relative;
  overflow: auto;
  width: 100%;
  height: 100%;
}
div#pager #pager-contents #pager-container {
  position: relative;
  padding: 15px 0px;
  box-sizing: border-box;
  -moz-box-sizing: border-box;
  -webkit-box-sizing: border-box;
}
div#pager .ui-resizable-handle {
  top: 0px;
  height: 8px;
  background: #f7f7f7;
  border-top: 1px solid #cfcfcf;
  border-bottom: 1px solid #cfcfcf;
  /* This injects handle bars (a short, wide = symbol) for 
        the resize handle. */
}
div#pager .ui-resizable-handle::after {
  content: '';
  top: 2px;
  left: 50%;
  height: 3px;
  width: 30px;
  margin-left: -15px;
  position: absolute;
  border-top: 1px solid #cfcfcf;
}
.quickhelp {
  /* Old browsers */
  display: -webkit-box;
  -webkit-box-orient: horizontal;
  -webkit-box-align: stretch;
  display: -moz-box;
  -moz-box-orient: horizontal;
  -moz-box-align: stretch;
  display: box;
  box-orient: horizontal;
  box-align: stretch;
  /* Modern browsers */
  display: flex;
  flex-direction: row;
  align-items: stretch;
  line-height: 1.8em;
}
.shortcut_key {
  display: inline-block;
  width: 21ex;
  text-align: right;
  font-family: monospace;
}
.shortcut_descr {
  display: inline-block;
  /* Old browsers */
  -webkit-box-flex: 1;
  -moz-box-flex: 1;
  box-flex: 1;
  /* Modern browsers */
  flex: 1;
}
span.save_widget {
  height: 30px;
  margin-top: 4px;
  display: flex;
  justify-content: flex-start;
  align-items: baseline;
  width: 50%;
  flex: 1;
}
span.save_widget span.filename {
  height: 100%;
  line-height: 1em;
  margin-left: 16px;
  border: none;
  font-size: 146.5%;
  text-overflow: ellipsis;
  overflow: hidden;
  white-space: nowrap;
  border-radius: 2px;
}
span.save_widget span.filename:hover {
  background-color: #e6e6e6;
}
[dir="rtl"] span.save_widget.pull-left {
  float: right !important;
  float: right;
}
[dir="rtl"] span.save_widget span.filename {
  margin-left: 0;
  margin-right: 16px;
}
span.checkpoint_status,
span.autosave_status {
  font-size: small;
  white-space: nowrap;
  padding: 0 5px;
}
@media (max-width: 767px) {
  span.save_widget {
    font-size: small;
    padding: 0 0 0 5px;
  }
  span.checkpoint_status,
  span.autosave_status {
    display: none;
  }
}
@media (min-width: 768px) and (max-width: 991px) {
  span.checkpoint_status {
    display: none;
  }
  span.autosave_status {
    font-size: x-small;
  }
}
.toolbar {
  padding: 0px;
  margin-left: -5px;
  margin-top: 2px;
  margin-bottom: 5px;
  box-sizing: border-box;
  -moz-box-sizing: border-box;
  -webkit-box-sizing: border-box;
}
.toolbar select,
.toolbar label {
  width: auto;
  vertical-align: middle;
  margin-right: 2px;
  margin-bottom: 0px;
  display: inline;
  font-size: 92%;
  margin-left: 0.3em;
  margin-right: 0.3em;
  padding: 0px;
  padding-top: 3px;
}
.toolbar .btn {
  padding: 2px 8px;
}
.toolbar .btn-group {
  margin-top: 0px;
  margin-left: 5px;
}
.toolbar-btn-label {
  margin-left: 6px;
}
#maintoolbar {
  margin-bottom: -3px;
  margin-top: -8px;
  border: 0px;
  min-height: 27px;
  margin-left: 0px;
  padding-top: 11px;
  padding-bottom: 3px;
}
#maintoolbar .navbar-text {
  float: none;
  vertical-align: middle;
  text-align: right;
  margin-left: 5px;
  margin-right: 0px;
  margin-top: 0px;
}
.select-xs {
  height: 24px;
}
[dir="rtl"] .btn-group > .btn,
.btn-group-vertical > .btn {
  float: right;
}
.pulse,
.dropdown-menu > li > a.pulse,
li.pulse > a.dropdown-toggle,
li.pulse.open > a.dropdown-toggle {
  background-color: #F37626;
  color: white;
}
/**
 * Primary styles
 *
 * Author: Jupyter Development Team
 */
/** WARNING IF YOU ARE EDITTING THIS FILE, if this is a .css file, It has a lot
 * of chance of beeing generated from the ../less/[samename].less file, you can
 * try to get back the less file by reverting somme commit in history
 **/
/*
 * We'll try to get something pretty, so we
 * have some strange css to have the scroll bar on
 * the left with fix button on the top right of the tooltip
 */
@-moz-keyframes fadeOut {
  from {
    opacity: 1;
  }
  to {
    opacity: 0;
  }
}
@-webkit-keyframes fadeOut {
  from {
    opacity: 1;
  }
  to {
    opacity: 0;
  }
}
@-moz-keyframes fadeIn {
  from {
    opacity: 0;
  }
  to {
    opacity: 1;
  }
}
@-webkit-keyframes fadeIn {
  from {
    opacity: 0;
  }
  to {
    opacity: 1;
  }
}
/*properties of tooltip after "expand"*/
.bigtooltip {
  overflow: auto;
  height: 200px;
  -webkit-transition-property: height;
  -webkit-transition-duration: 500ms;
  -moz-transition-property: height;
  -moz-transition-duration: 500ms;
  transition-property: height;
  transition-duration: 500ms;
}
/*properties of tooltip before "expand"*/
.smalltooltip {
  -webkit-transition-property: height;
  -webkit-transition-duration: 500ms;
  -moz-transition-property: height;
  -moz-transition-duration: 500ms;
  transition-property: height;
  transition-duration: 500ms;
  text-overflow: ellipsis;
  overflow: hidden;
  height: 80px;
}
.tooltipbuttons {
  position: absolute;
  padding-right: 15px;
  top: 0px;
  right: 0px;
}
.tooltiptext {
  /*avoid the button to overlap on some docstring*/
  padding-right: 30px;
}
.ipython_tooltip {
  max-width: 700px;
  /*fade-in animation when inserted*/
  -webkit-animation: fadeOut 400ms;
  -moz-animation: fadeOut 400ms;
  animation: fadeOut 400ms;
  -webkit-animation: fadeIn 400ms;
  -moz-animation: fadeIn 400ms;
  animation: fadeIn 400ms;
  vertical-align: middle;
  background-color: #f7f7f7;
  overflow: visible;
  border: #ababab 1px solid;
  outline: none;
  padding: 3px;
  margin: 0px;
  padding-left: 7px;
  font-family: monospace;
  min-height: 50px;
  -moz-box-shadow: 0px 6px 10px -1px #adadad;
  -webkit-box-shadow: 0px 6px 10px -1px #adadad;
  box-shadow: 0px 6px 10px -1px #adadad;
  border-radius: 2px;
  position: absolute;
  z-index: 1000;
}
.ipython_tooltip a {
  float: right;
}
.ipython_tooltip .tooltiptext pre {
  border: 0;
  border-radius: 0;
  font-size: 100%;
  background-color: #f7f7f7;
}
.pretooltiparrow {
  left: 0px;
  margin: 0px;
  top: -16px;
  width: 40px;
  height: 16px;
  overflow: hidden;
  position: absolute;
}
.pretooltiparrow:before {
  background-color: #f7f7f7;
  border: 1px #ababab solid;
  z-index: 11;
  content: "";
  position: absolute;
  left: 15px;
  top: 10px;
  width: 25px;
  height: 25px;
  -webkit-transform: rotate(45deg);
  -moz-transform: rotate(45deg);
  -ms-transform: rotate(45deg);
  -o-transform: rotate(45deg);
}
ul.typeahead-list i {
  margin-left: -10px;
  width: 18px;
}
[dir="rtl"] ul.typeahead-list i {
  margin-left: 0;
  margin-right: -10px;
}
ul.typeahead-list {
  max-height: 80vh;
  overflow: auto;
}
ul.typeahead-list > li > a {
  /** Firefox bug **/
  /* see https://github.com/jupyter/notebook/issues/559 */
  white-space: normal;
}
ul.typeahead-list  > li > a.pull-right {
  float: left !important;
  float: left;
}
[dir="rtl"] .typeahead-list {
  text-align: right;
}
.cmd-palette .modal-body {
  padding: 7px;
}
.cmd-palette form {
  background: white;
}
.cmd-palette input {
  outline: none;
}
.no-shortcut {
  min-width: 20px;
  color: transparent;
}
[dir="rtl"] .no-shortcut.pull-right {
  float: left !important;
  float: left;
}
[dir="rtl"] .command-shortcut.pull-right {
  float: left !important;
  float: left;
}
.command-shortcut:before {
  content: "(command mode)";
  padding-right: 3px;
  color: #777777;
}
.edit-shortcut:before {
  content: "(edit)";
  padding-right: 3px;
  color: #777777;
}
[dir="rtl"] .edit-shortcut.pull-right {
  float: left !important;
  float: left;
}
#find-and-replace #replace-preview .match,
#find-and-replace #replace-preview .insert {
  background-color: #BBDEFB;
  border-color: #90CAF9;
  border-style: solid;
  border-width: 1px;
  border-radius: 0px;
}
[dir="ltr"] #find-and-replace .input-group-btn + .form-control {
  border-left: none;
}
[dir="rtl"] #find-and-replace .input-group-btn + .form-control {
  border-right: none;
}
#find-and-replace #replace-preview .replace .match {
  background-color: #FFCDD2;
  border-color: #EF9A9A;
  border-radius: 0px;
}
#find-and-replace #replace-preview .replace .insert {
  background-color: #C8E6C9;
  border-color: #A5D6A7;
  border-radius: 0px;
}
#find-and-replace #replace-preview {
  max-height: 60vh;
  overflow: auto;
}
#find-and-replace #replace-preview pre {
  padding: 5px 10px;
}
.terminal-app {
  background: #EEE;
}
.terminal-app #header {
  background: #fff;
  -webkit-box-shadow: 0px 0px 12px 1px rgba(87, 87, 87, 0.2);
  box-shadow: 0px 0px 12px 1px rgba(87, 87, 87, 0.2);
}
.terminal-app .terminal {
  width: 100%;
  float: left;
  font-family: monospace;
  color: white;
  background: black;
  padding: 0.4em;
  border-radius: 2px;
  -webkit-box-shadow: 0px 0px 12px 1px rgba(87, 87, 87, 0.4);
  box-shadow: 0px 0px 12px 1px rgba(87, 87, 87, 0.4);
}
.terminal-app .terminal,
.terminal-app .terminal dummy-screen {
  line-height: 1em;
  font-size: 14px;
}
.terminal-app .terminal .xterm-rows {
  padding: 10px;
}
.terminal-app .terminal-cursor {
  color: black;
  background: white;
}
.terminal-app #terminado-container {
  margin-top: 20px;
}
/*# sourceMappingURL=style.min.css.map */
    </style>
<style type="text/css">
    .highlight .hll { background-color: #ffffcc }
.highlight  { background: #f8f8f8; }
.highlight .c { color: #408080; font-style: italic } /* Comment */
.highlight .err { border: 1px solid #FF0000 } /* Error */
.highlight .k { color: #008000; font-weight: bold } /* Keyword */
.highlight .o { color: #666666 } /* Operator */
.highlight .ch { color: #408080; font-style: italic } /* Comment.Hashbang */
.highlight .cm { color: #408080; font-style: italic } /* Comment.Multiline */
.highlight .cp { color: #BC7A00 } /* Comment.Preproc */
.highlight .cpf { color: #408080; font-style: italic } /* Comment.PreprocFile */
.highlight .c1 { color: #408080; font-style: italic } /* Comment.Single */
.highlight .cs { color: #408080; font-style: italic } /* Comment.Special */
.highlight .gd { color: #A00000 } /* Generic.Deleted */
.highlight .ge { font-style: italic } /* Generic.Emph */
.highlight .gr { color: #FF0000 } /* Generic.Error */
.highlight .gh { color: #000080; font-weight: bold } /* Generic.Heading */
.highlight .gi { color: #00A000 } /* Generic.Inserted */
.highlight .go { color: #888888 } /* Generic.Output */
.highlight .gp { color: #000080; font-weight: bold } /* Generic.Prompt */
.highlight .gs { font-weight: bold } /* Generic.Strong */
.highlight .gu { color: #800080; font-weight: bold } /* Generic.Subheading */
.highlight .gt { color: #0044DD } /* Generic.Traceback */
.highlight .kc { color: #008000; font-weight: bold } /* Keyword.Constant */
.highlight .kd { color: #008000; font-weight: bold } /* Keyword.Declaration */
.highlight .kn { color: #008000; font-weight: bold } /* Keyword.Namespace */
.highlight .kp { color: #008000 } /* Keyword.Pseudo */
.highlight .kr { color: #008000; font-weight: bold } /* Keyword.Reserved */
.highlight .kt { color: #B00040 } /* Keyword.Type */
.highlight .m { color: #666666 } /* Literal.Number */
.highlight .s { color: #BA2121 } /* Literal.String */
.highlight .na { color: #7D9029 } /* Name.Attribute */
.highlight .nb { color: #008000 } /* Name.Builtin */
.highlight .nc { color: #0000FF; font-weight: bold } /* Name.Class */
.highlight .no { color: #880000 } /* Name.Constant */
.highlight .nd { color: #AA22FF } /* Name.Decorator */
.highlight .ni { color: #999999; font-weight: bold } /* Name.Entity */
.highlight .ne { color: #D2413A; font-weight: bold } /* Name.Exception */
.highlight .nf { color: #0000FF } /* Name.Function */
.highlight .nl { color: #A0A000 } /* Name.Label */
.highlight .nn { color: #0000FF; font-weight: bold } /* Name.Namespace */
.highlight .nt { color: #008000; font-weight: bold } /* Name.Tag */
.highlight .nv { color: #19177C } /* Name.Variable */
.highlight .ow { color: #AA22FF; font-weight: bold } /* Operator.Word */
.highlight .w { color: #bbbbbb } /* Text.Whitespace */
.highlight .mb { color: #666666 } /* Literal.Number.Bin */
.highlight .mf { color: #666666 } /* Literal.Number.Float */
.highlight .mh { color: #666666 } /* Literal.Number.Hex */
.highlight .mi { color: #666666 } /* Literal.Number.Integer */
.highlight .mo { color: #666666 } /* Literal.Number.Oct */
.highlight .sa { color: #BA2121 } /* Literal.String.Affix */
.highlight .sb { color: #BA2121 } /* Literal.String.Backtick */
.highlight .sc { color: #BA2121 } /* Literal.String.Char */
.highlight .dl { color: #BA2121 } /* Literal.String.Delimiter */
.highlight .sd { color: #BA2121; font-style: italic } /* Literal.String.Doc */
.highlight .s2 { color: #BA2121 } /* Literal.String.Double */
.highlight .se { color: #BB6622; font-weight: bold } /* Literal.String.Escape */
.highlight .sh { color: #BA2121 } /* Literal.String.Heredoc */
.highlight .si { color: #BB6688; font-weight: bold } /* Literal.String.Interpol */
.highlight .sx { color: #008000 } /* Literal.String.Other */
.highlight .sr { color: #BB6688 } /* Literal.String.Regex */
.highlight .s1 { color: #BA2121 } /* Literal.String.Single */
.highlight .ss { color: #19177C } /* Literal.String.Symbol */
.highlight .bp { color: #008000 } /* Name.Builtin.Pseudo */
.highlight .fm { color: #0000FF } /* Name.Function.Magic */
.highlight .vc { color: #19177C } /* Name.Variable.Class */
.highlight .vg { color: #19177C } /* Name.Variable.Global */
.highlight .vi { color: #19177C } /* Name.Variable.Instance */
.highlight .vm { color: #19177C } /* Name.Variable.Magic */
.highlight .il { color: #666666 } /* Literal.Number.Integer.Long */
    </style>
<style type="text/css">
    
/* Temporary definitions which will become obsolete with Notebook release 5.0 */
.ansi-black-fg { color: #3E424D; }
.ansi-black-bg { background-color: #3E424D; }
.ansi-black-intense-fg { color: #282C36; }
.ansi-black-intense-bg { background-color: #282C36; }
.ansi-red-fg { color: #E75C58; }
.ansi-red-bg { background-color: #E75C58; }
.ansi-red-intense-fg { color: #B22B31; }
.ansi-red-intense-bg { background-color: #B22B31; }
.ansi-green-fg { color: #00A250; }
.ansi-green-bg { background-color: #00A250; }
.ansi-green-intense-fg { color: #007427; }
.ansi-green-intense-bg { background-color: #007427; }
.ansi-yellow-fg { color: #DDB62B; }
.ansi-yellow-bg { background-color: #DDB62B; }
.ansi-yellow-intense-fg { color: #B27D12; }
.ansi-yellow-intense-bg { background-color: #B27D12; }
.ansi-blue-fg { color: #208FFB; }
.ansi-blue-bg { background-color: #208FFB; }
.ansi-blue-intense-fg { color: #0065CA; }
.ansi-blue-intense-bg { background-color: #0065CA; }
.ansi-magenta-fg { color: #D160C4; }
.ansi-magenta-bg { background-color: #D160C4; }
.ansi-magenta-intense-fg { color: #A03196; }
.ansi-magenta-intense-bg { background-color: #A03196; }
.ansi-cyan-fg { color: #60C6C8; }
.ansi-cyan-bg { background-color: #60C6C8; }
.ansi-cyan-intense-fg { color: #258F8F; }
.ansi-cyan-intense-bg { background-color: #258F8F; }
.ansi-white-fg { color: #C5C1B4; }
.ansi-white-bg { background-color: #C5C1B4; }
.ansi-white-intense-fg { color: #A1A6B2; }
.ansi-white-intense-bg { background-color: #A1A6B2; }

.ansi-bold { font-weight: bold; }

    </style>


<style type="text/css">
/* Overrides of notebook CSS for static HTML export */
body {
  overflow: visible;
  padding: 8px;
}

div#notebook {
  overflow: visible;
  border-top: none;
}@media print {
  div.cell {
    display: block;
    page-break-inside: avoid;
  } 
  div.output_wrapper { 
    display: block;
    page-break-inside: avoid; 
  }
  div.output { 
    display: block;
    page-break-inside: avoid; 
  }
}
</style>

<!-- Custom stylesheet, it must be in the same directory as the html file -->
<link rel="stylesheet" href="custom.css">

<!-- Loading mathjax macro -->
<!-- Load mathjax -->
    <script src="https://cdnjs.cloudflare.com/ajax/libs/mathjax/2.7.5/latest.js?config=TeX-AMS_HTML"></script>
    <!-- MathJax configuration -->
    <script type="text/x-mathjax-config">
    MathJax.Hub.Config({
        tex2jax: {
            inlineMath: [ ['$','$'], ["\\(","\\)"] ],
            displayMath: [ ['$$','$$'], ["\\[","\\]"] ],
            processEscapes: true,
            processEnvironments: true
        },
        // Center justify equations in code and markdown cells. Elsewhere
        // we use CSS to left justify single line equations in code cells.
        displayAlign: 'center',
        "HTML-CSS": {
            styles: {'.MathJax_Display': {"margin": 0}},
            linebreaks: { automatic: true }
        }
    });
    </script>
    <!-- End of mathjax configuration --></head>
<body>
  <div tabindex="-1" id="notebook" class="border-box-sizing">
    <div class="container" id="notebook-container">

<div class="cell border-box-sizing text_cell rendered"><div class="prompt input_prompt">
</div><div class="inner_cell">
<div class="text_cell_render border-box-sizing rendered_html">
<p><a name="top"></a>
<br/></p>
<h1 id="Understanding-how-medGAN-works-on-the-MIMIC-III-dataset-of-shape-(46520,-1071)-with-binary-values">Understanding how <code>medGAN</code> works on the MIMIC-III dataset of shape <code>(46520, 1071)</code> with binary values<a class="anchor-link" href="#Understanding-how-medGAN-works-on-the-MIMIC-III-dataset-of-shape-(46520,-1071)-with-binary-values">&#182;</a></h1>
</div>
</div>
</div>
<div class="cell border-box-sizing text_cell rendered"><div class="prompt input_prompt">
</div><div class="inner_cell">
<div class="text_cell_render border-box-sizing rendered_html">
<p>Author: <a href="https://github.com/sylvaincom">Sylvain Combettes</a>. <br/>
Last update: Sep 4, 2019. Creation: Aug 12, 2019. <br/>
My own medGAN repository (that is based on Edward Choi's work): <a href="https://github.com/sylvaincom/medgan-tips">medgan-tips</a>. <br/>
Edward Choi's original repository: <a href="https://github.com/mp2893/medgan">medgan</a>.</p>
<p>The final goal of my project is to use <code>medGAN</code> on my own dataset (electronic health records). Hence, I first need to understand how the <code>medGAN</code> program works. In this notebook, I provide a few code cells and explanations to help better understand and run <code>medGAN</code>. Because there are some confidentiality issues with the MIMIC-III dataset, I cleared the output of the cells.</p>
<p>Before reading this notebook, make sure that you have read my <a href="https://github.com/sylvaincom/medgan-tips">medGAN repository</a>'s table of contents.</p>
<p>We will use the MIMIC-III dataset and process it so that we only have binary values.</p>

</div>
</div>
</div>
<div class="cell border-box-sizing text_cell rendered"><div class="prompt input_prompt">
</div><div class="inner_cell">
<div class="text_cell_render border-box-sizing rendered_html">
<hr>
<h3 id="Table-of-contents">Table of contents<a class="anchor-link" href="#Table-of-contents">&#182;</a></h3><ul>
<li><a href="#load-mimic">1) Loading the MIMIC-III dataset</a></li>
<li><a href="#run">2) Using <code>process_mimic.py</code> and <code>medgan.py</code> to generate the fake realistic data</a></li>
<li><a href="#gen-samples">3) How can one interpret the output of <code>medgan.py</code>?</a></li>
<li><a href="#input">4) How can one interpret the output of <code>process_mimic.py</code>?</a></li>
<li><a href="#comparison">5) Comparing the fictitious generated samples to the real-life original ones</a></li>
</ul>

</div>
</div>
</div>
<div class="cell border-box-sizing text_cell rendered"><div class="prompt input_prompt">
</div><div class="inner_cell">
<div class="text_cell_render border-box-sizing rendered_html">
<hr>
<h3 id="Imports">Imports<a class="anchor-link" href="#Imports">&#182;</a></h3>
</div>
</div>
</div>
<div class="cell border-box-sizing code_cell rendered">
<div class="input">
<div class="prompt input_prompt">In&nbsp;[1]:</div>
<div class="inner_cell">
    <div class="input_area">
<div class=" highlight hl-ipython3"><pre><span></span><span class="kn">import</span> <span class="nn">numpy</span> <span class="k">as</span> <span class="nn">np</span>
<span class="kn">import</span> <span class="nn">pandas</span> <span class="k">as</span> <span class="nn">pd</span>
<span class="kn">import</span> <span class="nn">matplotlib.pyplot</span> <span class="k">as</span> <span class="nn">plt</span>

<span class="kn">import</span> <span class="nn">os</span>
<span class="kn">import</span> <span class="nn">pickle</span>
</pre></div>

    </div>
</div>
</div>

</div>
<div class="cell border-box-sizing text_cell rendered"><div class="prompt input_prompt">
</div><div class="inner_cell">
<div class="text_cell_render border-box-sizing rendered_html">
<hr>
<h1 id="1)-Loading-the-MIMIC-III-dataset-">1) Loading the MIMIC-III dataset <a name="load-mimic" /><a class="anchor-link" href="#1)-Loading-the-MIMIC-III-dataset-">&#182;</a></h1>
</div>
</div>
</div>
<div class="cell border-box-sizing text_cell rendered"><div class="prompt input_prompt">
</div><div class="inner_cell">
<div class="text_cell_render border-box-sizing rendered_html">
<h2 id="1.1)-ADMISSIONS.csv-file">1.1) <code>ADMISSIONS.csv</code> file<a class="anchor-link" href="#1.1)-ADMISSIONS.csv-file">&#182;</a></h2>
</div>
</div>
</div>
<div class="cell border-box-sizing code_cell rendered">
<div class="input">
<div class="prompt input_prompt">In&nbsp;[2]:</div>
<div class="inner_cell">
    <div class="input_area">
<div class=" highlight hl-ipython3"><pre><span></span><span class="n">df_adm</span> <span class="o">=</span> <span class="n">pd</span><span class="o">.</span><span class="n">read_csv</span><span class="p">(</span><span class="s2">&quot;ADMISSIONS.csv&quot;</span><span class="p">)</span>
<span class="nb">print</span><span class="p">(</span><span class="n">df_adm</span><span class="o">.</span><span class="n">shape</span><span class="p">)</span>
<span class="n">df_adm</span><span class="o">.</span><span class="n">head</span><span class="p">()</span>
</pre></div>

    </div>
</div>
</div>

<div class="output_wrapper">
<div class="output">


<div class="output_area">

    <div class="prompt"></div>


<div class="output_subarea output_stream output_stdout output_text">
<pre>(58976, 19)
</pre>
</div>
</div>

<div class="output_area">

    <div class="prompt output_prompt">Out[2]:</div>



<div class="output_html rendered_html output_subarea output_execute_result">
<div>
<style scoped>
    .dataframe tbody tr th:only-of-type {
        vertical-align: middle;
    }

    .dataframe tbody tr th {
        vertical-align: top;
    }

    .dataframe thead th {
        text-align: right;
    }
</style>
<table border="1" class="dataframe">
  <thead>
    <tr style="text-align: right;">
      <th></th>
      <th>ROW_ID</th>
      <th>SUBJECT_ID</th>
      <th>HADM_ID</th>
      <th>ADMITTIME</th>
      <th>DISCHTIME</th>
      <th>DEATHTIME</th>
      <th>ADMISSION_TYPE</th>
      <th>ADMISSION_LOCATION</th>
      <th>DISCHARGE_LOCATION</th>
      <th>INSURANCE</th>
      <th>LANGUAGE</th>
      <th>RELIGION</th>
      <th>MARITAL_STATUS</th>
      <th>ETHNICITY</th>
      <th>EDREGTIME</th>
      <th>EDOUTTIME</th>
      <th>DIAGNOSIS</th>
      <th>HOSPITAL_EXPIRE_FLAG</th>
      <th>HAS_CHARTEVENTS_DATA</th>
    </tr>
  </thead>
  <tbody>
    <tr>
      <th>0</th>
      <td>21</td>
      <td>22</td>
      <td>165315</td>
      <td>2196-04-09 12:26:00</td>
      <td>2196-04-10 15:54:00</td>
      <td>NaN</td>
      <td>EMERGENCY</td>
      <td>EMERGENCY ROOM ADMIT</td>
      <td>DISC-TRAN CANCER/CHLDRN H</td>
      <td>Private</td>
      <td>NaN</td>
      <td>UNOBTAINABLE</td>
      <td>MARRIED</td>
      <td>WHITE</td>
      <td>2196-04-09 10:06:00</td>
      <td>2196-04-09 13:24:00</td>
      <td>BENZODIAZEPINE OVERDOSE</td>
      <td>0</td>
      <td>1</td>
    </tr>
    <tr>
      <th>1</th>
      <td>22</td>
      <td>23</td>
      <td>152223</td>
      <td>2153-09-03 07:15:00</td>
      <td>2153-09-08 19:10:00</td>
      <td>NaN</td>
      <td>ELECTIVE</td>
      <td>PHYS REFERRAL/NORMAL DELI</td>
      <td>HOME HEALTH CARE</td>
      <td>Medicare</td>
      <td>NaN</td>
      <td>CATHOLIC</td>
      <td>MARRIED</td>
      <td>WHITE</td>
      <td>NaN</td>
      <td>NaN</td>
      <td>CORONARY ARTERY DISEASE\CORONARY ARTERY BYPASS...</td>
      <td>0</td>
      <td>1</td>
    </tr>
    <tr>
      <th>2</th>
      <td>23</td>
      <td>23</td>
      <td>124321</td>
      <td>2157-10-18 19:34:00</td>
      <td>2157-10-25 14:00:00</td>
      <td>NaN</td>
      <td>EMERGENCY</td>
      <td>TRANSFER FROM HOSP/EXTRAM</td>
      <td>HOME HEALTH CARE</td>
      <td>Medicare</td>
      <td>ENGL</td>
      <td>CATHOLIC</td>
      <td>MARRIED</td>
      <td>WHITE</td>
      <td>NaN</td>
      <td>NaN</td>
      <td>BRAIN MASS</td>
      <td>0</td>
      <td>1</td>
    </tr>
    <tr>
      <th>3</th>
      <td>24</td>
      <td>24</td>
      <td>161859</td>
      <td>2139-06-06 16:14:00</td>
      <td>2139-06-09 12:48:00</td>
      <td>NaN</td>
      <td>EMERGENCY</td>
      <td>TRANSFER FROM HOSP/EXTRAM</td>
      <td>HOME</td>
      <td>Private</td>
      <td>NaN</td>
      <td>PROTESTANT QUAKER</td>
      <td>SINGLE</td>
      <td>WHITE</td>
      <td>NaN</td>
      <td>NaN</td>
      <td>INTERIOR MYOCARDIAL INFARCTION</td>
      <td>0</td>
      <td>1</td>
    </tr>
    <tr>
      <th>4</th>
      <td>25</td>
      <td>25</td>
      <td>129635</td>
      <td>2160-11-02 02:06:00</td>
      <td>2160-11-05 14:55:00</td>
      <td>NaN</td>
      <td>EMERGENCY</td>
      <td>EMERGENCY ROOM ADMIT</td>
      <td>HOME</td>
      <td>Private</td>
      <td>NaN</td>
      <td>UNOBTAINABLE</td>
      <td>MARRIED</td>
      <td>WHITE</td>
      <td>2160-11-02 01:01:00</td>
      <td>2160-11-02 04:27:00</td>
      <td>ACUTE CORONARY SYNDROME</td>
      <td>0</td>
      <td>1</td>
    </tr>
  </tbody>
</table>
</div>
</div>

</div>

</div>
</div>

</div>
<div class="cell border-box-sizing text_cell rendered"><div class="prompt input_prompt">
</div><div class="inner_cell">
<div class="text_cell_render border-box-sizing rendered_html">
<p>Do we have a lot of missing values?</p>

</div>
</div>
</div>
<div class="cell border-box-sizing code_cell rendered">
<div class="input">
<div class="prompt input_prompt">In&nbsp;[3]:</div>
<div class="inner_cell">
    <div class="input_area">
<div class=" highlight hl-ipython3"><pre><span></span><span class="k">def</span> <span class="nf">observe_missing_values</span><span class="p">(</span><span class="n">df</span><span class="p">):</span>
    <span class="c1"># This function does not return any values.</span>
    
    <span class="n">dico</span> <span class="o">=</span> <span class="p">{}</span>
    <span class="n">c_index</span> <span class="o">=</span> <span class="p">[]</span> <span class="c1"># index of columns of features with missing values</span>
    <span class="n">n</span><span class="p">,</span><span class="n">p</span> <span class="o">=</span> <span class="n">df</span><span class="o">.</span><span class="n">shape</span>
    <span class="n">features</span> <span class="o">=</span> <span class="nb">list</span><span class="p">(</span><span class="n">df</span><span class="p">)</span> <span class="c1"># list of features</span>
    
    <span class="c1"># We compute the percentage of missing values for each column:</span>
    <span class="k">for</span> <span class="n">f</span> <span class="ow">in</span> <span class="n">features</span><span class="p">:</span>
        <span class="n">percentage</span> <span class="o">=</span> <span class="nb">round</span><span class="p">(</span><span class="nb">sum</span><span class="p">(</span><span class="n">df</span><span class="p">[</span><span class="n">f</span><span class="p">]</span><span class="o">.</span><span class="n">isna</span><span class="p">())</span><span class="o">*</span><span class="mi">100</span><span class="o">/</span><span class="n">n</span><span class="p">,</span> <span class="mi">2</span><span class="p">)</span> <span class="c1"># percentage of missing values</span>
        <span class="k">if</span> <span class="n">percentage</span><span class="o">&gt;</span><span class="mi">0</span><span class="p">:</span>
            <span class="n">dico</span><span class="p">[</span><span class="n">f</span><span class="p">]</span> <span class="o">=</span> <span class="p">[</span><span class="n">percentage</span><span class="p">]</span>
            <span class="n">c_index</span><span class="o">.</span><span class="n">append</span><span class="p">(</span><span class="n">df</span><span class="o">.</span><span class="n">columns</span><span class="o">.</span><span class="n">get_loc</span><span class="p">(</span><span class="n">f</span><span class="p">))</span>
    
    <span class="k">if</span> <span class="n">c_index</span> <span class="o">==</span> <span class="p">[]:</span>
        <span class="k">return</span> <span class="s1">&#39;There are no missing values!&#39;</span>
    
    <span class="c1"># We construct the DataFrame ordered by Approx. missing values (%):</span>
    <span class="n">df_mv</span> <span class="o">=</span> <span class="n">pd</span><span class="o">.</span><span class="n">DataFrame</span><span class="p">(</span><span class="n">data</span><span class="o">=</span><span class="n">dico</span><span class="p">)</span> <span class="c1"># mv for missing values</span>
    <span class="n">idx_rename</span> <span class="o">=</span> <span class="p">{</span><span class="n">df_mv</span><span class="o">.</span><span class="n">index</span><span class="o">.</span><span class="n">tolist</span><span class="p">()[</span><span class="mi">0</span><span class="p">]:</span><span class="s1">&#39;Approx. missing values (%)&#39;</span><span class="p">}</span>
    <span class="n">df_mv</span> <span class="o">=</span> <span class="n">df_mv</span><span class="o">.</span><span class="n">rename</span><span class="p">(</span><span class="n">index</span><span class="o">=</span><span class="n">idx_rename</span><span class="p">)</span>
    
    <span class="c1"># We print the features with a decreasing Approx. missing values (%) value:</span>
    <span class="n">n_f</span> <span class="o">=</span> <span class="nb">min</span><span class="p">(</span><span class="n">p</span><span class="p">,</span><span class="mi">10</span><span class="p">)</span> <span class="c1"># number of features we choose to print</span>
    <span class="n">df_mv_ordered</span> <span class="o">=</span> <span class="n">df_mv</span><span class="o">.</span><span class="n">sort_values</span><span class="p">(</span><span class="n">by</span><span class="o">=</span><span class="p">[</span><span class="s1">&#39;Approx. missing values (%)&#39;</span><span class="p">],</span> <span class="n">axis</span><span class="o">=</span><span class="mi">1</span><span class="p">,</span> <span class="n">ascending</span><span class="o">=</span><span class="kc">False</span><span class="p">)</span>
    <span class="nb">print</span><span class="p">(</span><span class="s1">&#39;The&#39;</span><span class="p">,</span> <span class="n">n_f</span><span class="p">,</span> <span class="s1">&#39;features with the most missing values are:&#39;</span><span class="p">)</span>
    <span class="nb">print</span><span class="p">(</span><span class="n">df_mv_ordered</span><span class="o">.</span><span class="n">iloc</span><span class="p">[</span><span class="mi">0</span><span class="p">]</span><span class="o">.</span><span class="n">head</span><span class="p">(</span><span class="n">n_f</span><span class="p">))</span>
    
    <span class="c1"># We plot the Approx. missing values (%) given the index of the feature:</span>
    <span class="n">plt</span><span class="o">.</span><span class="n">plot</span><span class="p">(</span><span class="n">c_index</span><span class="p">,</span> <span class="n">df_mv</span><span class="o">.</span><span class="n">iloc</span><span class="p">[</span><span class="mi">0</span><span class="p">],</span> <span class="s1">&#39;o&#39;</span><span class="p">)</span>
    <span class="n">plt</span><span class="o">.</span><span class="n">xlabel</span><span class="p">(</span><span class="s1">&#39;Index of feature&#39;</span><span class="p">)</span>
    <span class="n">plt</span><span class="o">.</span><span class="n">ylabel</span><span class="p">(</span><span class="s1">&#39;Approx. missing values (%)&#39;</span><span class="p">)</span>
    <span class="n">plt</span><span class="o">.</span><span class="n">title</span><span class="p">(</span><span class="s1">&#39;Observing missing values&#39;</span><span class="p">)</span>
    <span class="n">plt</span><span class="o">.</span><span class="n">show</span><span class="p">()</span>
</pre></div>

    </div>
</div>
</div>

</div>
<div class="cell border-box-sizing code_cell rendered">
<div class="input">
<div class="prompt input_prompt">In&nbsp;[4]:</div>
<div class="inner_cell">
    <div class="input_area">
<div class=" highlight hl-ipython3"><pre><span></span><span class="n">observe_missing_values</span><span class="p">(</span><span class="n">df_adm</span><span class="p">)</span>
</pre></div>

    </div>
</div>
</div>

<div class="output_wrapper">
<div class="output">


<div class="output_area">

    <div class="prompt"></div>


<div class="output_subarea output_stream output_stdout output_text">
<pre>The 10 features with the most missing values are:
DEATHTIME         90.07
EDREGTIME         47.64
EDOUTTIME         47.64
LANGUAGE          42.95
MARITAL_STATUS    17.17
RELIGION           0.78
DIAGNOSIS          0.04
Name: Approx. missing values (%), dtype: float64
</pre>
</div>
</div>

<div class="output_area">

    <div class="prompt"></div>




<div class="output_png output_subarea ">
<img src="data:image/png;base64,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
"
>
</div>

</div>

</div>
</div>

</div>
<div class="cell border-box-sizing text_cell rendered"><div class="prompt input_prompt">
</div><div class="inner_cell">
<div class="text_cell_render border-box-sizing rendered_html">
<h2 id="1.2)-DIAGNOSES_ICD.csv-file">1.2) <code>DIAGNOSES_ICD.csv</code> file<a class="anchor-link" href="#1.2)-DIAGNOSES_ICD.csv-file">&#182;</a></h2>
</div>
</div>
</div>
<div class="cell border-box-sizing code_cell rendered">
<div class="input">
<div class="prompt input_prompt">In&nbsp;[5]:</div>
<div class="inner_cell">
    <div class="input_area">
<div class=" highlight hl-ipython3"><pre><span></span><span class="n">df_ICD</span> <span class="o">=</span> <span class="n">pd</span><span class="o">.</span><span class="n">read_csv</span><span class="p">(</span><span class="s1">&#39;DIAGNOSES_ICD.csv&#39;</span><span class="p">)</span>
<span class="nb">print</span><span class="p">(</span><span class="n">df_ICD</span><span class="o">.</span><span class="n">shape</span><span class="p">)</span>
<span class="n">df_ICD</span><span class="o">.</span><span class="n">head</span><span class="p">()</span>
</pre></div>

    </div>
</div>
</div>

<div class="output_wrapper">
<div class="output">


<div class="output_area">

    <div class="prompt"></div>


<div class="output_subarea output_stream output_stdout output_text">
<pre>(651047, 5)
</pre>
</div>
</div>

<div class="output_area">

    <div class="prompt output_prompt">Out[5]:</div>



<div class="output_html rendered_html output_subarea output_execute_result">
<div>
<style scoped>
    .dataframe tbody tr th:only-of-type {
        vertical-align: middle;
    }

    .dataframe tbody tr th {
        vertical-align: top;
    }

    .dataframe thead th {
        text-align: right;
    }
</style>
<table border="1" class="dataframe">
  <thead>
    <tr style="text-align: right;">
      <th></th>
      <th>ROW_ID</th>
      <th>SUBJECT_ID</th>
      <th>HADM_ID</th>
      <th>SEQ_NUM</th>
      <th>ICD9_CODE</th>
    </tr>
  </thead>
  <tbody>
    <tr>
      <th>0</th>
      <td>1297</td>
      <td>109</td>
      <td>172335</td>
      <td>1.0</td>
      <td>40301</td>
    </tr>
    <tr>
      <th>1</th>
      <td>1298</td>
      <td>109</td>
      <td>172335</td>
      <td>2.0</td>
      <td>486</td>
    </tr>
    <tr>
      <th>2</th>
      <td>1299</td>
      <td>109</td>
      <td>172335</td>
      <td>3.0</td>
      <td>58281</td>
    </tr>
    <tr>
      <th>3</th>
      <td>1300</td>
      <td>109</td>
      <td>172335</td>
      <td>4.0</td>
      <td>5855</td>
    </tr>
    <tr>
      <th>4</th>
      <td>1301</td>
      <td>109</td>
      <td>172335</td>
      <td>5.0</td>
      <td>4254</td>
    </tr>
  </tbody>
</table>
</div>
</div>

</div>

</div>
</div>

</div>
<div class="cell border-box-sizing text_cell rendered"><div class="prompt input_prompt">
</div><div class="inner_cell">
<div class="text_cell_render border-box-sizing rendered_html">
<p>Do we have a lot of missing values?</p>

</div>
</div>
</div>
<div class="cell border-box-sizing code_cell rendered">
<div class="input">
<div class="prompt input_prompt">In&nbsp;[6]:</div>
<div class="inner_cell">
    <div class="input_area">
<div class=" highlight hl-ipython3"><pre><span></span><span class="n">observe_missing_values</span><span class="p">(</span><span class="n">df_ICD</span><span class="p">)</span>
</pre></div>

    </div>
</div>
</div>

<div class="output_wrapper">
<div class="output">


<div class="output_area">

    <div class="prompt"></div>


<div class="output_subarea output_stream output_stdout output_text">
<pre>The 5 features with the most missing values are:
SEQ_NUM      0.01
ICD9_CODE    0.01
Name: Approx. missing values (%), dtype: float64
</pre>
</div>
</div>

<div class="output_area">

    <div class="prompt"></div>




<div class="output_png output_subarea ">
<img src="data:image/png;base64,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
"
>
</div>

</div>

</div>
</div>

</div>
<div class="cell border-box-sizing text_cell rendered"><div class="prompt input_prompt">
</div><div class="inner_cell">
<div class="text_cell_render border-box-sizing rendered_html">
<p>We check if our dataset is balanced. Does one <code>ICD9_CODE</code> appear distinctly more than others in proportion?</p>

</div>
</div>
</div>
<div class="cell border-box-sizing code_cell rendered">
<div class="input">
<div class="prompt input_prompt">In&nbsp;[7]:</div>
<div class="inner_cell">
    <div class="input_area">
<div class=" highlight hl-ipython3"><pre><span></span><span class="n">df_ICD</span><span class="p">[</span><span class="s1">&#39;ICD9_CODE&#39;</span><span class="p">]</span><span class="o">.</span><span class="n">value_counts</span><span class="p">(</span><span class="n">normalize</span><span class="o">=</span><span class="kc">True</span><span class="p">)</span><span class="o">.</span><span class="n">head</span><span class="p">()</span>
</pre></div>

    </div>
</div>
</div>

<div class="output_wrapper">
<div class="output">


<div class="output_area">

    <div class="prompt output_prompt">Out[7]:</div>




<div class="output_text output_subarea output_execute_result">
<pre>4019     0.031802
4280     0.020140
42731    0.019802
41401    0.019092
5849     0.014008
Name: ICD9_CODE, dtype: float64</pre>
</div>

</div>

</div>
</div>

</div>
<div class="cell border-box-sizing text_cell rendered"><div class="prompt input_prompt">
</div><div class="inner_cell">
<div class="text_cell_render border-box-sizing rendered_html">
<hr>
<h1 id="2)-Using-process_mimic.py-and-medgan.py-to-generate-the-fake-realistic-data-">2) Using <code>process_mimic.py</code> and <code>medgan.py</code> to generate the fake realistic data <a name="run" /><a class="anchor-link" href="#2)-Using-process_mimic.py-and-medgan.py-to-generate-the-fake-realistic-data-">&#182;</a></h1><p>This step is detailed in <a href="https://github.com/sylvaincom/medgan/blob/master/tips-for-medgan.md">A few additional tips on how to run Edward Choi's medGAN</a>.</p>
<p>In short, in the Anaconda prompt, we run:</p>

<pre><code>cd C:\Users\&lt;username&gt;\Documents\mimic_binary
python process_mimic.py ADMISSIONS.csv DIAGNOSES_ICD.csv training-data "binary"
mkdir generated
python medgan.py training-data.matrix ./generated/samples --data_type="binary"
python medgan.py training-data.matrix gen-samples --model_file=./generated/samples-999 --generate_data=True --data_type="binary"</code></pre>
<p>Some default values are <code>n_epoch=1000</code>, <code>n_pretrain_epoch=100</code> and <code>batch_size=1000</code>. We choose <code>nSamples=10000</code> line 405 in <code>medgan.py</code>.
The computing took more than 5 hours on my laptop.</p>

</div>
</div>
</div>
<div class="cell border-box-sizing text_cell rendered"><div class="prompt input_prompt">
</div><div class="inner_cell">
<div class="text_cell_render border-box-sizing rendered_html">
<hr>
<h1 id="3)-How-can-one-interpret-the-output-of-medgan.py?-">3) How can one interpret the output of <code>medgan.py</code>? <a name="gen-samples" /><a class="anchor-link" href="#3)-How-can-one-interpret-the-output-of-medgan.py?-">&#182;</a></h1><p>We load the <code>gen-samples.npy</code> file which is <code>medgan.py</code>'s output:</p>

</div>
</div>
</div>
<div class="cell border-box-sizing code_cell rendered">
<div class="input">
<div class="prompt input_prompt">In&nbsp;[8]:</div>
<div class="inner_cell">
    <div class="input_area">
<div class=" highlight hl-ipython3"><pre><span></span><span class="n">fict</span> <span class="o">=</span> <span class="n">np</span><span class="o">.</span><span class="n">load</span><span class="p">(</span><span class="s1">&#39;gen-samples.npy&#39;</span><span class="p">)</span> <span class="c1"># fictitious generated dataset</span>
<span class="n">df_fict</span> <span class="o">=</span> <span class="n">pd</span><span class="o">.</span><span class="n">DataFrame</span><span class="p">(</span><span class="n">fict</span><span class="p">)</span>
<span class="nb">print</span><span class="p">(</span><span class="n">df_fict</span><span class="o">.</span><span class="n">shape</span><span class="p">)</span>
<span class="n">df_fict</span><span class="o">.</span><span class="n">head</span><span class="p">()</span>
</pre></div>

    </div>
</div>
</div>

<div class="output_wrapper">
<div class="output">


<div class="output_area">

    <div class="prompt"></div>


<div class="output_subarea output_stream output_stdout output_text">
<pre>(10000, 1071)
</pre>
</div>
</div>

<div class="output_area">

    <div class="prompt output_prompt">Out[8]:</div>



<div class="output_html rendered_html output_subarea output_execute_result">
<div>
<style scoped>
    .dataframe tbody tr th:only-of-type {
        vertical-align: middle;
    }

    .dataframe tbody tr th {
        vertical-align: top;
    }

    .dataframe thead th {
        text-align: right;
    }
</style>
<table border="1" class="dataframe">
  <thead>
    <tr style="text-align: right;">
      <th></th>
      <th>0</th>
      <th>1</th>
      <th>2</th>
      <th>3</th>
      <th>4</th>
      <th>5</th>
      <th>6</th>
      <th>7</th>
      <th>8</th>
      <th>9</th>
      <th>...</th>
      <th>1061</th>
      <th>1062</th>
      <th>1063</th>
      <th>1064</th>
      <th>1065</th>
      <th>1066</th>
      <th>1067</th>
      <th>1068</th>
      <th>1069</th>
      <th>1070</th>
    </tr>
  </thead>
  <tbody>
    <tr>
      <th>0</th>
      <td>0.000107</td>
      <td>0.000578</td>
      <td>0.003606</td>
      <td>0.814336</td>
      <td>7.140112e-02</td>
      <td>0.000016</td>
      <td>0.000000</td>
      <td>0.000000e+00</td>
      <td>0.0</td>
      <td>0.000000e+00</td>
      <td>...</td>
      <td>4.768372e-06</td>
      <td>0.000011</td>
      <td>4.857779e-06</td>
      <td>4.768372e-06</td>
      <td>4.798174e-06</td>
      <td>4.708767e-06</td>
      <td>0.000040</td>
      <td>4.857779e-06</td>
      <td>4.768372e-06</td>
      <td>0.000012</td>
    </tr>
    <tr>
      <th>1</th>
      <td>0.000083</td>
      <td>0.000539</td>
      <td>0.002899</td>
      <td>0.000000</td>
      <td>1.281500e-06</td>
      <td>0.998758</td>
      <td>0.035956</td>
      <td>5.662441e-07</td>
      <td>0.0</td>
      <td>0.000000e+00</td>
      <td>...</td>
      <td>1.433492e-05</td>
      <td>0.000048</td>
      <td>1.436472e-05</td>
      <td>1.433492e-05</td>
      <td>1.433492e-05</td>
      <td>1.439452e-05</td>
      <td>0.000128</td>
      <td>1.436472e-05</td>
      <td>1.430511e-05</td>
      <td>0.000052</td>
    </tr>
    <tr>
      <th>2</th>
      <td>0.000175</td>
      <td>0.000014</td>
      <td>0.000164</td>
      <td>0.000000</td>
      <td>0.000000e+00</td>
      <td>0.999893</td>
      <td>0.000017</td>
      <td>1.555706e-01</td>
      <td>0.0</td>
      <td>0.000000e+00</td>
      <td>...</td>
      <td>1.209974e-05</td>
      <td>0.000050</td>
      <td>1.209974e-05</td>
      <td>1.221895e-05</td>
      <td>1.209974e-05</td>
      <td>1.215935e-05</td>
      <td>0.000263</td>
      <td>1.221895e-05</td>
      <td>1.209974e-05</td>
      <td>0.000066</td>
    </tr>
    <tr>
      <th>3</th>
      <td>0.000154</td>
      <td>0.000059</td>
      <td>0.000108</td>
      <td>0.000000</td>
      <td>8.940697e-08</td>
      <td>0.912901</td>
      <td>0.000411</td>
      <td>0.000000e+00</td>
      <td>0.0</td>
      <td>2.980232e-08</td>
      <td>...</td>
      <td>4.115701e-05</td>
      <td>0.000074</td>
      <td>4.115701e-05</td>
      <td>4.115701e-05</td>
      <td>4.115701e-05</td>
      <td>4.115701e-05</td>
      <td>0.000273</td>
      <td>4.115701e-05</td>
      <td>4.109740e-05</td>
      <td>0.000127</td>
    </tr>
    <tr>
      <th>4</th>
      <td>0.000001</td>
      <td>0.001114</td>
      <td>0.007563</td>
      <td>0.000000</td>
      <td>0.000000e+00</td>
      <td>0.000001</td>
      <td>0.000000</td>
      <td>0.000000e+00</td>
      <td>0.0</td>
      <td>0.000000e+00</td>
      <td>...</td>
      <td>5.662441e-07</td>
      <td>0.000001</td>
      <td>5.960464e-07</td>
      <td>5.662441e-07</td>
      <td>5.960464e-07</td>
      <td>5.662441e-07</td>
      <td>0.000012</td>
      <td>5.662441e-07</td>
      <td>5.960464e-07</td>
      <td>0.000002</td>
    </tr>
  </tbody>
</table>
<p>5 rows × 1071 columns</p>
</div>
</div>

</div>

</div>
</div>

</div>
<div class="cell border-box-sizing text_cell rendered"><div class="prompt input_prompt">
</div><div class="inner_cell">
<div class="text_cell_render border-box-sizing rendered_html">
<p>Do the output of <code>medgan.py</code> have missing values?</p>

</div>
</div>
</div>
<div class="cell border-box-sizing code_cell rendered">
<div class="input">
<div class="prompt input_prompt">In&nbsp;[9]:</div>
<div class="inner_cell">
    <div class="input_area">
<div class=" highlight hl-ipython3"><pre><span></span><span class="n">observe_missing_values</span><span class="p">(</span><span class="n">df_fict</span><span class="p">)</span>
</pre></div>

    </div>
</div>
</div>

<div class="output_wrapper">
<div class="output">


<div class="output_area">

    <div class="prompt output_prompt">Out[9]:</div>




<div class="output_text output_subarea output_execute_result">
<pre>&#39;There are no missing values!&#39;</pre>
</div>

</div>

</div>
</div>

</div>
<div class="cell border-box-sizing text_cell rendered"><div class="prompt input_prompt">
</div><div class="inner_cell">
<div class="text_cell_render border-box-sizing rendered_html">
<p>The output of <code>medgan.py</code> has no missing values!</p>
<p>Some questions about this data frame:</p>
<ul>
<li>What do the columns correspond to? They are not the ones of <code>ADMISSIONS.csv</code> nor <code>DIAGNOSIS_ICD.csv</code>.</li>
<li>What do the rows correspond to?</li>
<li>Why are the values not binary?</li>
</ul>
<p>We can find some answers in an issue opened in Edward Choi's GitHub: <a href="https://github.com/mp2893/medgan/issues/3">How to interpret the samples?</a>. In order to understand the output <code>gen-samples.npy</code> of <code>medgan.py</code>, we are going to go back to the input of <code>medgan.py</code>: the output of <code>process_mimic.py</code> which is <code>training-data.matrix</code>.</p>
<p>Actually, in <code>gen-samples.npy</code>, as in the <code>training-data.matrix</code> file, each row corresponds to a single patient and each column corresponds to a specific ICD9 diagnosis code. We can use the <code>training-data.types</code> file created by <code>process_mimic.py</code> to map each column to a specific ICD9 diagnosis code. Read the beginning part of the source code of <code>process_mimic.py</code> for more information about these files:</p>
<div class="highlight"><pre><span></span><span class="c1"># Output files</span>
<span class="c1"># &lt;output file&gt;.pids: cPickled Python list of unique Patient IDs. Used for intermediate processing</span>
<span class="c1"># &lt;output file&gt;.matrix: Numpy float32 matrix. Each row corresponds to a patient. Each column corresponds to a ICD9 diagnosis code.</span>
<span class="c1"># &lt;output file&gt;.types: cPickled Python dictionary that maps string diagnosis codes to integer diagnosis codes.</span>
</pre></div>
<p>What is ICD-9? See <a href="https://en.wikipedia.org/wiki/International_Statistical_Classification_of_Diseases_and_Related_Health_Problems#ICD-9">ICD-9</a> and <a href="https://en.wikipedia.org/wiki/List_of_ICD-9_codes">List of ICD-9 codes</a>.</p>

</div>
</div>
</div>
<div class="cell border-box-sizing text_cell rendered"><div class="prompt input_prompt">
</div><div class="inner_cell">
<div class="text_cell_render border-box-sizing rendered_html">
<p>We need to round the values ourselves:</p>

</div>
</div>
</div>
<div class="cell border-box-sizing code_cell rendered">
<div class="input">
<div class="prompt input_prompt">In&nbsp;[10]:</div>
<div class="inner_cell">
    <div class="input_area">
<div class=" highlight hl-ipython3"><pre><span></span><span class="n">df_fict</span> <span class="o">=</span> <span class="n">df_fict</span><span class="o">.</span><span class="n">round</span><span class="p">(</span><span class="mi">0</span><span class="p">)</span>
<span class="n">df_fict</span><span class="o">.</span><span class="n">head</span><span class="p">()</span>
</pre></div>

    </div>
</div>
</div>

<div class="output_wrapper">
<div class="output">


<div class="output_area">

    <div class="prompt output_prompt">Out[10]:</div>



<div class="output_html rendered_html output_subarea output_execute_result">
<div>
<style scoped>
    .dataframe tbody tr th:only-of-type {
        vertical-align: middle;
    }

    .dataframe tbody tr th {
        vertical-align: top;
    }

    .dataframe thead th {
        text-align: right;
    }
</style>
<table border="1" class="dataframe">
  <thead>
    <tr style="text-align: right;">
      <th></th>
      <th>0</th>
      <th>1</th>
      <th>2</th>
      <th>3</th>
      <th>4</th>
      <th>5</th>
      <th>6</th>
      <th>7</th>
      <th>8</th>
      <th>9</th>
      <th>...</th>
      <th>1061</th>
      <th>1062</th>
      <th>1063</th>
      <th>1064</th>
      <th>1065</th>
      <th>1066</th>
      <th>1067</th>
      <th>1068</th>
      <th>1069</th>
      <th>1070</th>
    </tr>
  </thead>
  <tbody>
    <tr>
      <th>0</th>
      <td>0.0</td>
      <td>0.0</td>
      <td>0.0</td>
      <td>1.0</td>
      <td>0.0</td>
      <td>0.0</td>
      <td>0.0</td>
      <td>0.0</td>
      <td>0.0</td>
      <td>0.0</td>
      <td>...</td>
      <td>0.0</td>
      <td>0.0</td>
      <td>0.0</td>
      <td>0.0</td>
      <td>0.0</td>
      <td>0.0</td>
      <td>0.0</td>
      <td>0.0</td>
      <td>0.0</td>
      <td>0.0</td>
    </tr>
    <tr>
      <th>1</th>
      <td>0.0</td>
      <td>0.0</td>
      <td>0.0</td>
      <td>0.0</td>
      <td>0.0</td>
      <td>1.0</td>
      <td>0.0</td>
      <td>0.0</td>
      <td>0.0</td>
      <td>0.0</td>
      <td>...</td>
      <td>0.0</td>
      <td>0.0</td>
      <td>0.0</td>
      <td>0.0</td>
      <td>0.0</td>
      <td>0.0</td>
      <td>0.0</td>
      <td>0.0</td>
      <td>0.0</td>
      <td>0.0</td>
    </tr>
    <tr>
      <th>2</th>
      <td>0.0</td>
      <td>0.0</td>
      <td>0.0</td>
      <td>0.0</td>
      <td>0.0</td>
      <td>1.0</td>
      <td>0.0</td>
      <td>0.0</td>
      <td>0.0</td>
      <td>0.0</td>
      <td>...</td>
      <td>0.0</td>
      <td>0.0</td>
      <td>0.0</td>
      <td>0.0</td>
      <td>0.0</td>
      <td>0.0</td>
      <td>0.0</td>
      <td>0.0</td>
      <td>0.0</td>
      <td>0.0</td>
    </tr>
    <tr>
      <th>3</th>
      <td>0.0</td>
      <td>0.0</td>
      <td>0.0</td>
      <td>0.0</td>
      <td>0.0</td>
      <td>1.0</td>
      <td>0.0</td>
      <td>0.0</td>
      <td>0.0</td>
      <td>0.0</td>
      <td>...</td>
      <td>0.0</td>
      <td>0.0</td>
      <td>0.0</td>
      <td>0.0</td>
      <td>0.0</td>
      <td>0.0</td>
      <td>0.0</td>
      <td>0.0</td>
      <td>0.0</td>
      <td>0.0</td>
    </tr>
    <tr>
      <th>4</th>
      <td>0.0</td>
      <td>0.0</td>
      <td>0.0</td>
      <td>0.0</td>
      <td>0.0</td>
      <td>0.0</td>
      <td>0.0</td>
      <td>0.0</td>
      <td>0.0</td>
      <td>0.0</td>
      <td>...</td>
      <td>0.0</td>
      <td>0.0</td>
      <td>0.0</td>
      <td>0.0</td>
      <td>0.0</td>
      <td>0.0</td>
      <td>0.0</td>
      <td>0.0</td>
      <td>0.0</td>
      <td>0.0</td>
    </tr>
  </tbody>
</table>
<p>5 rows × 1071 columns</p>
</div>
</div>

</div>

</div>
</div>

</div>
<div class="cell border-box-sizing text_cell rendered"><div class="prompt input_prompt">
</div><div class="inner_cell">
<div class="text_cell_render border-box-sizing rendered_html">
<p>Indeed, in line 405 of <code>medgan.py</code>, we have chosen <code>nSamples=10000</code>. It is important to note thay once we have learned the estimated density of the real-life original samples, we can generate as many fake realistic samples as we want.</p>

</div>
</div>
</div>
<div class="cell border-box-sizing text_cell rendered"><div class="prompt input_prompt">
</div><div class="inner_cell">
<div class="text_cell_render border-box-sizing rendered_html">
<hr>
<h1 id="4)-How-can-one-interpret-the-output-of-process_mimic.py?-">4) How can one interpret the output of <code>process_mimic.py</code>? <a name="input" /><a class="anchor-link" href="#4)-How-can-one-interpret-the-output-of-process_mimic.py?-">&#182;</a></h1><h2 id="4.1)-Understanding-training-data.types">4.1) Understanding <code>training-data.types</code><a class="anchor-link" href="#4.1)-Understanding-training-data.types">&#182;</a></h2><p><em>cPickled Python dictionary that maps string diagnosis codes to integer diagnosis codes.</em></p>

</div>
</div>
</div>
<div class="cell border-box-sizing code_cell rendered">
<div class="input">
<div class="prompt input_prompt">In&nbsp;[11]:</div>
<div class="inner_cell">
    <div class="input_area">
<div class=" highlight hl-ipython3"><pre><span></span><span class="n">map_dict</span> <span class="o">=</span> <span class="n">pickle</span><span class="o">.</span><span class="n">load</span><span class="p">(</span><span class="nb">open</span><span class="p">(</span><span class="s1">&#39;training-data.types&#39;</span><span class="p">,</span> <span class="s1">&#39;rb&#39;</span><span class="p">))</span>
<span class="nb">print</span><span class="p">(</span><span class="nb">type</span><span class="p">(</span><span class="n">map_dict</span><span class="p">))</span>
<span class="nb">print</span><span class="p">(</span><span class="s1">&#39;An excerpt is:&#39;</span><span class="p">,</span> <span class="nb">dict</span><span class="p">(</span><span class="nb">list</span><span class="p">(</span><span class="n">map_dict</span><span class="o">.</span><span class="n">items</span><span class="p">())[</span><span class="mi">0</span><span class="p">:</span><span class="mi">5</span><span class="p">]))</span>
</pre></div>

    </div>
</div>
</div>

<div class="output_wrapper">
<div class="output">


<div class="output_area">

    <div class="prompt"></div>


<div class="output_subarea output_stream output_stdout output_text">
<pre>&lt;class &#39;dict&#39;&gt;
An excerpt is: {&#39;D_967&#39;: 0, &#39;D_969&#39;: 1, &#39;D_E950&#39;: 2, &#39;D_348&#39;: 3, &#39;D_296&#39;: 4}
</pre>
</div>
</div>

</div>
</div>

</div>
<div class="cell border-box-sizing text_cell rendered"><div class="prompt input_prompt">
</div><div class="inner_cell">
<div class="text_cell_render border-box-sizing rendered_html">
<p>Thus, as its name suggests, <code>process_mimic.py</code> is really dependent on the MIMIC-III dataset. We probably will not use <code>process_mimic.py</code> on our own dataset and only run <code>medgan.py</code>. Out of <code>process_mimic.py</code>, we only need to understand how the output file <code>training-data.matrix</code> is constructed.</p>
<h2 id="4.2)-Understanding-training-data.pids">4.2) Understanding <code>training-data.pids</code><a class="anchor-link" href="#4.2)-Understanding-training-data.pids">&#182;</a></h2><p><em>cPickled Python list of unique Patient IDs. Used for intermediate processing</em></p>

</div>
</div>
</div>
<div class="cell border-box-sizing code_cell rendered">
<div class="input">
<div class="prompt input_prompt">In&nbsp;[12]:</div>
<div class="inner_cell">
    <div class="input_area">
<div class=" highlight hl-ipython3"><pre><span></span><span class="n">id_list</span> <span class="o">=</span> <span class="n">pickle</span><span class="o">.</span><span class="n">load</span><span class="p">(</span><span class="nb">open</span><span class="p">(</span><span class="s1">&#39;training-data.pids&#39;</span><span class="p">,</span> <span class="s1">&#39;rb&#39;</span><span class="p">))</span>
<span class="nb">print</span><span class="p">(</span><span class="nb">type</span><span class="p">(</span><span class="n">id_list</span><span class="p">))</span>
<span class="nb">print</span><span class="p">(</span><span class="s1">&#39;An excerpt is:&#39;</span><span class="p">,</span> <span class="n">id_list</span><span class="p">[:</span><span class="mi">10</span><span class="p">])</span>
</pre></div>

    </div>
</div>
</div>

<div class="output_wrapper">
<div class="output">


<div class="output_area">

    <div class="prompt"></div>


<div class="output_subarea output_stream output_stdout output_text">
<pre>&lt;class &#39;list&#39;&gt;
An excerpt is: [22, 23, 24, 25, 26, 27, 28, 30, 31, 32]
</pre>
</div>
</div>

</div>
</div>

</div>
<div class="cell border-box-sizing text_cell rendered"><div class="prompt input_prompt">
</div><div class="inner_cell">
<div class="text_cell_render border-box-sizing rendered_html">
<h2 id="4.3)-Understanding-training-data.matrix">4.3) Understanding <code>training-data.matrix</code><a class="anchor-link" href="#4.3)-Understanding-training-data.matrix">&#182;</a></h2><p><em>Numpy float32 matrix. Each row corresponds to a patient. Each column corresponds to a ICD9 diagnosis code.</em></p>
<p><code>training-data.matrix</code> is an output of <code>process_mimic.py</code> and the input of <code>medgan.py</code>.</p>

</div>
</div>
</div>
<div class="cell border-box-sizing code_cell rendered">
<div class="input">
<div class="prompt input_prompt">In&nbsp;[13]:</div>
<div class="inner_cell">
    <div class="input_area">
<div class=" highlight hl-ipython3"><pre><span></span><span class="n">real_data_array</span> <span class="o">=</span> <span class="n">pickle</span><span class="o">.</span><span class="n">load</span><span class="p">(</span><span class="nb">open</span><span class="p">(</span><span class="s1">&#39;training-data.matrix&#39;</span><span class="p">,</span> <span class="s1">&#39;rb&#39;</span><span class="p">))</span>
<span class="nb">print</span><span class="p">(</span><span class="nb">type</span><span class="p">(</span><span class="n">real_data_array</span><span class="p">))</span>
<span class="n">real_data_array</span>
</pre></div>

    </div>
</div>
</div>

<div class="output_wrapper">
<div class="output">


<div class="output_area">

    <div class="prompt"></div>


<div class="output_subarea output_stream output_stdout output_text">
<pre>&lt;class &#39;numpy.ndarray&#39;&gt;
</pre>
</div>
</div>

<div class="output_area">

    <div class="prompt output_prompt">Out[13]:</div>




<div class="output_text output_subarea output_execute_result">
<pre>array([[1., 1., 1., ..., 0., 0., 0.],
       [0., 0., 0., ..., 0., 0., 0.],
       [0., 0., 0., ..., 0., 0., 0.],
       ...,
       [0., 0., 0., ..., 0., 0., 0.],
       [0., 0., 0., ..., 0., 0., 0.],
       [0., 0., 0., ..., 0., 0., 0.]], dtype=float32)</pre>
</div>

</div>

</div>
</div>

</div>
<div class="cell border-box-sizing code_cell rendered">
<div class="input">
<div class="prompt input_prompt">In&nbsp;[14]:</div>
<div class="inner_cell">
    <div class="input_area">
<div class=" highlight hl-ipython3"><pre><span></span><span class="n">df_real</span> <span class="o">=</span> <span class="n">pd</span><span class="o">.</span><span class="n">DataFrame</span><span class="p">(</span><span class="n">real_data_array</span><span class="p">)</span>
<span class="nb">print</span><span class="p">(</span><span class="n">df_real</span><span class="o">.</span><span class="n">shape</span><span class="p">)</span>
<span class="n">df_real</span><span class="o">.</span><span class="n">head</span><span class="p">(</span><span class="mi">5</span><span class="p">)</span>
</pre></div>

    </div>
</div>
</div>

<div class="output_wrapper">
<div class="output">


<div class="output_area">

    <div class="prompt"></div>


<div class="output_subarea output_stream output_stdout output_text">
<pre>(46520, 1071)
</pre>
</div>
</div>

<div class="output_area">

    <div class="prompt output_prompt">Out[14]:</div>



<div class="output_html rendered_html output_subarea output_execute_result">
<div>
<style scoped>
    .dataframe tbody tr th:only-of-type {
        vertical-align: middle;
    }

    .dataframe tbody tr th {
        vertical-align: top;
    }

    .dataframe thead th {
        text-align: right;
    }
</style>
<table border="1" class="dataframe">
  <thead>
    <tr style="text-align: right;">
      <th></th>
      <th>0</th>
      <th>1</th>
      <th>2</th>
      <th>3</th>
      <th>4</th>
      <th>5</th>
      <th>6</th>
      <th>7</th>
      <th>8</th>
      <th>9</th>
      <th>...</th>
      <th>1061</th>
      <th>1062</th>
      <th>1063</th>
      <th>1064</th>
      <th>1065</th>
      <th>1066</th>
      <th>1067</th>
      <th>1068</th>
      <th>1069</th>
      <th>1070</th>
    </tr>
  </thead>
  <tbody>
    <tr>
      <th>0</th>
      <td>1.0</td>
      <td>1.0</td>
      <td>1.0</td>
      <td>1.0</td>
      <td>1.0</td>
      <td>1.0</td>
      <td>0.0</td>
      <td>0.0</td>
      <td>0.0</td>
      <td>0.0</td>
      <td>...</td>
      <td>0.0</td>
      <td>0.0</td>
      <td>0.0</td>
      <td>0.0</td>
      <td>0.0</td>
      <td>0.0</td>
      <td>0.0</td>
      <td>0.0</td>
      <td>0.0</td>
      <td>0.0</td>
    </tr>
    <tr>
      <th>1</th>
      <td>0.0</td>
      <td>0.0</td>
      <td>0.0</td>
      <td>1.0</td>
      <td>0.0</td>
      <td>1.0</td>
      <td>1.0</td>
      <td>1.0</td>
      <td>1.0</td>
      <td>1.0</td>
      <td>...</td>
      <td>0.0</td>
      <td>0.0</td>
      <td>0.0</td>
      <td>0.0</td>
      <td>0.0</td>
      <td>0.0</td>
      <td>0.0</td>
      <td>0.0</td>
      <td>0.0</td>
      <td>0.0</td>
    </tr>
    <tr>
      <th>2</th>
      <td>0.0</td>
      <td>0.0</td>
      <td>0.0</td>
      <td>0.0</td>
      <td>0.0</td>
      <td>0.0</td>
      <td>1.0</td>
      <td>0.0</td>
      <td>0.0</td>
      <td>0.0</td>
      <td>...</td>
      <td>0.0</td>
      <td>0.0</td>
      <td>0.0</td>
      <td>0.0</td>
      <td>0.0</td>
      <td>0.0</td>
      <td>0.0</td>
      <td>0.0</td>
      <td>0.0</td>
      <td>0.0</td>
    </tr>
    <tr>
      <th>3</th>
      <td>0.0</td>
      <td>0.0</td>
      <td>0.0</td>
      <td>0.0</td>
      <td>0.0</td>
      <td>1.0</td>
      <td>1.0</td>
      <td>0.0</td>
      <td>0.0</td>
      <td>0.0</td>
      <td>...</td>
      <td>0.0</td>
      <td>0.0</td>
      <td>0.0</td>
      <td>0.0</td>
      <td>0.0</td>
      <td>0.0</td>
      <td>0.0</td>
      <td>0.0</td>
      <td>0.0</td>
      <td>0.0</td>
    </tr>
    <tr>
      <th>4</th>
      <td>0.0</td>
      <td>0.0</td>
      <td>0.0</td>
      <td>0.0</td>
      <td>0.0</td>
      <td>0.0</td>
      <td>1.0</td>
      <td>0.0</td>
      <td>0.0</td>
      <td>0.0</td>
      <td>...</td>
      <td>0.0</td>
      <td>0.0</td>
      <td>0.0</td>
      <td>0.0</td>
      <td>0.0</td>
      <td>0.0</td>
      <td>0.0</td>
      <td>0.0</td>
      <td>0.0</td>
      <td>0.0</td>
    </tr>
  </tbody>
</table>
<p>5 rows × 1071 columns</p>
</div>
</div>

</div>

</div>
</div>

</div>
<div class="cell border-box-sizing text_cell rendered"><div class="prompt input_prompt">
</div><div class="inner_cell">
<div class="text_cell_render border-box-sizing rendered_html">
<p>As we chose, the real-life data is binary.</p>
<p>We can note that the input and the <a href="#gen-samples">output</a> of <code>medgan.py</code> have the same number of columns and that the values are of the same type (binary). Thus, <code>gen-samples.npy</code> is a fictitious realistic generated dataset that is trying to look like the <code>training-data.matrix</code> file.</p>

</div>
</div>
</div>
<div class="cell border-box-sizing text_cell rendered"><div class="prompt input_prompt">
</div><div class="inner_cell">
<div class="text_cell_render border-box-sizing rendered_html">
<p>Does the input of <code>medgan.py</code> have missing values?</p>

</div>
</div>
</div>
<div class="cell border-box-sizing code_cell rendered">
<div class="input">
<div class="prompt input_prompt">In&nbsp;[15]:</div>
<div class="inner_cell">
    <div class="input_area">
<div class=" highlight hl-ipython3"><pre><span></span><span class="n">observe_missing_values</span><span class="p">(</span><span class="n">df_real</span><span class="p">)</span>
</pre></div>

    </div>
</div>
</div>

<div class="output_wrapper">
<div class="output">


<div class="output_area">

    <div class="prompt output_prompt">Out[15]:</div>




<div class="output_text output_subarea output_execute_result">
<pre>&#39;There are no missing values!&#39;</pre>
</div>

</div>

</div>
</div>

</div>
<div class="cell border-box-sizing text_cell rendered"><div class="prompt input_prompt">
</div><div class="inner_cell">
<div class="text_cell_render border-box-sizing rendered_html">
<p>The input of <code>medgan.py</code> has no missing values!</p>

</div>
</div>
</div>
<div class="cell border-box-sizing text_cell rendered"><div class="prompt input_prompt">
</div><div class="inner_cell">
<div class="text_cell_render border-box-sizing rendered_html">
<hr>
<h1 id="5)-Comparing-the-fictitious-generated-samples-to-the-real-life-original-ones--">5) Comparing the fictitious generated samples to the real-life original ones  <a name="comparison" /><a class="anchor-link" href="#5)-Comparing-the-fictitious-generated-samples-to-the-real-life-original-ones--">&#182;</a></h1>
</div>
</div>
</div>
<div class="cell border-box-sizing text_cell rendered"><div class="prompt input_prompt">
</div><div class="inner_cell">
<div class="text_cell_render border-box-sizing rendered_html">
<p>In this section, we wish to compare the accuracy of the fictitious generated dataset considering the original one. As in Choi's paper, we use dimension-wise probability (because the variables are binary).</p>
<p>Given that our data is binary, for each feature (dimension), we claim that <code>1</code> corresponds to success and <code>0</code> to failure. Hence the proportion of <code>1</code> obtained is the Bernoulli success probability <em>p</em>.</p>

</div>
</div>
</div>
<div class="cell border-box-sizing text_cell rendered"><div class="prompt input_prompt">
</div><div class="inner_cell">
<div class="text_cell_render border-box-sizing rendered_html">
<h2 id="5.1)-Probability-distribution-of-the-real-life-data">5.1) Probability distribution of the real-life data<a class="anchor-link" href="#5.1)-Probability-distribution-of-the-real-life-data">&#182;</a></h2>
</div>
</div>
</div>
<div class="cell border-box-sizing code_cell rendered">
<div class="input">
<div class="prompt input_prompt">In&nbsp;[16]:</div>
<div class="inner_cell">
    <div class="input_area">
<div class=" highlight hl-ipython3"><pre><span></span><span class="n">df_real</span> <span class="o">=</span> <span class="n">df_real</span>
<span class="n">n_real</span><span class="p">,</span> <span class="n">p_real</span> <span class="o">=</span> <span class="n">df_real</span><span class="o">.</span><span class="n">shape</span>
<span class="nb">print</span><span class="p">(</span><span class="n">n_real</span><span class="p">,</span> <span class="n">p_real</span><span class="p">)</span>

<span class="n">proba_real</span> <span class="o">=</span> <span class="p">[</span><span class="nb">sum</span><span class="p">(</span><span class="n">df_real</span><span class="p">[</span><span class="n">f</span><span class="p">])</span><span class="o">/</span><span class="n">n_real</span> <span class="k">for</span> <span class="n">f</span> <span class="ow">in</span> <span class="nb">list</span><span class="p">(</span><span class="n">df_real</span><span class="p">)]</span>

<span class="n">plt</span><span class="o">.</span><span class="n">plot</span><span class="p">(</span><span class="n">proba_real</span><span class="p">,</span> <span class="s1">&#39;o&#39;</span><span class="p">)</span>
<span class="n">plt</span><span class="o">.</span><span class="n">xlabel</span><span class="p">(</span><span class="s1">&#39;Index of feature&#39;</span><span class="p">)</span>
<span class="n">plt</span><span class="o">.</span><span class="n">ylabel</span><span class="p">(</span><span class="s1">&#39;Bernoulli probability success&#39;</span><span class="p">)</span>
<span class="n">plt</span><span class="o">.</span><span class="n">title</span><span class="p">(</span><span class="s1">&#39;For the real-life dataset&#39;</span><span class="p">)</span>
<span class="n">plt</span><span class="o">.</span><span class="n">show</span><span class="p">()</span>
</pre></div>

    </div>
</div>
</div>

<div class="output_wrapper">
<div class="output">


<div class="output_area">

    <div class="prompt"></div>


<div class="output_subarea output_stream output_stdout output_text">
<pre>46520 1071
</pre>
</div>
</div>

<div class="output_area">

    <div class="prompt"></div>




<div class="output_png output_subarea ">
<img src="data:image/png;base64,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
"
>
</div>

</div>

</div>
</div>

</div>
<div class="cell border-box-sizing text_cell rendered"><div class="prompt input_prompt">
</div><div class="inner_cell">
<div class="text_cell_render border-box-sizing rendered_html">
<h2 id="5.2)-Probability-distribution-of-the-fictitious-generated-data">5.2) Probability distribution of the fictitious generated data<a class="anchor-link" href="#5.2)-Probability-distribution-of-the-fictitious-generated-data">&#182;</a></h2>
</div>
</div>
</div>
<div class="cell border-box-sizing code_cell rendered">
<div class="input">
<div class="prompt input_prompt">In&nbsp;[17]:</div>
<div class="inner_cell">
    <div class="input_area">
<div class=" highlight hl-ipython3"><pre><span></span><span class="n">n_fict</span><span class="p">,</span> <span class="n">p_fict</span> <span class="o">=</span> <span class="n">df_fict</span><span class="o">.</span><span class="n">shape</span>
<span class="nb">print</span><span class="p">(</span><span class="n">n_fict</span><span class="p">,</span> <span class="n">p_fict</span><span class="p">)</span>

<span class="n">proba_fict</span> <span class="o">=</span> <span class="p">[</span><span class="nb">sum</span><span class="p">(</span><span class="n">df_fict</span><span class="p">[</span><span class="n">f</span><span class="p">])</span><span class="o">/</span><span class="n">n_fict</span> <span class="k">for</span> <span class="n">f</span> <span class="ow">in</span> <span class="nb">list</span><span class="p">(</span><span class="n">df_fict</span><span class="p">)]</span>

<span class="n">plt</span><span class="o">.</span><span class="n">plot</span><span class="p">(</span><span class="n">proba_fict</span><span class="p">,</span> <span class="s1">&#39;o&#39;</span><span class="p">)</span>
<span class="n">plt</span><span class="o">.</span><span class="n">xlabel</span><span class="p">(</span><span class="s1">&#39;Index of feature&#39;</span><span class="p">)</span>
<span class="n">plt</span><span class="o">.</span><span class="n">ylabel</span><span class="p">(</span><span class="s1">&#39;Bernoulli probability success&#39;</span><span class="p">)</span>
<span class="n">plt</span><span class="o">.</span><span class="n">title</span><span class="p">(</span><span class="s1">&#39;For the fictitious generated dataset&#39;</span><span class="p">)</span>
<span class="n">plt</span><span class="o">.</span><span class="n">show</span><span class="p">()</span>
</pre></div>

    </div>
</div>
</div>

<div class="output_wrapper">
<div class="output">


<div class="output_area">

    <div class="prompt"></div>


<div class="output_subarea output_stream output_stdout output_text">
<pre>10000 1071
</pre>
</div>
</div>

<div class="output_area">

    <div class="prompt"></div>




<div class="output_png output_subarea ">
<img src="data:image/png;base64,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
"
>
</div>

</div>

</div>
</div>

</div>
<div class="cell border-box-sizing text_cell rendered"><div class="prompt input_prompt">
</div><div class="inner_cell">
<div class="text_cell_render border-box-sizing rendered_html">
<h2 id="5.3)-Comparison:-dimension-wise-probability">5.3) Comparison: dimension-wise probability<a class="anchor-link" href="#5.3)-Comparison:-dimension-wise-probability">&#182;</a></h2>
</div>
</div>
</div>
<div class="cell border-box-sizing code_cell rendered">
<div class="input">
<div class="prompt input_prompt">In&nbsp;[18]:</div>
<div class="inner_cell">
    <div class="input_area">
<div class=" highlight hl-ipython3"><pre><span></span><span class="n">xaxis</span> <span class="o">=</span> <span class="n">proba_real</span>
<span class="n">yaxis</span> <span class="o">=</span> <span class="n">proba_fict</span>

<span class="n">start</span> <span class="o">=</span> <span class="nb">min</span><span class="p">(</span><span class="n">np</span><span class="o">.</span><span class="n">min</span><span class="p">(</span><span class="n">xaxis</span><span class="p">),</span> <span class="n">np</span><span class="o">.</span><span class="n">min</span><span class="p">(</span><span class="n">yaxis</span><span class="p">))</span>
<span class="n">stop</span> <span class="o">=</span> <span class="nb">max</span><span class="p">(</span><span class="n">np</span><span class="o">.</span><span class="n">max</span><span class="p">(</span><span class="n">xaxis</span><span class="p">),</span> <span class="n">np</span><span class="o">.</span><span class="n">max</span><span class="p">(</span><span class="n">yaxis</span><span class="p">))</span>
<span class="n">p</span> <span class="o">=</span> <span class="nb">len</span><span class="p">(</span><span class="n">xaxis</span><span class="p">)</span>
<span class="n">X</span> <span class="o">=</span> <span class="n">np</span><span class="o">.</span><span class="n">linspace</span><span class="p">(</span><span class="n">start</span><span class="p">,</span> <span class="n">stop</span><span class="p">,</span> <span class="n">num</span><span class="o">=</span><span class="n">p</span><span class="o">+</span><span class="mi">1</span><span class="p">)</span>

<span class="n">plt</span><span class="o">.</span><span class="n">plot</span><span class="p">(</span><span class="n">xaxis</span><span class="p">,</span> <span class="n">yaxis</span><span class="p">,</span> <span class="s1">&#39;ok&#39;</span><span class="p">,</span> <span class="n">X</span><span class="p">,</span> <span class="n">X</span><span class="p">,</span> <span class="s1">&#39;-g&#39;</span><span class="p">);</span>

<span class="n">plt</span><span class="o">.</span><span class="n">legend</span><span class="p">([</span><span class="s1">&#39;Bernoulli success probability&#39;</span><span class="p">,</span> <span class="s1">&#39;ideal Bernoulli success probability&#39;</span><span class="p">])</span>
<span class="n">plt</span><span class="o">.</span><span class="n">title</span><span class="p">(</span><span class="s1">&#39;Dimension-wise probability performance of medGAN&#39;</span><span class="p">)</span>
<span class="n">plt</span><span class="o">.</span><span class="n">xlabel</span><span class="p">(</span><span class="s1">&#39;For the real dataset&#39;</span><span class="p">)</span>
<span class="n">plt</span><span class="o">.</span><span class="n">ylabel</span><span class="p">(</span><span class="s1">&#39;For the fictitious generated dataset&#39;</span><span class="p">)</span>
<span class="n">plt</span><span class="o">.</span><span class="n">savefig</span><span class="p">(</span><span class="s1">&#39;accuracy_mimic_binary.png&#39;</span><span class="p">,</span> <span class="n">dpi</span><span class="o">=</span><span class="mi">120</span><span class="p">)</span> <span class="c1"># to save the image in high resolution</span>
<span class="n">plt</span><span class="o">.</span><span class="n">show</span><span class="p">()</span>
</pre></div>

    </div>
</div>
</div>

<div class="output_wrapper">
<div class="output">


<div class="output_area">

    <div class="prompt"></div>




<div class="output_png output_subarea ">
<img src="data:image/png;base64,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
"
>
</div>

</div>

</div>
</div>

</div>
<div class="cell border-box-sizing text_cell rendered"><div class="prompt input_prompt">
</div><div class="inner_cell">
<div class="text_cell_render border-box-sizing rendered_html">
<p>The values of the $x$-axis and the $y$-axis are ordered: we successively compare the Bernoulli success probability of both datasets for a given variable.</p>
<p>For information, we have 1 071 features thus 1 071 scatter points. Note that once we have learned the distribution of our real-life original data, we can generate as many (fake) samples as we want, for example 10 000.</p>
<p>The diagonal green line indicates the ideal performance where the real and the fictitious realistic generated data show identical quality. Based on the graph, as the dots are close to the diagonal green line, we can say that <code>medGAN</code> has a really good accuracy.</p>

</div>
</div>
</div>
<div class="cell border-box-sizing text_cell rendered"><div class="prompt input_prompt">
</div><div class="inner_cell">
<div class="text_cell_render border-box-sizing rendered_html">
<hr>
<p>Back to <a href="#top">top</a>.</p>

</div>
</div>
</div>
    </div>
  </div>
</body>

</html>
